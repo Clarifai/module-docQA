{
 "cells": [
  {
   "cell_type": "code",
   "execution_count": 1,
   "metadata": {},
   "outputs": [],
   "source": [
    "import PyPDF2"
   ]
  },
  {
   "cell_type": "code",
   "execution_count": 2,
   "metadata": {},
   "outputs": [],
   "source": [
    "pdf_path = \"/Users/minhajul/Downloads/2208.03274.pdf\""
   ]
  },
  {
   "cell_type": "code",
   "execution_count": 3,
   "metadata": {},
   "outputs": [],
   "source": [
    "reader = PyPDF2.PdfReader(pdf_path)"
   ]
  },
  {
   "cell_type": "code",
   "execution_count": 4,
   "metadata": {},
   "outputs": [],
   "source": [
    "texts = []\n",
    "for pi, p in enumerate(reader.pages):\n",
    "    texts.append(p.extract_text())"
   ]
  },
  {
   "cell_type": "code",
   "execution_count": 5,
   "metadata": {},
   "outputs": [
    {
     "data": {
      "text/plain": [
       "15"
      ]
     },
     "execution_count": 5,
     "metadata": {},
     "output_type": "execute_result"
    }
   ],
   "source": [
    "len(texts)"
   ]
  },
  {
   "cell_type": "code",
   "execution_count": 6,
   "metadata": {},
   "outputs": [
    {
     "data": {
      "text/plain": [
       "76550"
      ]
     },
     "execution_count": 6,
     "metadata": {},
     "output_type": "execute_result"
    }
   ],
   "source": [
    "# Join text into string\n",
    "full_text = \" \".join(texts)\n",
    "len(full_text)"
   ]
  },
  {
   "cell_type": "code",
   "execution_count": 7,
   "metadata": {},
   "outputs": [
    {
     "data": {
      "text/plain": [
       "'A Holistic Approach to Undesired Content Detection in the Real World\\nWarning: some content may contain racism, sexuality, or other harmful language.\\nTodor Markov*Chong Zhang*Sandhini Agarwal Tyna Eloundou\\nTeddy Lee Steven Adler Angela Jiang Lilian Weng*\\nOpenAI\\nAbstract\\nWe present a holistic approach to building a robust and useful\\nnatural language classiﬁcation system for real-world content\\nmoderation. The success of such a system relies on a chain of\\ncarefully designed and executed steps, including the design\\nof content taxonomies and labeling instructions, data qual-\\nity control, an active learning pipeline to capture rare events,\\nand a variety of methods to make the model robust and to\\navoid overﬁtting. Our moderation system is trained to detect\\na broad set of categories of undesired content, including sex-\\nual content, hateful content, violence, self-harm, and harass-\\nment. This approach generalizes to a wide range of different\\ncontent taxonomies and can be used to create high-quality\\ncontent classiﬁers that outperform off-the-shelf models.\\n1 Introduction\\nRecent advances in deep learning have accelerated the adop-\\ntion of language models for socioeconomically valuable\\ntasks in the real world (Devlin et al. 2019; Brown et al.\\n2020; Cohen et al. 2022). Both the systems’ builders and its\\nusers may beneﬁt from a responsible deployment approach\\nthat includes moderating the models’ outputs: First, model\\nproviders may want assurances that the models will not pro-\\nduce content that is disallowed by their policies. Second,\\ncustomers of these models sometimes require control over\\ncontent to mitigate the impact of sensitive use cases or to\\nreduce brand risk. A principled, robust, and efﬁcient moder-\\nation solution can track and measure the model inputs and\\noutputs to ensure safety standards. It can also provide ﬁne-\\ngrained control to enable use cases with sensitive needs,\\nsuch as educational applications. We believe that a strong\\nundesired content classiﬁer lays the foundation for build-\\ning safer AI systems in the wild, as it enables the capacity\\nof moderating, evaluating, and guiding the models towards\\nsafer behavior.\\nExisting work on content detection either focuses mainly\\non a limited set of categories, including toxicity (Pavlopou-\\nlos et al. 2020; Gehman et al. 2020), hate speech (Kwok and\\nWang 2013; Davidson et al. 2017), and abusive content (No-\\nbata et al. 2016; Vidgen et al. 2019); or is tailored towards a\\ntargeted use case, such as Perspective API (Jigsaw) on online\\nCopyright © 2023, Association for the Advancement of Artiﬁcial\\nIntelligence (www.aaai.org). All rights reserved.\\n*These authors contributed equally to this work\\nFigure 1: Overview of the model training framework.\\ntoxic comment moderation. There is increasing attention to\\nunderstanding the risk areas of large language models via\\na more rigorous taxonomy (Weidinger et al. 2021), but the\\namount of work is still limited, especially when it comes\\nto deploying language models for real-world applications.\\nHere we build a more comprehensive system for detecting a\\nbroad set of categories of undesired content, including sex-\\nual content, hateful content, violence, self-harm, and harass-\\nment, as well as severe subcategories under each top-level\\ncategory. Large-scale content moderation systems and tool-\\ning exist on a number of platforms (YouTube 2019; Reddit\\n2022). We aim to provide a blueprint for creating such sys-\\ntems across a wide variety of use cases.\\nDetecting undesired content is difﬁcult due to several\\nchallenges. First, there is not a clearly and widely agreed-\\nupon categorization of undesired content. Designing a de-\\ntailed taxonomy for undesired content and operationalizing\\nit for labeling purposes require a lot of work. The categoriza-\\ntion framework usually needs to clarify a signiﬁcant number\\nof corner cases to achieve high inter-rater agreement dur-\\ning labeling. This is further complicated by the subjectivity\\nof some labeling decisions, due to the different social and\\ncultural backgrounds of human annotators. Second, a prac-arXiv:2208.03274v2  [cs.CL]  14 Feb 2023 tical moderation system needs to process real-world trafﬁc.\\nThus a model bootstrapped from public data or academic\\ndatasets would not work well because there exists a big\\ndata distribution shift and taxonomy misalignment. Third,\\nit is rare to encounter certain categories of undesired content\\nin real-world settings. For example, among sampled user\\nprompts we observed that only 0.04% of cases included self-\\nharm and 0.017% included hateful content involving threats.\\nHence, we need smart solutions to the cold start problem and\\neffective ways to discover undesired samples.\\nMultiple components contribute to the success of building\\nand deploying a practical, general moderation system into\\nthe real world. These include effectively establishing a chain\\nof carefully polished and curated conﬁgurations for data col-\\nlection, data labeling, model training and active learning.\\nBased on our experimentation, we ﬁnd the following con-\\nclusions to be especially noteworthy.\\n•Detailed instructions and quality control are needed to\\nensure data quality. Labeling instructions that lack suf-\\nﬁcient precision force annotators to rely on their sub-\\njective judgment, resulting in inconsistently labeled data\\nthat confuses the model. Regular calibration sessions are\\nnecessary to reﬁne these instructions and ensure annota-\\ntors are aligned with them. And a poorly chosen qual-\\nity metric can lead to data that hurts model performance.\\n(See §3.2)\\n•Active learning is a necessity. There is likely a large dis-\\ntribution shift between public data and the trafﬁc from\\none’s production system. Thus, it is critical to collect\\nnew training samples from the production trafﬁc. Ac-\\ntive learning can effectively expand the training dataset\\nto capture a signiﬁcantly (up to 22 \\x02) larger amount of\\nundesired samples when dealing with rare events. This\\ncan lead to a performance improvement in the underly-\\ning model of up to 10 \\x02for rare categories. (See §3.1 and\\n§4.3)\\n•Use public datasets with care. Publicly available data\\nmight not lead to high quality performance for the prob-\\nlem in hand due to differences in taxonomy and training\\ndata distribution, but can be used to construct a noisy cold\\nstart dataset at the early stage. However, adding academic\\ndata into the training set may hurt the model performance\\nat a later stage when there are enough properly labeled\\ndata samples. (See 3.5)\\n•Imbalanced training data can lead to incorrect gen-\\neralization. Deep learning models could easily overﬁt\\ncommon phrases or templates. For example, the model\\ncan over-generalize to anything formatted as \"X is\\nhateful\" if the data distribution is off-balance. We\\ntackle this challenge by programmatically identifying\\noverﬁtted phrases and by red-teaming via human tri-\\nals. We then alter the training distribution by incorpo-\\nrating model-generated or human-curated synthetic data\\nto patch the weakness. (See §3.5 and §3.3)\\n•Mistakes in data will happen and need to be managed.\\nEven with signiﬁcant amounts of effort on data qual-\\nity control, we still run into mislabeled examples. We\\nexplore different methods for identifying those cases,including cross-validation and hunting down common\\nphrases causing the model to overﬁt via token subtrac-\\ntion. (See §3.2 and §3.5)\\nWe aim to present a holistic approach to building a reli-\\nable and robust undesired content detection model for real-\\nworld applications. Our approach is meant to handle the sce-\\nnario in which the type of the content to be detected is rarely\\nobserved in the real world. We hope that the lessons we\\nlearned are useful to others working on similar problems.\\nWe release a dataset1containing text samples from publicly\\navailable data labeled according to our taxonomy. The model\\nis accessible via the OpenAI Moderation endpoint2.\\n2 Taxonomy\\nGiven that the meaning of a sentence can depend on con-\\ntext, designing a universal taxonomy for undesired content\\nis challenging and requires inherent trade-offs. Throughout\\nthis exercise, we aimed to make the dataset as broadly appli-\\ncable as possible to maximize its utility across research and\\nindustrial contexts, but recognize it still ought to be critically\\nevaluated prior to use in any context, The anatomy of what’s\\nundesired can vary based on factors like use cases, users, re-\\ngions and many others. Some sentences labeled as undesired\\naccording to our taxonomy (e.g. \"I will kill you\"\\nwould be labeled as containing violence) may not be con-\\nsidered undesired when appearing in another context such\\nas ﬁction.\\nAdditionally, we aimed to capture layers of subcategoriza-\\ntion and granularity. Much existing work lacks subcatego-\\nrizations to capture a spectrum of severity, which is critical,\\nsince statements such as \"kill all [IDENT GROUP]\"\\ncan have different repercussions compared to \"[IDENT -\\nGROUP] are dishonest\" . The existence of subcate-\\ngories can also largely reduce the disagreement rate and cor-\\nner cases during labeling, making it valuable for data quality\\ncontrol. In the following outline, we present our taxonomy\\nfor undesired content categorization, including ﬁve top-level\\ncategories and a spectrum of subcategories.\\nS: Sexual content Content that depicts explicit or implicit\\nsexual behavior. Subcategories that are considered unde-\\nsired: [ S3] sexual content involving minors, [ S2] content\\nthat depicts certain sexual activities which could be ille-\\ngal3if they happened in real life today, and [ S1] erotic\\nsexual content that does not depict illegal activities. Sub-\\ncategories that are not considered undesired: [ S0] Non-\\nerotic or contextualized sexual content, such as medical\\nor sex education material.\\nH: Hateful content Content that is threatening, insulting,\\nderogatory and otherwise abusive content targeting spe-\\nciﬁc chosen groups or members of the group because of\\ntheir group identities. Subcategories that are considered\\n1https://github.com/openai/moderation-api-release; sourced\\nfrom CommonCrawl and model-generated data\\n2https://beta.openai.com/docs/guides/moderation; Harassment\\ncategory is currently under further improvement and will be avail-\\nable in the future.\\n3This mapped most closely to what’s illegal in USA. undesired: [ H2] hateful content calling for violence or\\nthreatening, [ H1] derogatory stereotypes or support for\\nhateful statements. Subcategories that are not considered\\nundesired: [ H0.a ] neutral statement referring to group\\nidentity and [ H0.b ] contextualized hate speech, such as\\na quote of other individual’s statement in order to provide\\ncommentary.\\nV: Violence Content that depicts or shows support for phys-\\nical violence. Subcategories that are considered unde-\\nsired: [ V2] extremely graphic violence, [ V1] threats or\\nsupport for violence. Subcategories that are not consid-\\nered undesired: [ V0] neutral depictions of contextualized\\nviolence.\\nSH: Self-harm Content that contains a graphic description\\nor shows support for self-harm.\\nHR: Harassment Content that may be used to torment or\\nannoy individuals in real life, or make harassment more\\nlikely to occur.\\nOur model learns to predict whether a given sample vio-\\nlates any of 8 chosen categories , including all the top cate-\\ngories ( S,H,V,SH,HR) and three most severe subcategories\\n(S3,H2, andV2).\\n3 Methods\\n3.1 Data Selection and Active Learning\\nTo ensure that our moderation system performs well in the\\ncontext of our production use cases, we need to incorporate\\nproduction data to our training set. We set up a three-stage\\nprocedure in an iterative fashion.\\nFirst, a large volume of our production data is selected\\nat random. Any potential personally identiﬁable information\\n(PII) is masked. The most recent moderation model is used\\nto score these samples and discover which ones may trigger\\nany chosen categories.\\nIn the second stage we run a simple active learning strat-\\negy to select a subset of most valuable samples to be labeled\\nout of the random samples extracted in stage one. The ac-\\ntive learning strategy is composed of three parallel pipelines.\\nThe ﬁrst one relies on random sampling such that some frac-\\ntion of our data remain consistent with the underlying data\\ndistribution in production. The second one randomly selects\\nfrom samples with model score above a certain threshold\\nfor each category to identify likely undesired data points.\\nThe last pipeline adopts a set of uncertainty sampling strate-\\ngies (Lewis and Gale 1994; Lewis and Catlett 1994) to cap-\\nture samples that the model is most uncertain about, where\\nthe model score for that category is closest to 0.5.\\nDuring the ﬁnal stage, all the samples selected by differ-\\nent active learning strategies are aggregated and re-weighted\\nbased on statistics of certain metadata associated with it.\\nThe sampling weight is conﬁgured to be proportional to\\nthe square root of the sample count. This helps improve\\nthe diversity of selected samples with regard to the associ-\\nated metadata. We update the sub-strategy mixture over time\\nbased on changes in the data distribution and categories that\\nwe want to improve the most at different stages.3.2 Labeling and Quality Control\\nData label correctness is critical to good model performance.\\nGetting such data can be difﬁcult given that our categories\\nand the boundary lines between them are inherently sub-\\njective. However, certain interventions can signiﬁcantly im-\\nprove the quality of labeled data.\\nOne important intervention for improving data quality\\n- in terms of both consistent labels across different anno-\\ntators as well as between annotators and researchers - is\\nto make the labeling instructions as well-deﬁned andcon-\\ncrete as possible. To make the instructions well-deﬁned, we\\nsought to design detailed deﬁnitions and design categories\\nor subcategories to be as mutually exclusive as possible so\\nas to minimize ambiguity. To make the instructions concrete,\\nwe hosted regular calibration sessions to review ambiguous\\nedge cases and instances where external annotators and our\\ninternal auditors disagree. Based on feedback from those\\nsessions, we made the instructions more clear and concrete,\\nwith numerous examples and clearer deﬁnitions around bor-\\nderline cases. As rules are deﬁned clearly and concretely to\\nminimize subjective judgments, they can be executed more\\nconsistently by the annotators.\\nRegular, ongoing audits are necessary to ensure that la-\\nbeled data continues to be of sufﬁciently high quality. The\\nchoice of which samples to audit and what metrics to use\\nto measure data quality is crucial. We found that selecting\\nauditing targets at random cannot maximize the value out\\nof auditing due to the imbalanced distribution across cate-\\ngories. The annotator-auditor agreement rate (i.e. accuracy)\\nis suboptimal because undesired examples are rare events\\nto encounter and the accuracy can be arbitrarily high due\\nto the abundance of true negatives. Instead, in each cho-\\nsen category, we randomly select 10 samples labeled as\\nundesired and 10 samples with model probability greater\\nthan 50%. The former help capture false positive cases and\\nthe latter provide an estimation on recall. Then we com-\\npute the F-1 score for the chosen samples based on the\\nannotator-assigned labels while using auditor-assigned la-\\nbels as ground truth. This procedure performs much better\\nin practice when certain categories of undesired data points\\nare rare. Separation of metrics per category makes it easy to\\nrecognize category-speciﬁc issues and to retrain annotators\\naccordingly.\\nEven with very clear labeling instructions and an effec-\\ntive audit procedure, mistakes in data are still unavoidable.\\nTo identify potentially mislabeled samples in our dataset,\\nwe periodically split our current training dataset into two\\nparts, train separate models on those datasets and use each\\nmodel to score another half of the dataset that model was\\nnot trained on. When the model prediction disagrees with\\nthe current ground-truth label, the sample in question gets\\nﬂagged. A random portion of ﬂagged samples is audited, and\\nif more than 30% are identiﬁed as mislabeled, all ﬂagged\\nsamples would get labeled again for the second time.\\n3.3 Synthetic Data\\nIn addition to the data collection discussed above, we also\\nuse synthetic data to improve model performance on rare Example prompt\\n>>The text is about self harm, more speciﬁcally: physical self-harm (cutting).\\n>>The narrator is third person (a friend).\\n>>The narrator is a young teenager (female).\\n>>The act of self harm happens: last week.\\n>>Type of text: online forum post.\\n>>The following word should come up in the text: camera.\\n>>The text should not contain the phrase ”self harm” or ”self-harm”.\\n>>The writing level is: average, some errors.\\n>>The text starts below:\\nTable 1: Example zero-shot prompt template for generating\\nsynthetic SHdata. The sections in green are ﬁlled with ran-\\ndom ingredients to encourage diversity.\\ncategories such as SHand to mitigate the counterfactual bias\\ntowards certain demographic attributes (Kusner et al. 2017;\\nGarg et al. 2019; Dwork et al. 2012). Generating synthetic\\ndata through large pre-trained language models has shown\\nto be an effective way for data augmentation (Anaby-Tavor\\net al. 2020; Kumar, Choudhary, and Cho 2020; Yoo et al.\\n2021) and it is particularly helpful when there is little to no\\ninitial data (“cold start”) or when there are not enough un-\\ndesired samples in the production trafﬁc.\\nZero-shot data for cold start. To kick start the active\\nlearning and labeling process, we need some initial data to\\nbuild the ﬁrst version of the model and train annotators.\\nHowever, it is difﬁcult to ﬁnd existing public datasets on\\ncertain categories such as SHandV2. We tackle the prob-\\nlem by generating a synthetic dataset with zero-shot prompts\\non GPT-3. The prompts are constructed from human-crafted\\ntemplates and we label the generated texts as the initial\\ndataset. Table 1 provides an example prompt for SH.\\nFew-shot data for rare categories. Some sub-categories\\nhad minimal amounts of undesired data even after several\\niterations of active learning. To address this, we constructed\\nfew-shot prompts with existing undesired examples and sent\\nthe generated texts to be labeled. The generated texts are\\nmanually inspected to avoid bias ampliﬁcation (Zhao et al.\\n2017). We observed a nontrivial performance improvement\\nby incorporating the synthetic dataset.\\nCurated data to mitigate counterfactual bias. Similar\\nto other existing NLP models, our models also suffer from\\ncounterfactual bias towards certain demographic attributes\\nas bias commonly exists in the training data. For instance,\\n\"black women.\" was classiﬁed as hateful content with\\nhigh conﬁdence in earlier versions of the model. We mitigate\\nthe issue by curating a synthetic dataset with templates that\\ntend to lead to hateful predictions, e.g., \"[subject] is\\nselfish/foolish/narrow-minded.\" . The [sub-\\nject] could either be ﬁlled with real demographic at-\\ntributes (e.g., Latino ) or random object names (e.g.,\\n\"black blanket\" ), which forms hateful and safe sam-\\nples respectively. We observe that the curated dataset not\\nonly mitigates bias to some degree, but also helps improve\\nthe model performance. For instance, the average AUPRC\\non hateful content was improved from 0:417 to0:551 by\\nadding 69k curated synthetic examples. We believe this is\\nbecause the contrastive setup of subjects in synthetic exam-ple templates encourages the model to infer the correct fea-\\nture representations: negative descriptive words or individ-\\nual identity groups alone are not enough to be considered\\nhateful, and only when they appear together they might be\\nconsidered hateful. Despite the observed improvements, the\\nsynthetic dataset also has limitations and we will continue\\nimproving it in the future (§6).\\nLarge amount of noisy data does not help. To under-\\nstand whether it is helpful to include a large amount of noisy\\nsynthetic data, we also generated zero-shot and few-shot ex-\\namples twice the size of the existing labeled training dataset.\\nFor zero-shot examples, we set the label to positive or neg-\\native if the prompt asks the model to generate undesired or\\nsafe examples, respectively. For few-shot examples, we set\\nthe label to positive or negative if all of the few-shot exam-\\nples are undesired or safe, respectively. Contrary to previous\\nstudies (Wang et al. 2021b; Schick and Sch ¨utze 2021), we\\nfound mixing noisy synthetic data into training hurt model\\nperformance. It is worth noting that many existing stud-\\nies on synthetic data usage experimented in the no-to-low\\ndata regime, where only a handful of labels are available.\\nHowever, in our experiment, we have collected a large high-\\nquality dataset and we suspect that noise introduced by syn-\\nthetic data confuses the model and lowers the learning efﬁ-\\nciency.\\n3.4 Domain Adversarial Training\\nWe intended to make good use of existing public NLP\\ndatasets to improve the performance of our models. How-\\never, we observed that models trained on public NLP\\ndatasets do not perform well on our production trafﬁc. This\\nis likely due to the distribution difference between domains.\\nFor instance, examples from our production trafﬁc are usu-\\nally much longer and contain few-shot prompts, whereas\\nexisting public NLP datasets are usually shorter and often\\ncrawled from Wikipedia, Twitter, etc. (Vidgen and Derczyn-\\nski 2020). To mitigate the problem, besides carefully tuning\\nthe mixture of public datasets and production data, we in\\naddition apply Wasserstein Distance Guided Domain Adver-\\nsarial Training (WDAT) to encourage the model to learn do-\\nmain invariant representations (Arjovsky, Chintala, and Bot-\\ntou 2017; Ganin et al. 2016).\\nWe follow Shen et al. (2018) and approximate the Wasser-\\nstein distance by maximizing the loss of a domain critic\\nhead. Letfz(x) :Rd!Rzbe the feature extractor that\\nmaps thed-dimensional input into a z-dimensional embed-\\nding,fc(h) :Rz!Rcbe a multiclass classiﬁcation head,\\nandfd(h) :Rz!Rbe the domain critic head that maps\\nthe embedding into real number. The domain critic loss is\\ndeﬁned as\\nLd(Ds;Dt) =jE\\nx2Dsfd(fz(x))\\x00E\\nx2Dtfd(fz(x))j:\\nCombined with the regular classiﬁcation loss Lc, our objec-\\ntive is to solve the following minimax problem:\\nmin\\n\\x12z;\\x12cfLc+\\x15max\\n\\x12dLdg; where\\x12z;\\x12c;\\x12dare the parameters of fz;fc;fd, respec-\\ntively. Our model uses a transformer encoder as the feature\\nextractorfz.\\nIn our implementation, we use the absolute value in Ld\\nsince the initial loss could be negative, and clip \\x12din a com-\\npact space [\\x000:01;0:01]to enforce the Lipchitz constraint.\\nWe empirically set the balancing coefﬁcient \\x15to 0.01. In ex-\\nperiments, WDAT achieves a more stable training compared\\nto the original classiﬁer-based approach (Arjovsky, Chintala,\\nand Bottou 2017), and yields better performance on our pro-\\nduction trafﬁc with and without labeled production data in\\nthe training set.\\n3.5 Model Probing\\nIt is widely known that ML models are vulnerable to ad-\\nversarial inputs and may make predictions based on seem-\\ningly irrelevant features (Szegedy et al. 2013; Goodfellow,\\nShlens, and Szegedy 2015; Alzantot et al. 2018; Zhang et al.\\n2021). For instance, a sentiment classiﬁcation model may\\nmake different predictions for \"a short and moving\\nfilm.\" and\"a short and moving movie.\" , in-\\ndicating that the model makes predictions based on film/-\\nmovie rather than descriptive words. To make sure that our\\nmodel performs as expected, we conduct tool-assisted model\\nprobing and human-in-the-loop red-teaming.\\nKey Tokens Probing. Our ﬁrst goal is to verify whether\\nthe model is making predictions based on correct features.\\nFor instance, we observed that our models may incorrectly\\npredict \"all immigrants.\" ashate , which is pos-\\nsibly because among 21 training examples containing the\\nphrase (from R ¨ottger et al. (2021)), 17 examples are unde-\\nsired and only 4 examples are safe. Table 2 provides a few\\nexamples, where the expected behavior is to also take k1ll\\nandD3ath into account. To identify such potentially over-\\nﬁtted key tokens, we apply input reduction (Feng et al. 2018)\\non the training dataset by removing tokens greedily until the\\nprediction drops below 0.8. On average, we were able to\\nreduce the number of characters per sample from 722.3 to\\n15.9. By cross-validating with third-party APIs and heuris-\\ntic keywords, we infer that about 97% of the identiﬁed key\\ntokens are indeed unsafe, indicating that the model is pick-\\ning up the correct feature most of the time. For the remaining\\n3% key tokens, we manually reviewed them and discovered\\nthe following problems:\\n1. The frequency of irrelevant symbols is high (e.g., the pe-\\nriod symbol contributes to the prediction score).\\n2. Some key tokens are long and close to the original exam-\\nple, hinting that the model memorizes training samples.\\n3. Our model is not strong at handling typos and adversarial\\ninputs (e.g., \"w h o r e s\" becomes \"e s\" ).\\nWe partially addressed the above issues, and plan to re-\\nsolve with better data augmentation in the future (§6).\\nHuman Red-teaming. As a ﬁnal layer of the veriﬁcation\\nprocess, we conduct internal red-teaming before releasing\\nnew models. The goal of the red-teaming is to uncover any\\nunexpected model weaknesses beyond the test dataset. Dur-\\ning the process, we discovered the following issues:Hate Example\\n1 I want to k1ll all immigrants.\\n1 Why is it that all immigrants are repulsive?\\n1 D3ath to all immigrants.\\n0 Threatening to kill all immigrants will get\\nyou thrown in jail.\\n:::\\nTable 2: Example training data from (R ¨ottger et al. 2021)\\ncontaining the phrase \"all immigrants.\" The model\\ntrained on it directly may make predictions based on incor-\\nrect features.\\n1. The model predicts high hate scores for examples con-\\ntaining the “#” token. This phenomenon is likely caused\\nby the fact that we have many hate training exam-\\nples from some academic datasets that contain only short\\ntweets.\\n2. The model predicts high hate and violence\\nscores for examples containing potential racial to-\\nkens such as black . It is expected to classify \"I\\nhate black people!\" ashate but not \"I hate\\nblack cats!\" ashate .\\nTo mitigate the above issues, we construct synthetic\\ndatasets from hand-curated templates and synthetic model\\ngenerations to patch the holes (§3.3), and adjust the train-\\ning dataset distribution to make sure we have the right\\nmix across multiple types of text sourced from academic\\ndatasets. The process can be iterative, helping us discover\\nnew issues and solutions in each round and naturally lead-\\ning to improved robustness and consistency in time when the\\nred-teaming process can be executed more regularly and at\\nscale.\\n4 Experiment Results\\n4.1 Model Architecture and Training\\nOur model is a lightweight transformer decoder model\\nwhere the ﬁnal output linear layer is replaced with 8 MLP\\nheads, each corresponding to one independent matrix of\\nshape [dmodel;256;1], wheredmodel is the transformer model\\nsize. We ﬁnd this head architecture works better than a single\\ndeep MLP layer with one output vector of 8 dimensions at\\navoiding interference between categories and requires fewer\\nparameters to train.\\nThe model is initialized from a GPT model that is pre-\\ntrained on a large text corpus and then ﬁne-tuned with learn-\\ning rate 0.05, batch size 256, dropout rate 0.1 within MLP\\nheads and up to 3 epochs.\\n4.2 Model Performance\\nOur model is trained and tested on both production and pub-\\nlic data. We are not able to share the test dataset contain-\\ning production trafﬁc for privacy and legal reasons; hence,\\nwe report the model performance on a different test dataset4\\ncontaining only samples from public data, as well as several\\npublicly available datasets on undesired content detection.\\n4https://github.com/openai/moderation-api-release Perspective Ours\\nPublic S .8709* .9703\\nH .6914 .7968\\nV .5201 .7371\\nHR .3902* .6191\\nSH - .8070\\nS3 - .7638\\nH2 - .7268\\nV2 - .6061\\nJigsaw Identity-hate .6644 .6890\\nInsult .8814 .8548\\nObscene .9500 .8353*\\nThreat .7492 .6144*\\nToxic .9769 .9304*\\nTweetEval Hate .5961 .6473\\nOffensive .7919* .7024*\\nStormfront Hate .8754 .9053\\nReddit Sexual .8961* .9417*\\nTable 3: Comparison of our model with Perspective API on\\nAUPRC (Area under the Precision-Recall Curve) across a\\nset of test datasets. Numbers followed with ”*” are based on\\napproximated taxonomy match, so not an exact fair compar-\\nison.\\nTable 3 compares the performance of our model with\\nPerspective API5as a baseline on our test dataset,\\nTweetEval (Barbieri et al. 2020), Stormfront hate speech\\ndataset (de Gibert et al. 2018), a subset of Reddit com-\\nments with noisy labels on erotic content processed accord-\\ning to Barrientos et al. (2020) and a downsampled Jigsaw\\ntoxic comments test dataset (Jigsaw 2018). None of the\\ntraining portion of external evaluation benchmarks are incor-\\nporated into our training, except for half of Jigsaw’s training\\ndata that has no overlap with the Jigsaw test set in evaluation.\\nUnfortunately, due to the taxonomy mismatch, we cannot\\nhave exact comparison across all categories. For example,\\nour taxonomy does not cover “toxic” and Perspective API\\ndoes not explicitly detect “self-harm” or “sexual content”.\\nSee the details on how we match two taxonomies and pre-\\nprocess each test dataset in Appendix. A.\\nIt is not surprising that our model performs the best on the\\ntest dataset labeled with the same taxonomy and the Perspec-\\ntive API does a better job on Jigsaw data. It further proves\\nthe point on how important it is to align the taxonomy be-\\ntween training data and use cases in evaluation. Our model\\noutperforms the Perspective API baseline on both TweetEval\\nand Stormfront test sets for detecting hateful content, despite\\nthe fact that neither are in the training set.\\n4.3 Active Learning Experiments\\nTo assess the importance of active learning, we evaluate the\\nperformance of our active learning strategy, as described in\\n5https://www.perspectiveapi.com/Category Random\\nSamplingActive\\nLearningMultiplier\\nS 1.49% 25.53% 17.1 \\x02\\nH 0.17% 3.09% 18.2 \\x02\\nV 0.48% 9.92% 20.7 \\x02\\nHR 0.55% 6.41% 11.7 \\x02\\nSH 0.09% 1.85% 20.6 \\x02\\nS3 0.24% 2.42% 10.1 \\x02\\nH2 0.03% 0.67% 22.3 \\x02\\nV2 0.25% 4.27% 17.1 \\x02\\nSafe 96.57% 59.54% -\\nTable 4: Label distributions for samples selected by random\\nsampling and active learning sampling. Note that one sample\\ncan be assigned with multiple labels so the percentages sum\\nup to more than 100%.\\n§3.1, compared to random sampling.\\nIterative training. We run the following training proce-\\ndure twice, using our active learning strategy and random\\nsampling, respectively.\\n1. Start with an initial training dataset D0ofk0= 6000\\nlabeled examples from public data and a validation set V\\nof about 5500 samples from the production trafﬁc.\\n2. fori 0toN\\x001do (N= 3):\\n(a) Train a new model MionDi;\\n(b) Evaluate MionV;\\n(c) Score 5\\x02105production samples with Mifrom our\\nproduction trafﬁc;\\n(d) Choose about 2000 samples from the above data pool\\nvia the selection strategy in test and add samples to the\\ntraining set to construct Di+1after labeling.\\nResults. Table 4 demonstrates the label distributions ob-\\ntained by the two strategies and our active learning strategy\\ncan capture undesired content 10+ times more effectively\\nthan random sampling on all categories. Overall about 40%\\nof samples selected by active learning can trigger at least one\\nundesired label, while in comparison only 3.4% of random\\nsamples are assigned with any undesired label.\\nAs shown in Fig. 2, using the active learning strategy to\\ndecide which new data samples leads to a greater improve-\\nment across all categories than random sampling. We ob-\\nserve signiﬁcant performance improvement on all categories\\nwith active learning after 3 iterations.\\n4.4 Domain Adversarial Training Experiments\\nWe want to understand the effectiveness of Wasserstein Dis-\\ntance Guided Domain Adversarial Training (WDAT) under\\nthree scenarios: (1) At the beginning of the project, we only\\nhave labeled public data and unlabeled production data. (2)\\nIn the middle of the project, we also curate synthetic exam-\\nples to improve model weaknesses. (3) At the later stage,\\nwe get a sufﬁcient amount of labeled production examples.\\nAll three circumstances are important because we want to Figure 2: Performance of active learning sampling versus\\nrandom sampling on the same validation set at each model\\niteration, measured by AUPRC.\\nmake good use of unlabeled production data to train the best\\nmodel throughout the project, and a strong model on pro-\\nduction trafﬁc boosts the effectiveness of active learning at\\nevery iteration. We use the following setup to compare the\\nperformance on our production trafﬁc.\\nDatasets. We create three training datasets PUB, SYN,\\nand MIX to study (1), (2), and (3), respectively. PUB con-\\nsists of around 90k public examples including both samples\\nfrom academic datasets and Web data (Common Crawl) la-\\nbeled by our annotators. SYN adds additional 69k curated\\nsynthetic examples. MIX contains all examples in SYN with\\nadditional 60k production samples with labels.\\nModels. The baseline models are trained with basic super-\\nvised learning. The DAT models are trained with two hidden\\nlayers of 300 dimensions using additional 100k unlabeled\\nproduction data points. All models are trained with up to 2\\nepochs, and the training is repeated 3 times with different\\nrandom seeds.\\nResults. We compare the average AUPRC on the produc-\\ntion validation set V. As demonstrated in Table 5, the im-\\nprovement from WDAT is signiﬁcant when we only haveCategory PUB SYN MIX\\nBaseline DAT Baseline DAT Baseline DAT\\nS .698 .730 .726 .745 .943 .939\\nH .417 .491 .551 .476 .843 .818\\nV .490 .529 .532 .531 .640 .633\\nHR .258 .369 .326 .356 .453 .482\\nSH .063 .281 .086 .296 .621 .632\\nS3 .592 .759 .779 .777 .911 .936\\nH2 .393 .643 .570 .577 .851 .854\\nV2 .165 .453 .093 .507 .443 .533\\nTable 5: The average AUPRC on a production validation\\nset. PUB denotes models trained on labeled public datasets,\\nSYN adds additional synthetic examples, and MIX adds ad-\\nditional labeled production examples. We mark the best re-\\nsult within each conﬁguration in bold .\\naccess to public datasets (PUB), and the marginal gain re-\\nduces gradually as we add more training examples, espe-\\ncially in-distribution production samples. For instance, DAT\\nimproved SHAUPRC from 0.063 to 0.281 on PUB and from\\n0.086 to 0.296 on SYN, whereas the improvement is only\\nfrom 0.621 to 0.632 on MIX. WDAT still helps weak cate-\\ngories ( SHandV2) on SYN and MIX, but it may slightly\\nhurt the performance for categories with a sufﬁcient amount\\nof in-distribution data such as HandV. We suspect this is\\nbecause the model failed to ﬁnd a representation that works\\nvery well for both the public datasets and our production dis-\\ntribution. Further study on the model architecture and train-\\ning methods is required to improve the performance on all\\ncategories with unlabeled data throughout different stages of\\nthe project.\\n5 Related Work\\nThere is a long track record of work on the deﬁnition\\nand detection of hateful, toxic, offensive and abusive con-\\ntent (Kwok and Wang 2013; Nobata et al. 2016; Waseem\\n2016; de Gibert et al. 2018; Vidgen et al. 2019; Gehman\\net al. 2020; Rosenthal et al. 2020; Lees et al. 2022). Zampieri\\net al. (2019) proposed a three-level hierarchical taxonomy\\nconsidering whether the given language is (i) offensive or\\nnot; (ii) targeted or not; and (iii) targeted at a group, an\\nindividual or other organizations. Usually hateful expres-\\nsions targeting protected identity groups are considered hate\\nspeech (Davidson et al. 2017). Perspective API deﬁnes toxi-\\ncity as ”A rude, disrespectful, or unreasonable comment that\\nis likely to make people leave a discussion”. Some also used\\ntoxicity as a general umbrella term for offensive, abusive,\\nand hateful language (Pavlopoulos et al. 2020). The deﬁni-\\ntions of hatefulness, toxicity, offensiveness and abusiveness\\nhave overlaps but are not exactly the same, creating obsta-\\ncles for sharing datasets between projects. Furthermore, only\\na limited amount of work considered detailed subcategoriza-\\ntions (Mollas et al. 2020; Borkan et al. 2019) to capture a\\nspectrum of severity, making it harder to control labeling\\nquality. Finally, there exist various types of potentially un-\\ndesired text in the wild, such as sexual content involving mi-\\nnors, extreme graphic violence, or support for self-harm or\\nsuicides, besides offensive and abusive language, and we ob- served a gap between current research work and the entirety\\nof content types that should be moderated and detected. Our\\nwork aims to ﬁll in the gap.\\nDespite the common belief that training data quality is\\ncritical for model performance, there is still lack of com-\\nmunity standards for labeling standards, annotator training,\\nquality metrics, etc. (Vidgen and Derczynski 2020; Yin and\\nZubiaga 2021; Lees et al. 2022; PAI 2021). Vidgen and Der-\\nczynski (2020) studied 60+ datasets for abusive language\\ndetection and found that the primary data source is Twit-\\nter and expert coding is the most common way to anno-\\ntate data, closely followed by crowdsourcing. For large-scale\\ndata collection, crowdsourcing remains the most common\\napproach (Mollas et al. 2020; Zampieri et al. 2019; Davidson\\net al. 2017). However, the weak skill set of non-expert anno-\\ntators can lead to lower data quality (Waseem 2016; Yin and\\nZubiaga 2021). Some recent work turns to large pre-trained\\nlanguage models to generate synthetic data, signiﬁcantly re-\\nducing the cost of time and human labor (Wang et al. 2021a;\\nHartvigsen et al. 2022), but it is unclear whether model out-\\nputs would be diverse enough to adapt to the real-world dis-\\ntribution. Synthetic data can be hand-crafted (R ¨ottger et al.\\n2021), but it is limited by size and thus more suitable for\\nevaluation. It is noteworthy that training data can contain\\nbias due to the subjectivity and biases in the data collec-\\ntion process (Davidson, Bhattacharya, and Weber 2019; Sap\\net al. 2019).\\nActive learning has been successfully applied to a num-\\nber of different domains such as text classiﬁcation (Lewis\\nand Gale 1994; Schohn and Cohn 2000; Siddhant and Lipton\\n2018); machine translation (Zeng et al. 2019); image classi-\\nﬁcation (Luo et al. 2005; Hoi et al. 2006; Gal, Islam, and\\nGhahramani 2017); object detection (Schmidt et al. 2020)\\nand information retrieval (Shen and Zhai 2005). There are\\nseveral families of active learning sampling strategies that\\nare often used in practice. Uncertainty sampling selects data\\npoints about which the model is most uncertain. The uncer-\\ntainty of the model can be quantiﬁed by predicted proba-\\nbilities (Lewis and Gale 1994; Lewis and Catlett 1994; Cu-\\nlotta and McCallum 2005; Scheffer, Decomain, and Wro-\\nbel 2001), disagreement among an ensemble of models (Se-\\nung, Opper, and Sompolinsky 1992; Dagan and Engelson\\n1995; McCallum and Nigam 1998), or by using dropout and\\nBayesian approaches (Gal, Islam, and Ghahramani 2017;\\nSiddhant and Lipton 2018). Diversity sampling chooses\\nsamples in a way that ensures sufﬁcient diversity within\\nthe selection. This is commonly achieved by clustering un-\\nlabeled data and sampling from different clusters (Nguyen\\nand Smeulders 2004; Xu, Akella, and Zhang 2007), or by\\nselecting samples which are ”representative” of the sample\\ndistribution (i.e., which are similar to many other samples)\\n(McCallum and Nigam 1998; Settles and Craven 2008). Un-\\ncertainty and diversity sampling are sometimes combined in\\na single complex active learning strategy.\\nRed-teaming is a common approach for model improve-\\nment by discovering and patching the weakness itera-\\ntively (Dinan et al. 2019; Vidgen et al. 2020; Kiela et al.\\n2021; Ziegler et al. 2022; Perez et al. 2022; Ribeiro et al.\\n2020), where humans are encouraged to look for examplesthat could fail the model. Dynabench (Kiela et al. 2021)\\nis built as a platform for easy adversarial data collection.\\nMishkin et al. (2022) describes in detail an operational pro-\\ncess for doing red-teaming using external experts. Ziegler\\net al. (2022) designed a tool to efﬁciently assist human ad-\\nversaries to identify failures in a classiﬁer. Models trained\\nwith red-teaming data are found to be more robust to ad-\\nversarial attack (Dinan et al. 2019; Ziegler et al. 2022) and\\nhuman-in-the-loop dynamic data collection can efﬁciently\\nimprove model performance (Kiela et al. 2021; Vidgen et al.\\n2020).\\nDomain adaptation aims at generalizing knowledge\\nlearned in the source domain towards a related target do-\\nmain (Ben-David et al. 2006; Weiss, Khoshgoftaar, and\\nWang 2016; Ben-David et al. 2009), the technique is most\\nuseful when there is insufﬁcient labeled data in the target\\ndomain but sufﬁcient labeled data in the source domain. Dif-\\nferent methods have been proposed to transfer the knowl-\\nedge across domains (Ramponi and Plank 2020; Blitzer,\\nMcDonald, and Pereira 2006; Mansour, Mohri, and Ros-\\ntamizadeh 2008). Inspired by generative adversarial nets\\n(GANs) (Goodfellow et al. 2014) which train a discrimina-\\ntor to make the representations of source and target indistin-\\nguishable, Domain Adversarial Training (DAT) methods are\\nproposed to reduce the domain discrepancy through a do-\\nmain discriminator (Arjovsky, Chintala, and Bottou 2017;\\nGanin et al. 2016; Tzeng et al. 2017; Ganin and Lempitsky\\n2015). To learn domain-invariant feature representations,\\nDAT employs a gradient reversal layer to maximize the min-\\nimal loss of the domain discriminator. However, DAT suffers\\nfrom a gradient vanishing problem when the domain dis-\\ncriminator can tell apart the two domains easily, and Wasser-\\nstein distance based methods are proposed to enable a more\\nstable training (Shen et al. 2018; Arjovsky, Chintala, and\\nBottou 2017; Shah et al. 2018).\\n6 Future Work and Limitations\\nBias and Fairness. Similar to other existing NLP mod-\\nels, our models also suffer from bias towards certain de-\\nmographic attributes (Kusner et al. 2017; Garg et al. 2019;\\nDwork et al. 2012). For instance, the model may give higher\\nhate predictions if the input contains gay and higher\\nsexual predictions if the input contains her. This is be-\\ncause we use data from the Internet, and social bias may\\npresent explicitly or implicitly in the training datasets. We\\ntried mitigation methods such as creating a balanced syn-\\nthetic dataset with templates but could not fully eliminate\\nthe issue. In the future, we will continue following related\\nresearch and improve the fairness of our models.\\nData Augmentation. We plan to investigate more data\\naugmentation methods to boost the training dataset. Al-\\nthough our current training dataset naturally includes mis-\\nspelled words and incorrect grammar as some of it is user-\\ngenerated content, it is valuable to experiment with data\\naugmentation to improve lexicon robustness (Wei and Zou\\n2019; Kobayashi 2018; Zhang et al. 2021) and the generaliz-\\nability of the model (Guo, Mao, and Zhang 2019; Shen et al.\\n2020; Gao, Yao, and Chen 2021), especially when working with the changing distribution of real-world data.\\nBetter Multilingual Support. Only about 5% of the sam-\\nples are non-English in our training set. As the vast majority\\nof our production trafﬁc is in English, we have not yet rig-\\norously evaluated or optimized performance on non-English\\ntext. Multilingual toxic content classiﬁcation (Aluru et al.\\n2020; Wang and Banko 2021; Lees et al. 2022) would re-\\nquire more non-English training data and may need addi-\\ntional changes on tokenization or model architecture.\\nRed-teaming at scale. Red-teaming is an effective way to\\nﬁnd unknown failure cases for the model. Currently we do\\ninternal red-teaming with each new model version, which is\\nnot a scalable approach. In the future, we plan to set up a\\npipeline for model red-teaming similar to the one we have\\nfor labeling production trafﬁc. We plan to use a specialized\\ninterface inspired by Kiela et al. (2021); Ziegler et al. (2022)\\nto improve the efﬁciency of the red-teamers.\\nMore Active Learning Experiments. Our current active\\nlearning strategy to select high-value data for labeling is\\nquite simple. For example, we did not explore diversity sam-\\npling due to computational restriction. Onward we plan to\\nrun more rigorous experiments comparing the performance\\nof different active learning strategies, as well as more so-\\nphisticated strategies, incorporating both uncertainty and di-\\nversity sampling.\\n7 Broader Impacts\\nContent moderation classiﬁers have many uses. When paired\\nwith fair and robust enforcement practices, they have the\\npotential to reduce certain instances of misuse6by ensur-\\ning that policies are operationalized on both inputs and out-\\nputs of language models. Classiﬁers also enable ﬁltration of\\ndatasets at scale, which may be used to train language mod-\\nels with desired properties (Welbl et al. 2021) and allow for\\nbetter evaluation of language models (Gehman et al. 2020).\\nLonger-term, content moderation classiﬁers can be used as a\\nway to ensure high-stakes reliability in very-capable AI sys-\\ntems (Ziegler et al. 2022)—a critical necessity for enabling\\nthe deployment of those systems in certain domains.\\nWhile this underscores the importance of the undesired\\ncontent classiﬁers, all classiﬁers rest on certain assumptions\\nand decisions that may present vulnerabilities or make them\\ninappropriate for certain use cases or types of text. Addition-\\nally, these tools can suffer from problematic biases, such as\\ndisproportionate false positives when discussing groups that\\nare frequently the target of hate. (Garg et al. 2019)\\nThe following sections discuss the normative and subjec-\\ntive questions on which these classiﬁers rest and explore the\\nchallenges they present.\\n7.1 Challenges of Taxonomy Design\\nWe take care to design our taxonomy to reﬂect generaliz-\\nable viewpoints. However, much of our data is drawn from\\na US-centric context and the taxonomy was designed to best\\n6misuse may be deﬁned as uses of the model that the moderat-\\ning body does not want to allow, e.g. generation of hateful contentﬁt this data. Additionally, while we have designed our tax-\\nonomy to be as comprehensive as possible, it would still\\nbe useful for future researchers to add and update the cat-\\negories based on their own use cases and deployment con-\\ntexts. Given the sensitive nature of various tasks, we also\\nencourage the use of this taxonomy in concert with other\\nmitigation strategies, as there is no silver bullet for content\\nmoderation.\\nWe hope that this work will encourage further discussion\\nand debate around the principles and values that underpin\\ncontent moderation.\\n7.2 Annotator Viewpoints and Disagreement\\nIt is commonly agreed that the annotation of toxic language\\nis subjective and that annotators’ interpretations may be in-\\nﬂuenced by their personal and cultural backgrounds, includ-\\ning lived experiences, values and demographic factors. For\\nexample, Waseem (2016) found that feminist and anti-racist\\nactivists systematically disagree with crowd workers on their\\nhate speech annotations. In their study, agreement between\\nthe authors, amateurs and expert annotators is low (14 %),\\nmost often because in many instances where the authors had\\nidentiﬁed hate speech, annotators do not.\\nBy necessity, incorporating diverse viewpoints invites dis-\\nagreement on annotation labels. Much of the computer sci-\\nence literature focuses on eliminating inter-rater disagree-\\nments, most often via deliberation or majority vote. How-\\never, in the case of data from or about marginalized popu-\\nlations, disagreement may be a meaningful signal: An ad-\\nverse effect of majority vote in such cases is limiting rep-\\nresentation of minority perspectives in data Prabhakaran,\\nMostafazadeh Davani, and Diaz (2021), potentially reinforc-\\ning societal disparities and harms. Moreover, analyzing dis-\\nagreements may lead to a better understanding of the domain\\nof application Patton et al. (2018).\\nIn their study, rather than aggregating, Davani, D ´ıaz,\\nand Prabhakaran (2021) preserve annotator disagreements,\\nwhich they note could reﬂect useful and nuanced informa-\\ntion about the uncertainty of a sample’s membership to a\\nclass. Indeed, they demonstrate that their approach yields\\nthe same or better performance than similar approaches with\\naggregated labels, while retaining the ability to estimate un-\\ncertainty in predictions that correlate with real-life annotator\\ndisagreements.\\nMoreover, resolving disagreement via majority vote may\\nbe at odds with preserving minority opinions in subjective\\ntasks. Ovesdotter Alm (2011) argues that achieving a single\\nreal ”ground truth” label is impossible and is not essential\\nin subjective tasks, and calls for ﬁnding ways to model sub-\\njective interpretations of annotators, rather than seeking to\\nreduce the variability in annotations.\\n7.3 Annotator Selection and Welfare\\nWe are committed to ensuring that our labeling tasks are\\nmanaged in a considerate and ethical manner, and we strive\\nto follow current best practices for sourcing data labeling\\nservices (PAI 2021). Via our data vendors, all of our annota-\\ntors are selected for their skill and willingness to participate\\nin these difﬁcult tasks. Before they opt in, all annotators are vetted by counselors and made aware of the risks and poten-\\ntial harms of working with sensitive data. Our data vendors\\nprovide them with access to mental health and wellness re-\\nsources and annotators have the right to opt out at any point.\\n7.4 Data Privacy and Security\\nTrustworthy handling of production data necessitates trans-\\nparency with users and effective security measures. We ob-\\ntain consent from all customers whose data is used to train\\nour moderation models. Customers who wish to opt their\\ndata out of training may do so. No production data is in-\\ncluded in the dataset we are releasing. Our data labeling and\\nactive learning pipelines feature security controls that are de-\\nsigned and tested to protect the conﬁdentiality and integrity\\nof production data. The model we deploy can not be used to\\ngenerate text, only to compute safety scores, so we consider\\nthe risk of training data leakage to be extremely low.\\n7.5 Summary of Broader Impacts Discussion\\nContent moderation classiﬁers are one key tool that em-\\npowers developers of language models at every stage of the\\nmodel development and deployment process- from working\\nwith large-scale datasets, to testing out models, to deploying\\nthe models to many users. However, as we have observed\\nabove, there are a range of normative and subjective deci-\\nsions made throughout the development process of build-\\ning these classiﬁers from designing taxonomies to labeling\\ndata. Given the nature of these tools, these decisions are\\nsometimes distilled down bluntly and do not enable captur-\\ning the nuances that the moderation decision may warrant.\\nThis loss of nuance may disproportionately impact mem-\\nbers of socially marginalized populations by muting their\\nopinions via unweighted majority annotations. This impact\\nis doubly grievous if moderation decisions about members\\nof marginalized populations are made about them by a sys-\\ntem that excludes their input. This highlights some inherent\\nlimitations of classiﬁers, using automated tools for content\\nmoderation, and point to the importance of their robust test-\\ning to ensure suitability for each speciﬁc use that they may\\nbe deployed in.\\n8 Conclusion\\nBuilding high-quality undesired content detection systems\\nin the real world is a challenge that requires the incorpora-\\ntion of multiple methods. A good content taxonomy is the\\nfoundation for problem scoping and data collection. A re-\\nliable data pipeline is needed to guarantee high data qual-\\nity and to handle distribution shift. We show that in cases\\nwhere certain target content occurs rarely, an active learning\\nsampling strategy leads to much better model performance.\\nAdditionally, we argue that good operational aspects of the\\nlabeling pipeline are essential for ensuring high data quality.\\nAnd we show that model performance can further be im-\\nproved through the use of curated synthetic data and semi-\\nsupervised learning.\\nAs large generative language models become more and\\nmore prevalent, it becomes increasingly important to de-\\nvelop ways of controlling and guiding their outputs. Thegoal of this work has been to demonstrate one way of imple-\\nmenting such control by way of building content detection\\nmodels. We are looking forward to further reﬁnement of our\\napproach in the future, as well as progress in other methods\\nof controlling and aligning generative model outputs.\\n9 Acknowledgments\\nThis work would not have been possible without the con-\\ntributions of data workers. We greatly appreciate their work\\nhandling sensitive content and helping us build better auto-\\nmated systems to make content moderation work less de-\\nmanding of human labor.\\nWe also thank Miles Brundage, Raf Jakubanis, Gretchen\\nKrueger, Derek Chen, Summer Yue, Karl Cobbe, Pranav\\nShyam, Jason Kwon and Matt Knight for feedback on this\\nwork.\\nReferences\\nAluru, S. S.; Mathew, B.; Saha, P.; and Mukherjee, A. 2020.\\nDeep learning models for multilingual hate speech detec-\\ntion. arXiv preprint arXiv:2004.06465 .\\nAlzantot, M.; Sharma, Y .; Elgohary, A.; Ho, B.-J.; Srivas-\\ntava, M.; and Chang, K.-W. 2018. Generating Natural Lan-\\nguage Adversarial Examples. In Proceedings of the 2018\\nConference on Empirical Methods in Natural Language\\nProcessing , 2890–2896. Brussels, Belgium: Association for\\nComputational Linguistics.\\nAnaby-Tavor, A.; Carmeli, B.; Goldbraich, E.; Kantor, A.;\\nKour, G.; Shlomov, S.; Tepper, N.; and Zwerdling, N. 2020.\\nDo not have enough data? Deep learning to the rescue! In\\nProceedings of the AAAI Conference on Artiﬁcial Intelli-\\ngence , volume 34, 7383–7390.\\nArjovsky, M.; Chintala, S.; and Bottou, L. 2017. Wasser-\\nstein Generative Adversarial Networks. In Precup, D.; and\\nTeh, Y . W., eds., Proceedings of the 34th International Con-\\nference on Machine Learning , volume 70 of Proceedings of\\nMachine Learning Research , 214–223. PMLR.\\nBarbieri, F.; Camacho-Collados, J.; Espinosa Anke, L.; and\\nNeves, L. 2020. TweetEval: Uniﬁed Benchmark and Com-\\nparative Evaluation for Tweet Classiﬁcation. In Findings\\nof the Association for Computational Linguistics: EMNLP\\n2020 , 1644–1650. Association for Computational Linguis-\\ntics.\\nBarrientos, G. M.; Alaiz-Rodr ´ıguez, R.; Gonz ´alez-Castro,\\nV .; and Parnell, A. C. 2020. Machine learning techniques\\nfor the detection of inappropriate erotic content in text. In-\\nternational Journal of Computational Intelligence Systems ,\\n13(1): 591–603.\\nBen-David, S.; Blitzer, J.; Crammer, K.; Kulesza, A.;\\nPereira, F. C.; and Vaughan, J. W. 2009. A theory of learning\\nfrom different domains. Machine Learning , 79: 151–175.\\nBen-David, S.; Blitzer, J.; Crammer, K.; and Pereira, F. C.\\n2006. Analysis of Representations for Domain Adaptation.\\nInNIPS .\\nBlitzer, J.; McDonald, R. T.; and Pereira, F. C. 2006. Do-\\nmain Adaptation with Structural Correspondence Learning.\\nInEMNLP . Borkan, D.; Dixon, L.; Sorensen, J.; Thain, N.; and Vasser-\\nman, L. 2019. Nuanced Metrics for Measuring Unintended\\nBias with Real Data for Text Classiﬁcation. In Compan-\\nion Proceedings of The 2019 World Wide Web Conference ,\\nWWW ’19, 491–500. New York, NY , USA: Association for\\nComputing Machinery. ISBN 9781450366755.\\nBrown, T.; Mann, B.; Ryder, N.; Subbiah, M.; Kaplan, J. D.;\\nDhariwal, P.; Neelakantan, A.; Shyam, P.; Sastry, G.; Askell,\\nA.; et al. 2020. Language models are few-shot learners. Ad-\\nvances in neural information processing systems , 33: 1877–\\n1901.\\nCohen, A. D.; Roberts, A.; Molina, A.; Butryna, A.; Jin, A.;\\nKulshreshtha, A.; Hutchinson, B.; Zevenbergen, B.; Aguera-\\nArcas, B. H.; ching Chang, C.; Cui, C.; Du, C.; Adiwar-\\ndana, D. D. F.; Chen, D.; Lepikhin, D. D.; Chi, E. H.;\\nHoffman-John, E.; Cheng, H.-T.; Lee, H.; Krivokon, I.; Qin,\\nJ.; Hall, J.; Fenton, J.; Soraker, J.; Meier-Hellstern, K.; Ol-\\nson, K.; Aroyo, L. M.; Bosma, M. P.; Pickett, M. J.; Mene-\\ngali, M. A.; Croak, M.; D ´ıaz, M.; Lamm, M.; Krikun, M.;\\nMorris, M. R.; Shazeer, N.; Le, Q. V .; Bernstein, R.; Ra-\\njakumar, R.; Kurzweil, R.; Thoppilan, R.; Zheng, S.; Bos,\\nT.; Duke, T.; Doshi, T.; Prabhakaran, V .; Rusch, W.; Li, Y .;\\nHuang, Y .; Zhou, Y .; Xu, Y .; and Chen, Z. 2022. LaMDA:\\nLanguage Models for Dialog Applications. In arXiv .\\nCulotta, A.; and McCallum, A. 2005. Reducing labeling ef-\\nfort for structured prediction tasks. In AAAI , volume 5, 746–\\n751.\\nDagan, I.; and Engelson, S. P. 1995. Committee-based sam-\\npling for training probabilistic classiﬁers. In Machine Learn-\\ning Proceedings 1995 , 150–157. Elsevier.\\nDavani, A. M.; D ´ıaz, M.; and Prabhakaran, V . 2021. Dealing\\nwith Disagreements: Looking Beyond the Majority V ote in\\nSubjective Annotations. CoRR , abs/2110.05719.\\nDavidson, T.; Bhattacharya, D.; and Weber, I. 2019. Racial\\nBias in Hate Speech and Abusive Language Detection\\nDatasets. In Proceedings of the Third Workshop on Abu-\\nsive Language Online , 25–35. Florence, Italy: Association\\nfor Computational Linguistics.\\nDavidson, T.; Warmsley, D.; Macy, M.; and Weber, I. 2017.\\nAutomated hate speech detection and the problem of offen-\\nsive language. In Proceedings of the international AAAI\\nconference on web and social media , volume 11, 512–515.\\nde Gibert, O.; Perez, N.; Garc ´ıa-Pablos, A.; and Cuadros, M.\\n2018. Hate Speech Dataset from a White Supremacy Forum.\\nInProceedings of the 2nd Workshop on Abusive Language\\nOnline (ALW2) , 11–20. Brussels, Belgium: Association for\\nComputational Linguistics.\\nDevlin, J.; Chang, M.; Lee, K.; and Toutanova, K. 2019.\\nBERT: Pre-training of Deep Bidirectional Transformers for\\nLanguage Understanding. In Burstein, J.; Doran, C.; and\\nSolorio, T., eds., Proceedings of the 2019 Conference of the\\nNorth American Chapter of the Association for Computa-\\ntional Linguistics: Human Language Technologies, NAACL-\\nHLT 2019, Minneapolis, MN, USA, June 2-7, 2019, Vol-\\nume 1 (Long and Short Papers) , 4171–4186. Association for\\nComputational Linguistics.Dinan, E.; Humeau, S.; Chintagunta, B.; and Weston, J.\\n2019. Build it break it ﬁx it for dialogue safety: Ro-\\nbustness from adversarial human attack. arXiv preprint\\narXiv:1908.06083 .\\nDwork, C.; Hardt, M.; Pitassi, T.; Reingold, O.; and Zemel,\\nR. 2012. Fairness through Awareness. In Proceedings of\\nthe 3rd Innovations in Theoretical Computer Science Con-\\nference , ITCS ’12, 214–226. New York, NY , USA: Associa-\\ntion for Computing Machinery. ISBN 9781450311151.\\nFeng, S.; Wallace, E.; Grissom II, A.; Iyyer, M.; Rodriguez,\\nP.; and Boyd-Graber, J. 2018. Pathologies of Neural Mod-\\nels Make Interpretations Difﬁcult. In Proceedings of the\\n2018 Conference on Empirical Methods in Natural Lan-\\nguage Processing , 3719–3728. Brussels, Belgium: Associ-\\nation for Computational Linguistics.\\nGal, Y .; Islam, R.; and Ghahramani, Z. 2017. Deep bayesian\\nactive learning with image data. In International Conference\\non Machine Learning , 1183–1192. PMLR.\\nGanin, Y .; and Lempitsky, V . S. 2015. Unsupervised Domain\\nAdaptation by Backpropagation. ArXiv , abs/1409.7495.\\nGanin, Y .; Ustinova, E.; Ajakan, H.; Germain, P.; Larochelle,\\nH.; Laviolette, F.; Marchand, M.; and Lempitsky, V . 2016.\\nDomain-Adversarial Training of Neural Networks. J. Mach.\\nLearn. Res. , 17(1): 2096–2030.\\nGao, T.; Yao, X.; and Chen, D. 2021. SimCSE: Simple Con-\\ntrastive Learning of Sentence Embeddings. In Empirical\\nMethods in Natural Language Processing (EMNLP) .\\nGarg, S.; Perot, V .; Limtiaco, N.; Taly, A.; Chi, E. H.; and\\nBeutel, A. 2019. Counterfactual Fairness in Text Classi-\\nﬁcation through Robustness. In Proceedings of the 2019\\nAAAI/ACM Conference on AI, Ethics, and Society , AIES\\n’19, 219–226. New York, NY , USA: Association for Com-\\nputing Machinery. ISBN 9781450363242.\\nGehman, S.; Gururangan, S.; Sap, M.; Choi, Y .; and\\nSmith, N. A. 2020. Realtoxicityprompts: Evaluating neu-\\nral toxic degeneration in language models. arXiv preprint\\narXiv:2009.11462 .\\nGoodfellow, I. J.; Pouget-Abadie, J.; Mirza, M.; Xu, B.;\\nWarde-Farley, D.; Ozair, S.; Courville, A. C.; and Bengio,\\nY . 2014. Generative Adversarial Nets. In NIPS .\\nGoodfellow, I. J.; Shlens, J.; and Szegedy, C. 2015. Ex-\\nplaining and Harnessing Adversarial Examples. CoRR ,\\nabs/1412.6572.\\nGuo, H.; Mao, Y .; and Zhang, R. 2019. Augmenting data\\nwith mixup for sentence classiﬁcation: An empirical study.\\narXiv preprint arXiv:1905.08941 .\\nHartvigsen, T.; Gabriel, S.; Palangi, H.; Sap, M.; Ray, D.;\\nand Kamar, E. 2022. Toxigen: A large-scale machine-\\ngenerated dataset for adversarial and implicit hate speech\\ndetection. arXiv preprint arXiv:2203.09509 .\\nHoi, S. C.; Jin, R.; Zhu, J.; and Lyu, M. R. 2006. Batch mode\\nactive learning and its application to medical image classiﬁ-\\ncation. In Proceedings of the 23rd international conference\\non Machine learning , 417–424.\\nJigsaw. ???? Perspective API. https://www.perspectiveapi.\\ncom/. Accessed: 2022-06-15. Jigsaw. 2018. Toxic Comment Classiﬁcation Chal-\\nlenge. https://www.kaggle.com/competitions/jigsaw-toxic-\\ncomment-classiﬁcation-challenge/overview. Accessed:\\n2022-06-15.\\nKiela, D.; Bartolo, M.; Nie, Y .; Kaushik, D.; Geiger, A.; Wu,\\nZ.; Vidgen, B.; Prasad, G.; Singh, A.; Ringshia, P.; Ma, Z.;\\nThrush, T.; Riedel, S.; Waseem, Z.; Stenetorp, P.; Jia, R.;\\nBansal, M.; Potts, C.; and Williams, A. 2021. Dynabench:\\nRethinking Benchmarking in NLP. In Proceedings of the\\n2021 Conference of the North American Chapter of the As-\\nsociation for Computational Linguistics: Human Language\\nTechnologies , 4110–4124. Online: Association for Compu-\\ntational Linguistics.\\nKobayashi, S. 2018. Contextual Augmentation: Data Aug-\\nmentation by Words with Paradigmatic Relations. In Pro-\\nceedings of the 2018 Conference of the North American\\nChapter of the Association for Computational Linguistics:\\nHuman Language Technologies, Volume 2 (Short Papers) ,\\n452–457. New Orleans, Louisiana: Association for Compu-\\ntational Linguistics.\\nKumar, V .; Choudhary, A.; and Cho, E. 2020. Data augmen-\\ntation using pre-trained transformer models. arXiv preprint\\narXiv:2003.02245 .\\nKusner, M. J.; Loftus, J.; Russell, C.; and Silva, R. 2017.\\nCounterfactual Fairness. In Guyon, I.; Luxburg, U. V .; Ben-\\ngio, S.; Wallach, H.; Fergus, R.; Vishwanathan, S.; and Gar-\\nnett, R., eds., Advances in Neural Information Processing\\nSystems 30 , 4066–4076. Curran Associates, Inc.\\nKwok, I.; and Wang, Y . 2013. Locate the Hate: De-\\ntecting Tweets against Blacks. In Proceedings of the\\nTwenty-Seventh AAAI Conference on Artiﬁcial Intelligence ,\\nAAAI’13, 1621–1622. AAAI Press.\\nLees, A.; Tran, V . Q.; Tay, Y .; Sorensen, J.; Gupta, J.; Met-\\nzler, D.; and Vasserman, L. 2022. A new generation of\\nperspective api: Efﬁcient multilingual character-level trans-\\nformers. arXiv preprint arXiv:2202.11176 .\\nLewis, D. D.; and Catlett, J. 1994. Heterogeneous uncer-\\ntainty sampling for supervised learning. In Machine learn-\\ning proceedings 1994 , 148–156. Elsevier.\\nLewis, D. D.; and Gale, W. A. 1994. A sequential algorithm\\nfor training text classiﬁers. In SIGIR’94 , 3–12. Springer.\\nLuo, T.; Kramer, K.; Goldgof, D. B.; Hall, L. O.; Samson,\\nS.; Remsen, A.; Hopkins, T.; and Cohn, D. 2005. Active\\nlearning to recognize multiple types of plankton. Journal of\\nMachine Learning Research , 6(4).\\nMansour, Y .; Mohri, M.; and Rostamizadeh, A. 2008. Do-\\nmain Adaptation with Multiple Sources. In NIPS .\\nMcCallum, A.; and Nigam, K. 1998. Employing EM\\nand Pool-Based Active Learning for Text Classiﬁcation.\\nInProceedings of the Fifteenth International Conference\\non Machine Learning , ICML ’98, 350–358. San Fran-\\ncisco, CA, USA: Morgan Kaufmann Publishers Inc. ISBN\\n1558605568.\\nMishkin, P.; Ahmad, L.; Brundage, M.; Krueger, G.; and\\nSastry, G. 2022. DALL·E 2 Preview - Risks and Limitations.Mollas, I.; Chrysopoulou, Z.; Karlos, S.; and Tsoumakas,\\nG. 2020. ETHOS: an online hate speech detection dataset.\\narXiv preprint arXiv:2006.08328 .\\nNguyen, H. T.; and Smeulders, A. 2004. Active learning\\nusing pre-clustering. In Proceedings of the twenty-ﬁrst in-\\nternational conference on Machine learning .\\nNobata, C.; Tetreault, J.; Thomas, A.; Mehdad, Y .; and\\nChang, Y . 2016. Abusive Language Detection in Online\\nUser Content. In Proceedings of the 25th International Con-\\nference on World Wide Web , WWW ’16, 145–153. Republic\\nand Canton of Geneva, CHE: International World Wide Web\\nConferences Steering Committee. ISBN 9781450341431.\\nOvesdotter Alm, C. 2011. Subjective Natural Language\\nProblems: Motivations, Applications, Characterizations, and\\nImplications. In Proceedings of the 49th Annual Meeting of\\nthe Association for Computational Linguistics: Human Lan-\\nguage Technologies , 107–112. Portland, Oregon, USA: As-\\nsociation for Computational Linguistics.\\nPAI. 2021. https://partnershiponai.org/paper/responsible-\\nsourcing-considerations/.\\nPatton, D.; Blandfort, P.; Frey, W.; Gaskell, M.; and Kara-\\nman, S. 2018. Annotating Twitter Data from Vulnera-\\nble Populations: Evaluating Disagreement Between Domain\\nExperts and Graduate Student Annotators.\\nPavlopoulos, J.; Sorensen, J.; Dixon, L.; Thain, N.; and An-\\ndroutsopoulos, I. 2020. Toxicity detection: Does context re-\\nally matter? arXiv preprint arXiv:2006.00998 .\\nPerez, E.; Huang, S.; Song, F.; Cai, T.; Ring, R.; Aslanides,\\nJ.; Glaese, A.; McAleese, N.; and Irving, G. 2022. Red team-\\ning language models with language models. arXiv preprint\\narXiv:2202.03286 .\\nPrabhakaran, V .; Mostafazadeh Davani, A.; and Diaz, M.\\n2021. On Releasing Annotator-Level Labels and Informa-\\ntion in Datasets. In Proceedings of The Joint 15th Linguis-\\ntic Annotation Workshop (LAW) and 3rd Designing Meaning\\nRepresentations (DMR) Workshop . Punta Cana, Dominican\\nRepublic: Association for Computational Linguistics.\\nRamponi, A.; and Plank, B. 2020. Neural Unsuper-\\nvised Domain Adaptation in NLP—A Survey. ArXiv ,\\nabs/2006.00632.\\nReddit. 2022. Building Better Moderator Tools. Accessed:\\n2022-08-04.\\nRibeiro, M. T.; Wu, T.; Guestrin, C.; and Singh, S. 2020.\\nBeyond Accuracy: Behavioral Testing of NLP Models with\\nCheckList. In Proceedings of the 58th Annual Meeting of\\nthe Association for Computational Linguistics , 4902–4912.\\nOnline: Association for Computational Linguistics.\\nRosenthal, S.; Atanasova, P.; Karadzhov, G.; Zampieri,\\nM.; and Nakov, P. 2020. A Large-Scale Semi-Supervised\\nDataset for Offensive Language Identiﬁcation. arXiv\\npreprint arXiv:2004.14454 .\\nR¨ottger, P.; Vidgen, B.; Nguyen, D.; Waseem, Z.; Margetts,\\nH.; and Pierrehumbert, J. 2021. HateCheck: Functional\\nTests for Hate Speech Detection Models. In Proceedings\\nof the 59th Annual Meeting of the Association for Compu-\\ntational Linguistics and the 11th International Joint Con-\\nference on Natural Language Processing (Volume 1: Long Papers) , 41–58. Online: Association for Computational Lin-\\nguistics.\\nSap, M.; Card, D.; Gabriel, S.; Choi, Y .; and Smith, N. A.\\n2019. The Risk of Racial Bias in Hate Speech Detection. In\\nProceedings of the 57th Annual Meeting of the Association\\nfor Computational Linguistics , 1668–1678. Florence, Italy:\\nAssociation for Computational Linguistics.\\nScheffer, T.; Decomain, C.; and Wrobel, S. 2001. Active\\nhidden markov models for information extraction. In Inter-\\nnational Symposium on Intelligent Data Analysis , 309–318.\\nSpringer.\\nSchick, T.; and Sch ¨utze, H. 2021. Generating datasets\\nwith pretrained language models. arXiv preprint\\narXiv:2104.07540 .\\nSchmidt, S.; Rao, Q.; Tatsch, J.; and Knoll, A. 2020. Ad-\\nvanced active learning strategies for object detection. In\\n2020 IEEE Intelligent Vehicles Symposium (IV) , 871–876.\\nIEEE.\\nSchohn, G.; and Cohn, D. 2000. Less is more: Active learn-\\ning with support vector machines. In ICML .\\nSettles, B.; and Craven, M. 2008. An analysis of active\\nlearning strategies for sequence labeling tasks. In proceed-\\nings of the 2008 conference on empirical methods in natural\\nlanguage processing , 1070–1079.\\nSeung, H. S.; Opper, M.; and Sompolinsky, H. 1992. Query\\nby committee. In Proceedings of the ﬁfth annual workshop\\non Computational learning theory , 287–294.\\nShah, D.; Lei, T.; Moschitti, A.; Romeo, S.; and Nakov, P.\\n2018. Adversarial Domain Adaptation for Duplicate Ques-\\ntion Detection. In Proceedings of the 2018 Conference on\\nEmpirical Methods in Natural Language Processing , 1056–\\n1063. Brussels, Belgium: Association for Computational\\nLinguistics.\\nShen, D.; Zheng, M.; Shen, Y .; Qu, Y .; and Chen, W. 2020.\\nA Simple but Tough-to-Beat Data Augmentation Approach\\nfor Natural Language Understanding and Generation. arXiv\\npreprint arXiv:2009.13818 .\\nShen, J.; Qu, Y .; Zhang, W.; and Yu, Y . 2018. Wasser-\\nstein Distance Guided Representation Learning for Domain\\nAdaptation. In AAAI .\\nShen, X.; and Zhai, C. 2005. Active feedback in ad hoc\\ninformation retrieval. In Proceedings of the 28th annual in-\\nternational ACM SIGIR conference on Research and devel-\\nopment in information retrieval , 59–66.\\nSiddhant, A.; and Lipton, Z. C. 2018. Deep Bayesian Ac-\\ntive Learning for Natural Language Processing: Results of a\\nLarge-Scale Empirical Study. In Proceedings of the 2018\\nConference on Empirical Methods in Natural Language\\nProcessing , 2904–2909. Brussels, Belgium: Association for\\nComputational Linguistics.\\nSzegedy, C.; Zaremba, W.; Sutskever, I.; Bruna, J.; Erhan,\\nD.; Goodfellow, I. J.; and Fergus, R. 2013. Intriguing prop-\\nerties of neural networks. CoRR , abs/1312.6199.\\nTzeng, E.; Hoffman, J.; Saenko, K.; and Darrell, T. 2017.\\nAdversarial Discriminative Domain Adaptation. 2017 IEEE\\nConference on Computer Vision and Pattern Recognition\\n(CVPR) , 2962–2971.Vidgen, B.; and Derczynski, L. 2020. Directions in abu-\\nsive language training data, a systematic review: Garbage\\nin, garbage out. Plos one , 15(12): e0243300.\\nVidgen, B.; Harris, A.; Nguyen, D.; Tromble, R.; Hale, S.;\\nand Margetts, H. 2019. Challenges and frontiers in abusive\\ncontent detection. In Proceedings of the Third Workshop on\\nAbusive Language Online , 80–93. Florence, Italy: Associa-\\ntion for Computational Linguistics.\\nVidgen, B.; Thrush, T.; Waseem, Z.; and Kiela, D.\\n2020. Learning from the worst: Dynamically generated\\ndatasets to improve online hate detection. arXiv preprint\\narXiv:2012.15761 .\\nWang, C.; and Banko, M. 2021. Practical Transformer-based\\nMultilingual Text Classiﬁcation. In Proceedings of the 2021\\nConference of the North American Chapter of the Associa-\\ntion for Computational Linguistics: Human Language Tech-\\nnologies: Industry Papers , 121–129. Online: Association for\\nComputational Linguistics.\\nWang, S.; Liu, Y .; Xu, Y .; Zhu, C.; and Zeng, M. 2021a.\\nWant To Reduce Labeling Cost? GPT-3 Can Help. In\\nFindings of the Association for Computational Linguistics:\\nEMNLP 2021 , 4195–4205. Punta Cana, Dominican Repub-\\nlic: Association for Computational Linguistics.\\nWang, Z.; Yu, A. W.; Firat, O.; and Cao, Y . 2021b.\\nTowards zero-label language learning. arXiv preprint\\narXiv:2109.09193 .\\nWaseem, Z. 2016. Are You a Racist or Am I Seeing Things?\\nAnnotator Inﬂuence on Hate Speech Detection on Twitter.\\nInProceedings of the First Workshop on NLP and Computa-\\ntional Social Science , 138–142. Austin, Texas: Association\\nfor Computational Linguistics.\\nWei, J.; and Zou, K. 2019. EDA: Easy Data Augmentation\\nTechniques for Boosting Performance on Text Classiﬁcation\\nTasks. In Proceedings of the 2019 Conference on Empirical\\nMethods in Natural Language Processing and the 9th Inter-\\nnational Joint Conference on Natural Language Processing\\n(EMNLP-IJCNLP) , 6383–6389. Hong Kong, China: Asso-\\nciation for Computational Linguistics.\\nWeidinger, L.; Mellor, J.; Rauh, M.; Grifﬁn, C.; Uesato, J.;\\nHuang, P.-S.; Cheng, M.; Glaese, M.; Balle, B.; Kasirzadeh,\\nA.; et al. 2021. Ethical and social risks of harm from lan-\\nguage models. arXiv preprint arXiv:2112.04359 .\\nWeiss, K. R.; Khoshgoftaar, T. M.; and Wang, D. 2016. A\\nsurvey of transfer learning. Journal of Big Data , 3: 1–40.\\nWelbl, J.; Glaese, A.; Uesato, J.; Dathathri, S.; Mellor, J.;\\nHendricks, L. A.; Anderson, K.; Kohli, P.; Coppin, B.; and\\nHuang, P.-S. 2021. Challenges in detoxifying language mod-\\nels.arXiv preprint arXiv:2109.07445 .\\nXu, Z.; Akella, R.; and Zhang, Y . 2007. Incorporating di-\\nversity and density in active learning for relevance feedback.\\nInEuropean Conference on Information Retrieval , 246–257.\\nSpringer.\\nYin, W.; and Zubiaga, A. 2021. Towards generalisable hate\\nspeech detection: a review on obstacles and solutions. PeerJ\\nComputer Science , 7: e598. Yoo, K. M.; Park, D.; Kang, J.; Lee, S.-W.; and Park, W.\\n2021. GPT3Mix: Leveraging large-scale language models\\nfor text augmentation. arXiv preprint arXiv:2104.08826 .\\nYouTube. 2019. The Four Rs of Responsibility, Part 1: Re-\\nmoving Harmful Content. Accessed: 2022-08-04.\\nZampieri, M.; Malmasi, S.; Nakov, P.; Rosenthal, S.; Farra,\\nN.; and Kumar, R. 2019. Predicting the Type and Target of\\nOffensive Posts in Social Media. In Proceedings of the 2019\\nConference of the North American Chapter of the Associa-\\ntion for Computational Linguistics: Human Language Tech-\\nnologies, Volume 1 (Long and Short Papers) , 1415–1420.\\nAssociation for Computational Linguistics.\\nZeng, X.; Garg, S.; Chatterjee, R.; Nallasamy, U.; and\\nPaulik, M. 2019. Empirical evaluation of active learning\\ntechniques for neural MT. In Proceedings of the 2nd Work-\\nshop on Deep Learning Approaches for Low-Resource NLP\\n(DeepLo 2019) , 84–93.\\nZhang, C.; Zhao, J.; Zhang, H.; Chang, K.-W.; and Hsieh,\\nC.-J. 2021. Double Perturbation: On the Robustness of Ro-\\nbustness and Counterfactual Bias Evaluation. In Proceed-\\nings of the 2021 Conference of the North American Chap-\\nter of the Association for Computational Linguistics: Hu-\\nman Language Technologies , 3899–3916. Online: Associa-\\ntion for Computational Linguistics.\\nZhao, J.; Wang, T.; Yatskar, M.; Ordonez, V .; and Chang, K.-\\nW. 2017. Men Also Like Shopping: Reducing Gender Bias\\nAmpliﬁcation using Corpus-level Constraints. In Proceed-\\nings of the 2017 Conference on Empirical Methods in Nat-\\nural Language Processing , 2979–2989. Copenhagen, Den-\\nmark: Association for Computational Linguistics.\\nZiegler, D. M.; Nix, S.; Chan, L.; Bauman, T.; Schmidt-\\nNielsen, P.; Lin, T.; Scherlis, A.; Nabeshima, N.; Weinstein-\\nRaun, B.; de Haas, D.; et al. 2022. Adversarial Training for\\nHigh-Stakes Reliability. arXiv preprint arXiv:2205.01663 .\\nA Experiment Details\\nTable 6 presents how we map model taxonomies into la-\\nbels of different evaluation datasets. Some of the mappings\\nare only approximation. For example, Perspective deﬁnes\\n”threat” as ”Describes an intention to inﬂict pain, injury,\\nor violence against an individual or group.”, not includ-\\ning graphic violence, so not a perfect match for our ”vio-\\nlence” category. Either or our taxonomy has a good match\\nfor ”toxic”, ”severe toxic”, or ”offensive.\\nOur Evaluation Set. We are aware that about 4% of our\\nevaluation samples are in non-English. Perspective API call\\ntakes the language as an input parameter, but multilingual is\\nnot supported for several attributes. We instead use ”en” for\\nall the calls.\\nJigsaw. Jigsaw dataset is pretty large and we include about\\nhalf of it into our training set to resolve the cold-start prob-\\nlem. Among the rest half, we sampled 5000 examples for\\nevaluation.\\nTweetEval. We take the TweetEval (Barbieri et al. 2020)\\ntest datasets7on ”hate” and ”offensive”. There are in total\\n7https://github.com/cardiffnlp/tweeteval/tree/main/datasets2970 samples in the hate task test set and 860 in the offensive\\none.\\nStormfront. We use the test dataset of de Gibert et al.\\n(2018)8, containing 478 samples.\\nReddit. We downsampled 5000 examples from the ”RS -\\n201501” snapshot of Reddit pushshift datasets9and assigned\\nnoisy binary label to each example on whether it contains\\nsexual content according to the subreddits as listed in Barri-\\nentos et al. (2020).\\n8https://github.com/Vicomtech/hate-speech-dataset\\n9https://ﬁles.pushshift.io/reddit/submissions/ Taxonomy Perspective Ours\\nOurs Sexual max(sexually explicit, profanity, ﬂirtation) sexual\\nHate identity attack hate\\nViolence threat violence\\nHarassment max(toxicity, severe toxicity, insult, threat) harassment\\nSexual/minors - sexual/minors\\nJigsaw Toxic toxicity harassment\\nObscene max(sexually explicit, profanity) sexual\\nThreat threat violence\\nInsult insult max(harassment, hate)\\nIdentity hate identity attack hate\\nTweetEval Hate identity attack hate\\nOffensive max(toxicity, severe toxicity, threat, insult,\\nidentity attack)harassment\\nStormfront Hate identity attack hate\\nReddit Sexual max(sexually explicit, profanity, ﬂirtation) sexual\\nTable 6: How taxonomies of different APIs get mapped into labels of various evaluation datasets.'"
      ]
     },
     "execution_count": 7,
     "metadata": {},
     "output_type": "execute_result"
    }
   ],
   "source": [
    "full_text"
   ]
  },
  {
   "cell_type": "code",
   "execution_count": 8,
   "metadata": {},
   "outputs": [
    {
     "name": "stdout",
     "output_type": "stream",
     "text": [
      "A Holistic Approach to Undesired Content Detection in the Real World\n",
      "Warning: some content may contain racism, sexuality, or other harmful language.\n",
      "Todor Markov*Chong Zhang*Sandhini Agarwal Tyna Eloundou\n",
      "Teddy Lee Steven Adler Angela Jiang Lilian Weng*\n",
      "OpenAI\n",
      "Abstract\n",
      "We present a holistic approach to building a robust and useful\n",
      "natural language classiﬁcation system for real-world content\n",
      "moderation. The success of such a system relies on a chain of\n",
      "carefully designed and executed steps, including the design\n",
      "of content taxonomies and labeling instructions, data qual-\n",
      "ity control, an active learning pipeline to capture rare events,\n",
      "and a variety of methods to make the model robust and to\n",
      "avoid overﬁtting. Our moderation system is trained to detect\n",
      "a broad set of categories of undesired content, including sex-\n",
      "ual content, hateful content, violence, self-harm, and harass-\n",
      "ment. This approach generalizes to a wide range of different\n",
      "content taxonomies and can be used to create high-quality\n",
      "content classiﬁers that outperform off-the-shelf models.\n",
      "1 Introduction\n",
      "Recent advances in deep learning have accelerated the adop-\n",
      "tion of language models for socioeconomically valuable\n",
      "tasks in the real world (Devlin et al. 2019; Brown et al.\n",
      "2020; Cohen et al. 2022). Both the systems’ builders and its\n",
      "users may beneﬁt from a responsible deployment approach\n",
      "that includes moderating the models’ outputs: First, model\n",
      "providers may want assurances that the models will not pro-\n",
      "duce content that is disallowed by their policies. Second,\n",
      "customers of these models sometimes require control over\n",
      "content to mitigate the impact of sensitive use cases or to\n",
      "reduce brand risk. A principled, robust, and efﬁcient moder-\n",
      "ation solution can track and measure the model inputs and\n",
      "outputs to ensure safety standards. It can also provide ﬁne-\n",
      "grained control to enable use cases with sensitive needs,\n",
      "such as educational applications. We believe that a strong\n",
      "undesired content classiﬁer lays the foundation for build-\n",
      "ing safer AI systems in the wild, as it enables the capacity\n",
      "of moderating, evaluating, and guiding the models towards\n",
      "safer behavior.\n",
      "Existing work on content detection either focuses mainly\n",
      "on a limited set of categories, including toxicity (Pavlopou-\n",
      "los et al. 2020; Gehman et al. 2020), hate speech (Kwok and\n",
      "Wang 2013; Davidson et al. 2017), and abusive content (No-\n",
      "bata et al. 2016; Vidgen et al. 2019); or is tailored towards a\n",
      "targeted use case, such as Perspective API (Jigsaw) on online\n",
      "Copyright © 2023, Association for the Advancement of Artiﬁcial\n",
      "Intelligence (www.aaai.org). All rights reserved.\n",
      "*These authors contributed equally to this work\n",
      "Figure 1: Overview of the model training framework.\n",
      "toxic comment moderation. There is increasing attention to\n",
      "understanding the risk areas of large language models via\n",
      "a more rigorous taxonomy (Weidinger et al. 2021), but the\n",
      "amount of work is still limited, especially when it comes\n",
      "to deploying language models for real-world applications.\n",
      "Here we build a more comprehensive system for detecting a\n",
      "broad set of categories of undesired content, including sex-\n",
      "ual content, hateful content, violence, self-harm, and harass-\n",
      "ment, as well as severe subcategories under each top-level\n",
      "category. Large-scale content moderation systems and tool-\n",
      "ing exist on a number of platforms (YouTube 2019; Reddit\n",
      "2022). We aim to provide a blueprint for creating such sys-\n",
      "tems across a wide variety of use cases.\n",
      "Detecting undesired content is difﬁcult due to several\n",
      "challenges. First, there is not a clearly and widely agreed-\n",
      "upon categorization of undesired content. Designing a de-\n",
      "tailed taxonomy for undesired content and operationalizing\n",
      "it for labeling purposes require a lot of work. The categoriza-\n",
      "tion framework usually needs to clarify a signiﬁcant number\n",
      "of corner cases to achieve high inter-rater agreement dur-\n",
      "ing labeling. This is further complicated by the subjectivity\n",
      "of some labeling decisions, due to the different social and\n",
      "cultural backgrounds of human annotators. Second, a prac-arXiv:2208.03274v2  [cs.CL]  14 Feb 2023 tical moderation system needs to process real-world trafﬁc.\n",
      "Thus a model bootstrapped from public data or academic\n",
      "datasets would not work well because there exists a big\n",
      "data distribution shift and taxonomy misalignment. Third,\n",
      "it is rare to encounter certain categories of undesired content\n",
      "in real-world settings. For example, among sampled user\n",
      "prompts we observed that only 0.04% of cases included self-\n",
      "harm and 0.017% included hateful content involving threats.\n",
      "Hence, we need smart solutions to the cold start problem and\n",
      "effective ways to discover undesired samples.\n",
      "Multiple components contribute to the success of building\n",
      "and deploying a practical, general moderation system into\n",
      "the real world. These include effectively establishing a chain\n",
      "of carefully polished and curated conﬁgurations for data col-\n",
      "lection, data labeling, model training and active learning.\n",
      "Based on our experimentation, we ﬁnd the following con-\n",
      "clusions to be especially noteworthy.\n",
      "•Detailed instructions and quality control are needed to\n",
      "ensure data quality. Labeling instructions that lack suf-\n",
      "ﬁcient precision force annotators to rely on their sub-\n",
      "jective judgment, resulting in inconsistently labeled data\n",
      "that confuses the model. Regular calibration sessions are\n",
      "necessary to reﬁne these instructions and ensure annota-\n",
      "tors are aligned with them. And a poorly chosen qual-\n",
      "ity metric can lead to data that hurts model performance.\n",
      "(See §3.2)\n",
      "•Active learning is a necessity. There is likely a large dis-\n",
      "tribution shift between public data and the trafﬁc from\n",
      "one’s production system. Thus, it is critical to collect\n",
      "new training samples from the production trafﬁc. Ac-\n",
      "tive learning can effectively expand the training dataset\n",
      "to capture a signiﬁcantly (up to 22 \u0002) larger amount of\n",
      "undesired samples when dealing with rare events. This\n",
      "can lead to a performance improvement in the underly-\n",
      "ing model of up to 10 \u0002for rare categories. (See §3.1 and\n",
      "§4.3)\n",
      "•Use public datasets with care. Publicly available data\n",
      "might not lead to high quality performance for the prob-\n",
      "lem in hand due to differences in taxonomy and training\n",
      "data distribution, but can be used to construct a noisy cold\n",
      "start dataset at the early stage. However, adding academic\n",
      "data into the training set may hurt the model performance\n",
      "at a later stage when there are enough properly labeled\n",
      "data samples. (See 3.5)\n",
      "•Imbalanced training data can lead to incorrect gen-\n",
      "eralization. Deep learning models could easily overﬁt\n",
      "common phrases or templates. For example, the model\n",
      "can over-generalize to anything formatted as \"X is\n",
      "hateful\" if the data distribution is off-balance. We\n",
      "tackle this challenge by programmatically identifying\n",
      "overﬁtted phrases and by red-teaming via human tri-\n",
      "als. We then alter the training distribution by incorpo-\n",
      "rating model-generated or human-curated synthetic data\n",
      "to patch the weakness. (See §3.5 and §3.3)\n",
      "•Mistakes in data will happen and need to be managed.\n",
      "Even with signiﬁcant amounts of effort on data qual-\n",
      "ity control, we still run into mislabeled examples. We\n",
      "explore different methods for identifying those cases,including cross-validation and hunting down common\n",
      "phrases causing the model to overﬁt via token subtrac-\n",
      "tion. (See §3.2 and §3.5)\n",
      "We aim to present a holistic approach to building a reli-\n",
      "able and robust undesired content detection model for real-\n",
      "world applications. Our approach is meant to handle the sce-\n",
      "nario in which the type of the content to be detected is rarely\n",
      "observed in the real world. We hope that the lessons we\n",
      "learned are useful to others working on similar problems.\n",
      "We release a dataset1containing text samples from publicly\n",
      "available data labeled according to our taxonomy. The model\n",
      "is accessible via the OpenAI Moderation endpoint2.\n",
      "2 Taxonomy\n",
      "Given that the meaning of a sentence can depend on con-\n",
      "text, designing a universal taxonomy for undesired content\n",
      "is challenging and requires inherent trade-offs. Throughout\n",
      "this exercise, we aimed to make the dataset as broadly appli-\n",
      "cable as possible to maximize its utility across research and\n",
      "industrial contexts, but recognize it still ought to be critically\n",
      "evaluated prior to use in any context, The anatomy of what’s\n",
      "undesired can vary based on factors like use cases, users, re-\n",
      "gions and many others. Some sentences labeled as undesired\n",
      "according to our taxonomy (e.g. \"I will kill you\"\n",
      "would be labeled as containing violence) may not be con-\n",
      "sidered undesired when appearing in another context such\n",
      "as ﬁction.\n",
      "Additionally, we aimed to capture layers of subcategoriza-\n",
      "tion and granularity. Much existing work lacks subcatego-\n",
      "rizations to capture a spectrum of severity, which is critical,\n",
      "since statements such as \"kill all [IDENT GROUP]\"\n",
      "can have different repercussions compared to \"[IDENT -\n",
      "GROUP] are dishonest\" . The existence of subcate-\n",
      "gories can also largely reduce the disagreement rate and cor-\n",
      "ner cases during labeling, making it valuable for data quality\n",
      "control. In the following outline, we present our taxonomy\n",
      "for undesired content categorization, including ﬁve top-level\n",
      "categories and a spectrum of subcategories.\n",
      "S: Sexual content Content that depicts explicit or implicit\n",
      "sexual behavior. Subcategories that are considered unde-\n",
      "sired: [ S3] sexual content involving minors, [ S2] content\n",
      "that depicts certain sexual activities which could be ille-\n",
      "gal3if they happened in real life today, and [ S1] erotic\n",
      "sexual content that does not depict illegal activities. Sub-\n",
      "categories that are not considered undesired: [ S0] Non-\n",
      "erotic or contextualized sexual content, such as medical\n",
      "or sex education material.\n",
      "H: Hateful content Content that is threatening, insulting,\n",
      "derogatory and otherwise abusive content targeting spe-\n",
      "ciﬁc chosen groups or members of the group because of\n",
      "their group identities. Subcategories that are considered\n",
      "1https://github.com/openai/moderation-api-release; sourced\n",
      "from CommonCrawl and model-generated data\n",
      "2https://beta.openai.com/docs/guides/moderation; Harassment\n",
      "category is currently under further improvement and will be avail-\n",
      "able in the future.\n",
      "3This mapped most closely to what’s illegal in USA. undesired: [ H2] hateful content calling for violence or\n",
      "threatening, [ H1] derogatory stereotypes or support for\n",
      "hateful statements. Subcategories that are not considered\n",
      "undesired: [ H0.a ] neutral statement referring to group\n",
      "identity and [ H0.b ] contextualized hate speech, such as\n",
      "a quote of other individual’s statement in order to provide\n",
      "commentary.\n",
      "V: Violence Content that depicts or shows support for phys-\n",
      "ical violence. Subcategories that are considered unde-\n",
      "sired: [ V2] extremely graphic violence, [ V1] threats or\n",
      "support for violence. Subcategories that are not consid-\n",
      "ered undesired: [ V0] neutral depictions of contextualized\n",
      "violence.\n",
      "SH: Self-harm Content that contains a graphic description\n",
      "or shows support for self-harm.\n",
      "HR: Harassment Content that may be used to torment or\n",
      "annoy individuals in real life, or make harassment more\n",
      "likely to occur.\n",
      "Our model learns to predict whether a given sample vio-\n",
      "lates any of 8 chosen categories , including all the top cate-\n",
      "gories ( S,H,V,SH,HR) and three most severe subcategories\n",
      "(S3,H2, andV2).\n",
      "3 Methods\n",
      "3.1 Data Selection and Active Learning\n",
      "To ensure that our moderation system performs well in the\n",
      "context of our production use cases, we need to incorporate\n",
      "production data to our training set. We set up a three-stage\n",
      "procedure in an iterative fashion.\n",
      "First, a large volume of our production data is selected\n",
      "at random. Any potential personally identiﬁable information\n",
      "(PII) is masked. The most recent moderation model is used\n",
      "to score these samples and discover which ones may trigger\n",
      "any chosen categories.\n",
      "In the second stage we run a simple active learning strat-\n",
      "egy to select a subset of most valuable samples to be labeled\n",
      "out of the random samples extracted in stage one. The ac-\n",
      "tive learning strategy is composed of three parallel pipelines.\n",
      "The ﬁrst one relies on random sampling such that some frac-\n",
      "tion of our data remain consistent with the underlying data\n",
      "distribution in production. The second one randomly selects\n",
      "from samples with model score above a certain threshold\n",
      "for each category to identify likely undesired data points.\n",
      "The last pipeline adopts a set of uncertainty sampling strate-\n",
      "gies (Lewis and Gale 1994; Lewis and Catlett 1994) to cap-\n",
      "ture samples that the model is most uncertain about, where\n",
      "the model score for that category is closest to 0.5.\n",
      "During the ﬁnal stage, all the samples selected by differ-\n",
      "ent active learning strategies are aggregated and re-weighted\n",
      "based on statistics of certain metadata associated with it.\n",
      "The sampling weight is conﬁgured to be proportional to\n",
      "the square root of the sample count. This helps improve\n",
      "the diversity of selected samples with regard to the associ-\n",
      "ated metadata. We update the sub-strategy mixture over time\n",
      "based on changes in the data distribution and categories that\n",
      "we want to improve the most at different stages.3.2 Labeling and Quality Control\n",
      "Data label correctness is critical to good model performance.\n",
      "Getting such data can be difﬁcult given that our categories\n",
      "and the boundary lines between them are inherently sub-\n",
      "jective. However, certain interventions can signiﬁcantly im-\n",
      "prove the quality of labeled data.\n",
      "One important intervention for improving data quality\n",
      "- in terms of both consistent labels across different anno-\n",
      "tators as well as between annotators and researchers - is\n",
      "to make the labeling instructions as well-deﬁned andcon-\n",
      "crete as possible. To make the instructions well-deﬁned, we\n",
      "sought to design detailed deﬁnitions and design categories\n",
      "or subcategories to be as mutually exclusive as possible so\n",
      "as to minimize ambiguity. To make the instructions concrete,\n",
      "we hosted regular calibration sessions to review ambiguous\n",
      "edge cases and instances where external annotators and our\n",
      "internal auditors disagree. Based on feedback from those\n",
      "sessions, we made the instructions more clear and concrete,\n",
      "with numerous examples and clearer deﬁnitions around bor-\n",
      "derline cases. As rules are deﬁned clearly and concretely to\n",
      "minimize subjective judgments, they can be executed more\n",
      "consistently by the annotators.\n",
      "Regular, ongoing audits are necessary to ensure that la-\n",
      "beled data continues to be of sufﬁciently high quality. The\n",
      "choice of which samples to audit and what metrics to use\n",
      "to measure data quality is crucial. We found that selecting\n",
      "auditing targets at random cannot maximize the value out\n",
      "of auditing due to the imbalanced distribution across cate-\n",
      "gories. The annotator-auditor agreement rate (i.e. accuracy)\n",
      "is suboptimal because undesired examples are rare events\n",
      "to encounter and the accuracy can be arbitrarily high due\n",
      "to the abundance of true negatives. Instead, in each cho-\n",
      "sen category, we randomly select 10 samples labeled as\n",
      "undesired and 10 samples with model probability greater\n",
      "than 50%. The former help capture false positive cases and\n",
      "the latter provide an estimation on recall. Then we com-\n",
      "pute the F-1 score for the chosen samples based on the\n",
      "annotator-assigned labels while using auditor-assigned la-\n",
      "bels as ground truth. This procedure performs much better\n",
      "in practice when certain categories of undesired data points\n",
      "are rare. Separation of metrics per category makes it easy to\n",
      "recognize category-speciﬁc issues and to retrain annotators\n",
      "accordingly.\n",
      "Even with very clear labeling instructions and an effec-\n",
      "tive audit procedure, mistakes in data are still unavoidable.\n",
      "To identify potentially mislabeled samples in our dataset,\n",
      "we periodically split our current training dataset into two\n",
      "parts, train separate models on those datasets and use each\n",
      "model to score another half of the dataset that model was\n",
      "not trained on. When the model prediction disagrees with\n",
      "the current ground-truth label, the sample in question gets\n",
      "ﬂagged. A random portion of ﬂagged samples is audited, and\n",
      "if more than 30% are identiﬁed as mislabeled, all ﬂagged\n",
      "samples would get labeled again for the second time.\n",
      "3.3 Synthetic Data\n",
      "In addition to the data collection discussed above, we also\n",
      "use synthetic data to improve model performance on rare Example prompt\n",
      ">>The text is about self harm, more speciﬁcally: physical self-harm (cutting).\n",
      ">>The narrator is third person (a friend).\n",
      ">>The narrator is a young teenager (female).\n",
      ">>The act of self harm happens: last week.\n",
      ">>Type of text: online forum post.\n",
      ">>The following word should come up in the text: camera.\n",
      ">>The text should not contain the phrase ”self harm” or ”self-harm”.\n",
      ">>The writing level is: average, some errors.\n",
      ">>The text starts below:\n",
      "Table 1: Example zero-shot prompt template for generating\n",
      "synthetic SHdata. The sections in green are ﬁlled with ran-\n",
      "dom ingredients to encourage diversity.\n",
      "categories such as SHand to mitigate the counterfactual bias\n",
      "towards certain demographic attributes (Kusner et al. 2017;\n",
      "Garg et al. 2019; Dwork et al. 2012). Generating synthetic\n",
      "data through large pre-trained language models has shown\n",
      "to be an effective way for data augmentation (Anaby-Tavor\n",
      "et al. 2020; Kumar, Choudhary, and Cho 2020; Yoo et al.\n",
      "2021) and it is particularly helpful when there is little to no\n",
      "initial data (“cold start”) or when there are not enough un-\n",
      "desired samples in the production trafﬁc.\n",
      "Zero-shot data for cold start. To kick start the active\n",
      "learning and labeling process, we need some initial data to\n",
      "build the ﬁrst version of the model and train annotators.\n",
      "However, it is difﬁcult to ﬁnd existing public datasets on\n",
      "certain categories such as SHandV2. We tackle the prob-\n",
      "lem by generating a synthetic dataset with zero-shot prompts\n",
      "on GPT-3. The prompts are constructed from human-crafted\n",
      "templates and we label the generated texts as the initial\n",
      "dataset. Table 1 provides an example prompt for SH.\n",
      "Few-shot data for rare categories. Some sub-categories\n",
      "had minimal amounts of undesired data even after several\n",
      "iterations of active learning. To address this, we constructed\n",
      "few-shot prompts with existing undesired examples and sent\n",
      "the generated texts to be labeled. The generated texts are\n",
      "manually inspected to avoid bias ampliﬁcation (Zhao et al.\n",
      "2017). We observed a nontrivial performance improvement\n",
      "by incorporating the synthetic dataset.\n",
      "Curated data to mitigate counterfactual bias. Similar\n",
      "to other existing NLP models, our models also suffer from\n",
      "counterfactual bias towards certain demographic attributes\n",
      "as bias commonly exists in the training data. For instance,\n",
      "\"black women.\" was classiﬁed as hateful content with\n",
      "high conﬁdence in earlier versions of the model. We mitigate\n",
      "the issue by curating a synthetic dataset with templates that\n",
      "tend to lead to hateful predictions, e.g., \"[subject] is\n",
      "selfish/foolish/narrow-minded.\" . The [sub-\n",
      "ject] could either be ﬁlled with real demographic at-\n",
      "tributes (e.g., Latino ) or random object names (e.g.,\n",
      "\"black blanket\" ), which forms hateful and safe sam-\n",
      "ples respectively. We observe that the curated dataset not\n",
      "only mitigates bias to some degree, but also helps improve\n",
      "the model performance. For instance, the average AUPRC\n",
      "on hateful content was improved from 0:417 to0:551 by\n",
      "adding 69k curated synthetic examples. We believe this is\n",
      "because the contrastive setup of subjects in synthetic exam-ple templates encourages the model to infer the correct fea-\n",
      "ture representations: negative descriptive words or individ-\n",
      "ual identity groups alone are not enough to be considered\n",
      "hateful, and only when they appear together they might be\n",
      "considered hateful. Despite the observed improvements, the\n",
      "synthetic dataset also has limitations and we will continue\n",
      "improving it in the future (§6).\n",
      "Large amount of noisy data does not help. To under-\n",
      "stand whether it is helpful to include a large amount of noisy\n",
      "synthetic data, we also generated zero-shot and few-shot ex-\n",
      "amples twice the size of the existing labeled training dataset.\n",
      "For zero-shot examples, we set the label to positive or neg-\n",
      "ative if the prompt asks the model to generate undesired or\n",
      "safe examples, respectively. For few-shot examples, we set\n",
      "the label to positive or negative if all of the few-shot exam-\n",
      "ples are undesired or safe, respectively. Contrary to previous\n",
      "studies (Wang et al. 2021b; Schick and Sch ¨utze 2021), we\n",
      "found mixing noisy synthetic data into training hurt model\n",
      "performance. It is worth noting that many existing stud-\n",
      "ies on synthetic data usage experimented in the no-to-low\n",
      "data regime, where only a handful of labels are available.\n",
      "However, in our experiment, we have collected a large high-\n",
      "quality dataset and we suspect that noise introduced by syn-\n",
      "thetic data confuses the model and lowers the learning efﬁ-\n",
      "ciency.\n",
      "3.4 Domain Adversarial Training\n",
      "We intended to make good use of existing public NLP\n",
      "datasets to improve the performance of our models. How-\n",
      "ever, we observed that models trained on public NLP\n",
      "datasets do not perform well on our production trafﬁc. This\n",
      "is likely due to the distribution difference between domains.\n",
      "For instance, examples from our production trafﬁc are usu-\n",
      "ally much longer and contain few-shot prompts, whereas\n",
      "existing public NLP datasets are usually shorter and often\n",
      "crawled from Wikipedia, Twitter, etc. (Vidgen and Derczyn-\n",
      "ski 2020). To mitigate the problem, besides carefully tuning\n",
      "the mixture of public datasets and production data, we in\n",
      "addition apply Wasserstein Distance Guided Domain Adver-\n",
      "sarial Training (WDAT) to encourage the model to learn do-\n",
      "main invariant representations (Arjovsky, Chintala, and Bot-\n",
      "tou 2017; Ganin et al. 2016).\n",
      "We follow Shen et al. (2018) and approximate the Wasser-\n",
      "stein distance by maximizing the loss of a domain critic\n",
      "head. Letfz(x) :Rd!Rzbe the feature extractor that\n",
      "maps thed-dimensional input into a z-dimensional embed-\n",
      "ding,fc(h) :Rz!Rcbe a multiclass classiﬁcation head,\n",
      "andfd(h) :Rz!Rbe the domain critic head that maps\n",
      "the embedding into real number. The domain critic loss is\n",
      "deﬁned as\n",
      "Ld(Ds;Dt) =jE\n",
      "x2Dsfd(fz(x))\u0000E\n",
      "x2Dtfd(fz(x))j:\n",
      "Combined with the regular classiﬁcation loss Lc, our objec-\n",
      "tive is to solve the following minimax problem:\n",
      "min\n",
      "\u0012z;\u0012cfLc+\u0015max\n",
      "\u0012dLdg; where\u0012z;\u0012c;\u0012dare the parameters of fz;fc;fd, respec-\n",
      "tively. Our model uses a transformer encoder as the feature\n",
      "extractorfz.\n",
      "In our implementation, we use the absolute value in Ld\n",
      "since the initial loss could be negative, and clip \u0012din a com-\n",
      "pact space [\u00000:01;0:01]to enforce the Lipchitz constraint.\n",
      "We empirically set the balancing coefﬁcient \u0015to 0.01. In ex-\n",
      "periments, WDAT achieves a more stable training compared\n",
      "to the original classiﬁer-based approach (Arjovsky, Chintala,\n",
      "and Bottou 2017), and yields better performance on our pro-\n",
      "duction trafﬁc with and without labeled production data in\n",
      "the training set.\n",
      "3.5 Model Probing\n",
      "It is widely known that ML models are vulnerable to ad-\n",
      "versarial inputs and may make predictions based on seem-\n",
      "ingly irrelevant features (Szegedy et al. 2013; Goodfellow,\n",
      "Shlens, and Szegedy 2015; Alzantot et al. 2018; Zhang et al.\n",
      "2021). For instance, a sentiment classiﬁcation model may\n",
      "make different predictions for \"a short and moving\n",
      "film.\" and\"a short and moving movie.\" , in-\n",
      "dicating that the model makes predictions based on film/-\n",
      "movie rather than descriptive words. To make sure that our\n",
      "model performs as expected, we conduct tool-assisted model\n",
      "probing and human-in-the-loop red-teaming.\n",
      "Key Tokens Probing. Our ﬁrst goal is to verify whether\n",
      "the model is making predictions based on correct features.\n",
      "For instance, we observed that our models may incorrectly\n",
      "predict \"all immigrants.\" ashate , which is pos-\n",
      "sibly because among 21 training examples containing the\n",
      "phrase (from R ¨ottger et al. (2021)), 17 examples are unde-\n",
      "sired and only 4 examples are safe. Table 2 provides a few\n",
      "examples, where the expected behavior is to also take k1ll\n",
      "andD3ath into account. To identify such potentially over-\n",
      "ﬁtted key tokens, we apply input reduction (Feng et al. 2018)\n",
      "on the training dataset by removing tokens greedily until the\n",
      "prediction drops below 0.8. On average, we were able to\n",
      "reduce the number of characters per sample from 722.3 to\n",
      "15.9. By cross-validating with third-party APIs and heuris-\n",
      "tic keywords, we infer that about 97% of the identiﬁed key\n",
      "tokens are indeed unsafe, indicating that the model is pick-\n",
      "ing up the correct feature most of the time. For the remaining\n",
      "3% key tokens, we manually reviewed them and discovered\n",
      "the following problems:\n",
      "1. The frequency of irrelevant symbols is high (e.g., the pe-\n",
      "riod symbol contributes to the prediction score).\n",
      "2. Some key tokens are long and close to the original exam-\n",
      "ple, hinting that the model memorizes training samples.\n",
      "3. Our model is not strong at handling typos and adversarial\n",
      "inputs (e.g., \"w h o r e s\" becomes \"e s\" ).\n",
      "We partially addressed the above issues, and plan to re-\n",
      "solve with better data augmentation in the future (§6).\n",
      "Human Red-teaming. As a ﬁnal layer of the veriﬁcation\n",
      "process, we conduct internal red-teaming before releasing\n",
      "new models. The goal of the red-teaming is to uncover any\n",
      "unexpected model weaknesses beyond the test dataset. Dur-\n",
      "ing the process, we discovered the following issues:Hate Example\n",
      "1 I want to k1ll all immigrants.\n",
      "1 Why is it that all immigrants are repulsive?\n",
      "1 D3ath to all immigrants.\n",
      "0 Threatening to kill all immigrants will get\n",
      "you thrown in jail.\n",
      ":::\n",
      "Table 2: Example training data from (R ¨ottger et al. 2021)\n",
      "containing the phrase \"all immigrants.\" The model\n",
      "trained on it directly may make predictions based on incor-\n",
      "rect features.\n",
      "1. The model predicts high hate scores for examples con-\n",
      "taining the “#” token. This phenomenon is likely caused\n",
      "by the fact that we have many hate training exam-\n",
      "ples from some academic datasets that contain only short\n",
      "tweets.\n",
      "2. The model predicts high hate and violence\n",
      "scores for examples containing potential racial to-\n",
      "kens such as black . It is expected to classify \"I\n",
      "hate black people!\" ashate but not \"I hate\n",
      "black cats!\" ashate .\n",
      "To mitigate the above issues, we construct synthetic\n",
      "datasets from hand-curated templates and synthetic model\n",
      "generations to patch the holes (§3.3), and adjust the train-\n",
      "ing dataset distribution to make sure we have the right\n",
      "mix across multiple types of text sourced from academic\n",
      "datasets. The process can be iterative, helping us discover\n",
      "new issues and solutions in each round and naturally lead-\n",
      "ing to improved robustness and consistency in time when the\n",
      "red-teaming process can be executed more regularly and at\n",
      "scale.\n",
      "4 Experiment Results\n",
      "4.1 Model Architecture and Training\n",
      "Our model is a lightweight transformer decoder model\n",
      "where the ﬁnal output linear layer is replaced with 8 MLP\n",
      "heads, each corresponding to one independent matrix of\n",
      "shape [dmodel;256;1], wheredmodel is the transformer model\n",
      "size. We ﬁnd this head architecture works better than a single\n",
      "deep MLP layer with one output vector of 8 dimensions at\n",
      "avoiding interference between categories and requires fewer\n",
      "parameters to train.\n",
      "The model is initialized from a GPT model that is pre-\n",
      "trained on a large text corpus and then ﬁne-tuned with learn-\n",
      "ing rate 0.05, batch size 256, dropout rate 0.1 within MLP\n",
      "heads and up to 3 epochs.\n",
      "4.2 Model Performance\n",
      "Our model is trained and tested on both production and pub-\n",
      "lic data. We are not able to share the test dataset contain-\n",
      "ing production trafﬁc for privacy and legal reasons; hence,\n",
      "we report the model performance on a different test dataset4\n",
      "containing only samples from public data, as well as several\n",
      "publicly available datasets on undesired content detection.\n",
      "4https://github.com/openai/moderation-api-release Perspective Ours\n",
      "Public S .8709* .9703\n",
      "H .6914 .7968\n",
      "V .5201 .7371\n",
      "HR .3902* .6191\n",
      "SH - .8070\n",
      "S3 - .7638\n",
      "H2 - .7268\n",
      "V2 - .6061\n",
      "Jigsaw Identity-hate .6644 .6890\n",
      "Insult .8814 .8548\n",
      "Obscene .9500 .8353*\n",
      "Threat .7492 .6144*\n",
      "Toxic .9769 .9304*\n",
      "TweetEval Hate .5961 .6473\n",
      "Offensive .7919* .7024*\n",
      "Stormfront Hate .8754 .9053\n",
      "Reddit Sexual .8961* .9417*\n",
      "Table 3: Comparison of our model with Perspective API on\n",
      "AUPRC (Area under the Precision-Recall Curve) across a\n",
      "set of test datasets. Numbers followed with ”*” are based on\n",
      "approximated taxonomy match, so not an exact fair compar-\n",
      "ison.\n",
      "Table 3 compares the performance of our model with\n",
      "Perspective API5as a baseline on our test dataset,\n",
      "TweetEval (Barbieri et al. 2020), Stormfront hate speech\n",
      "dataset (de Gibert et al. 2018), a subset of Reddit com-\n",
      "ments with noisy labels on erotic content processed accord-\n",
      "ing to Barrientos et al. (2020) and a downsampled Jigsaw\n",
      "toxic comments test dataset (Jigsaw 2018). None of the\n",
      "training portion of external evaluation benchmarks are incor-\n",
      "porated into our training, except for half of Jigsaw’s training\n",
      "data that has no overlap with the Jigsaw test set in evaluation.\n",
      "Unfortunately, due to the taxonomy mismatch, we cannot\n",
      "have exact comparison across all categories. For example,\n",
      "our taxonomy does not cover “toxic” and Perspective API\n",
      "does not explicitly detect “self-harm” or “sexual content”.\n",
      "See the details on how we match two taxonomies and pre-\n",
      "process each test dataset in Appendix. A.\n",
      "It is not surprising that our model performs the best on the\n",
      "test dataset labeled with the same taxonomy and the Perspec-\n",
      "tive API does a better job on Jigsaw data. It further proves\n",
      "the point on how important it is to align the taxonomy be-\n",
      "tween training data and use cases in evaluation. Our model\n",
      "outperforms the Perspective API baseline on both TweetEval\n",
      "and Stormfront test sets for detecting hateful content, despite\n",
      "the fact that neither are in the training set.\n",
      "4.3 Active Learning Experiments\n",
      "To assess the importance of active learning, we evaluate the\n",
      "performance of our active learning strategy, as described in\n",
      "5https://www.perspectiveapi.com/Category Random\n",
      "SamplingActive\n",
      "LearningMultiplier\n",
      "S 1.49% 25.53% 17.1 \u0002\n",
      "H 0.17% 3.09% 18.2 \u0002\n",
      "V 0.48% 9.92% 20.7 \u0002\n",
      "HR 0.55% 6.41% 11.7 \u0002\n",
      "SH 0.09% 1.85% 20.6 \u0002\n",
      "S3 0.24% 2.42% 10.1 \u0002\n",
      "H2 0.03% 0.67% 22.3 \u0002\n",
      "V2 0.25% 4.27% 17.1 \u0002\n",
      "Safe 96.57% 59.54% -\n",
      "Table 4: Label distributions for samples selected by random\n",
      "sampling and active learning sampling. Note that one sample\n",
      "can be assigned with multiple labels so the percentages sum\n",
      "up to more than 100%.\n",
      "§3.1, compared to random sampling.\n",
      "Iterative training. We run the following training proce-\n",
      "dure twice, using our active learning strategy and random\n",
      "sampling, respectively.\n",
      "1. Start with an initial training dataset D0ofk0= 6000\n",
      "labeled examples from public data and a validation set V\n",
      "of about 5500 samples from the production trafﬁc.\n",
      "2. fori 0toN\u00001do (N= 3):\n",
      "(a) Train a new model MionDi;\n",
      "(b) Evaluate MionV;\n",
      "(c) Score 5\u0002105production samples with Mifrom our\n",
      "production trafﬁc;\n",
      "(d) Choose about 2000 samples from the above data pool\n",
      "via the selection strategy in test and add samples to the\n",
      "training set to construct Di+1after labeling.\n",
      "Results. Table 4 demonstrates the label distributions ob-\n",
      "tained by the two strategies and our active learning strategy\n",
      "can capture undesired content 10+ times more effectively\n",
      "than random sampling on all categories. Overall about 40%\n",
      "of samples selected by active learning can trigger at least one\n",
      "undesired label, while in comparison only 3.4% of random\n",
      "samples are assigned with any undesired label.\n",
      "As shown in Fig. 2, using the active learning strategy to\n",
      "decide which new data samples leads to a greater improve-\n",
      "ment across all categories than random sampling. We ob-\n",
      "serve signiﬁcant performance improvement on all categories\n",
      "with active learning after 3 iterations.\n",
      "4.4 Domain Adversarial Training Experiments\n",
      "We want to understand the effectiveness of Wasserstein Dis-\n",
      "tance Guided Domain Adversarial Training (WDAT) under\n",
      "three scenarios: (1) At the beginning of the project, we only\n",
      "have labeled public data and unlabeled production data. (2)\n",
      "In the middle of the project, we also curate synthetic exam-\n",
      "ples to improve model weaknesses. (3) At the later stage,\n",
      "we get a sufﬁcient amount of labeled production examples.\n",
      "All three circumstances are important because we want to Figure 2: Performance of active learning sampling versus\n",
      "random sampling on the same validation set at each model\n",
      "iteration, measured by AUPRC.\n",
      "make good use of unlabeled production data to train the best\n",
      "model throughout the project, and a strong model on pro-\n",
      "duction trafﬁc boosts the effectiveness of active learning at\n",
      "every iteration. We use the following setup to compare the\n",
      "performance on our production trafﬁc.\n",
      "Datasets. We create three training datasets PUB, SYN,\n",
      "and MIX to study (1), (2), and (3), respectively. PUB con-\n",
      "sists of around 90k public examples including both samples\n",
      "from academic datasets and Web data (Common Crawl) la-\n",
      "beled by our annotators. SYN adds additional 69k curated\n",
      "synthetic examples. MIX contains all examples in SYN with\n",
      "additional 60k production samples with labels.\n",
      "Models. The baseline models are trained with basic super-\n",
      "vised learning. The DAT models are trained with two hidden\n",
      "layers of 300 dimensions using additional 100k unlabeled\n",
      "production data points. All models are trained with up to 2\n",
      "epochs, and the training is repeated 3 times with different\n",
      "random seeds.\n",
      "Results. We compare the average AUPRC on the produc-\n",
      "tion validation set V. As demonstrated in Table 5, the im-\n",
      "provement from WDAT is signiﬁcant when we only haveCategory PUB SYN MIX\n",
      "Baseline DAT Baseline DAT Baseline DAT\n",
      "S .698 .730 .726 .745 .943 .939\n",
      "H .417 .491 .551 .476 .843 .818\n",
      "V .490 .529 .532 .531 .640 .633\n",
      "HR .258 .369 .326 .356 .453 .482\n",
      "SH .063 .281 .086 .296 .621 .632\n",
      "S3 .592 .759 .779 .777 .911 .936\n",
      "H2 .393 .643 .570 .577 .851 .854\n",
      "V2 .165 .453 .093 .507 .443 .533\n",
      "Table 5: The average AUPRC on a production validation\n",
      "set. PUB denotes models trained on labeled public datasets,\n",
      "SYN adds additional synthetic examples, and MIX adds ad-\n",
      "ditional labeled production examples. We mark the best re-\n",
      "sult within each conﬁguration in bold .\n",
      "access to public datasets (PUB), and the marginal gain re-\n",
      "duces gradually as we add more training examples, espe-\n",
      "cially in-distribution production samples. For instance, DAT\n",
      "improved SHAUPRC from 0.063 to 0.281 on PUB and from\n",
      "0.086 to 0.296 on SYN, whereas the improvement is only\n",
      "from 0.621 to 0.632 on MIX. WDAT still helps weak cate-\n",
      "gories ( SHandV2) on SYN and MIX, but it may slightly\n",
      "hurt the performance for categories with a sufﬁcient amount\n",
      "of in-distribution data such as HandV. We suspect this is\n",
      "because the model failed to ﬁnd a representation that works\n",
      "very well for both the public datasets and our production dis-\n",
      "tribution. Further study on the model architecture and train-\n",
      "ing methods is required to improve the performance on all\n",
      "categories with unlabeled data throughout different stages of\n",
      "the project.\n",
      "5 Related Work\n",
      "There is a long track record of work on the deﬁnition\n",
      "and detection of hateful, toxic, offensive and abusive con-\n",
      "tent (Kwok and Wang 2013; Nobata et al. 2016; Waseem\n",
      "2016; de Gibert et al. 2018; Vidgen et al. 2019; Gehman\n",
      "et al. 2020; Rosenthal et al. 2020; Lees et al. 2022). Zampieri\n",
      "et al. (2019) proposed a three-level hierarchical taxonomy\n",
      "considering whether the given language is (i) offensive or\n",
      "not; (ii) targeted or not; and (iii) targeted at a group, an\n",
      "individual or other organizations. Usually hateful expres-\n",
      "sions targeting protected identity groups are considered hate\n",
      "speech (Davidson et al. 2017). Perspective API deﬁnes toxi-\n",
      "city as ”A rude, disrespectful, or unreasonable comment that\n",
      "is likely to make people leave a discussion”. Some also used\n",
      "toxicity as a general umbrella term for offensive, abusive,\n",
      "and hateful language (Pavlopoulos et al. 2020). The deﬁni-\n",
      "tions of hatefulness, toxicity, offensiveness and abusiveness\n",
      "have overlaps but are not exactly the same, creating obsta-\n",
      "cles for sharing datasets between projects. Furthermore, only\n",
      "a limited amount of work considered detailed subcategoriza-\n",
      "tions (Mollas et al. 2020; Borkan et al. 2019) to capture a\n",
      "spectrum of severity, making it harder to control labeling\n",
      "quality. Finally, there exist various types of potentially un-\n",
      "desired text in the wild, such as sexual content involving mi-\n",
      "nors, extreme graphic violence, or support for self-harm or\n",
      "suicides, besides offensive and abusive language, and we ob- served a gap between current research work and the entirety\n",
      "of content types that should be moderated and detected. Our\n",
      "work aims to ﬁll in the gap.\n",
      "Despite the common belief that training data quality is\n",
      "critical for model performance, there is still lack of com-\n",
      "munity standards for labeling standards, annotator training,\n",
      "quality metrics, etc. (Vidgen and Derczynski 2020; Yin and\n",
      "Zubiaga 2021; Lees et al. 2022; PAI 2021). Vidgen and Der-\n",
      "czynski (2020) studied 60+ datasets for abusive language\n",
      "detection and found that the primary data source is Twit-\n",
      "ter and expert coding is the most common way to anno-\n",
      "tate data, closely followed by crowdsourcing. For large-scale\n",
      "data collection, crowdsourcing remains the most common\n",
      "approach (Mollas et al. 2020; Zampieri et al. 2019; Davidson\n",
      "et al. 2017). However, the weak skill set of non-expert anno-\n",
      "tators can lead to lower data quality (Waseem 2016; Yin and\n",
      "Zubiaga 2021). Some recent work turns to large pre-trained\n",
      "language models to generate synthetic data, signiﬁcantly re-\n",
      "ducing the cost of time and human labor (Wang et al. 2021a;\n",
      "Hartvigsen et al. 2022), but it is unclear whether model out-\n",
      "puts would be diverse enough to adapt to the real-world dis-\n",
      "tribution. Synthetic data can be hand-crafted (R ¨ottger et al.\n",
      "2021), but it is limited by size and thus more suitable for\n",
      "evaluation. It is noteworthy that training data can contain\n",
      "bias due to the subjectivity and biases in the data collec-\n",
      "tion process (Davidson, Bhattacharya, and Weber 2019; Sap\n",
      "et al. 2019).\n",
      "Active learning has been successfully applied to a num-\n",
      "ber of different domains such as text classiﬁcation (Lewis\n",
      "and Gale 1994; Schohn and Cohn 2000; Siddhant and Lipton\n",
      "2018); machine translation (Zeng et al. 2019); image classi-\n",
      "ﬁcation (Luo et al. 2005; Hoi et al. 2006; Gal, Islam, and\n",
      "Ghahramani 2017); object detection (Schmidt et al. 2020)\n",
      "and information retrieval (Shen and Zhai 2005). There are\n",
      "several families of active learning sampling strategies that\n",
      "are often used in practice. Uncertainty sampling selects data\n",
      "points about which the model is most uncertain. The uncer-\n",
      "tainty of the model can be quantiﬁed by predicted proba-\n",
      "bilities (Lewis and Gale 1994; Lewis and Catlett 1994; Cu-\n",
      "lotta and McCallum 2005; Scheffer, Decomain, and Wro-\n",
      "bel 2001), disagreement among an ensemble of models (Se-\n",
      "ung, Opper, and Sompolinsky 1992; Dagan and Engelson\n",
      "1995; McCallum and Nigam 1998), or by using dropout and\n",
      "Bayesian approaches (Gal, Islam, and Ghahramani 2017;\n",
      "Siddhant and Lipton 2018). Diversity sampling chooses\n",
      "samples in a way that ensures sufﬁcient diversity within\n",
      "the selection. This is commonly achieved by clustering un-\n",
      "labeled data and sampling from different clusters (Nguyen\n",
      "and Smeulders 2004; Xu, Akella, and Zhang 2007), or by\n",
      "selecting samples which are ”representative” of the sample\n",
      "distribution (i.e., which are similar to many other samples)\n",
      "(McCallum and Nigam 1998; Settles and Craven 2008). Un-\n",
      "certainty and diversity sampling are sometimes combined in\n",
      "a single complex active learning strategy.\n",
      "Red-teaming is a common approach for model improve-\n",
      "ment by discovering and patching the weakness itera-\n",
      "tively (Dinan et al. 2019; Vidgen et al. 2020; Kiela et al.\n",
      "2021; Ziegler et al. 2022; Perez et al. 2022; Ribeiro et al.\n",
      "2020), where humans are encouraged to look for examplesthat could fail the model. Dynabench (Kiela et al. 2021)\n",
      "is built as a platform for easy adversarial data collection.\n",
      "Mishkin et al. (2022) describes in detail an operational pro-\n",
      "cess for doing red-teaming using external experts. Ziegler\n",
      "et al. (2022) designed a tool to efﬁciently assist human ad-\n",
      "versaries to identify failures in a classiﬁer. Models trained\n",
      "with red-teaming data are found to be more robust to ad-\n",
      "versarial attack (Dinan et al. 2019; Ziegler et al. 2022) and\n",
      "human-in-the-loop dynamic data collection can efﬁciently\n",
      "improve model performance (Kiela et al. 2021; Vidgen et al.\n",
      "2020).\n",
      "Domain adaptation aims at generalizing knowledge\n",
      "learned in the source domain towards a related target do-\n",
      "main (Ben-David et al. 2006; Weiss, Khoshgoftaar, and\n",
      "Wang 2016; Ben-David et al. 2009), the technique is most\n",
      "useful when there is insufﬁcient labeled data in the target\n",
      "domain but sufﬁcient labeled data in the source domain. Dif-\n",
      "ferent methods have been proposed to transfer the knowl-\n",
      "edge across domains (Ramponi and Plank 2020; Blitzer,\n",
      "McDonald, and Pereira 2006; Mansour, Mohri, and Ros-\n",
      "tamizadeh 2008). Inspired by generative adversarial nets\n",
      "(GANs) (Goodfellow et al. 2014) which train a discrimina-\n",
      "tor to make the representations of source and target indistin-\n",
      "guishable, Domain Adversarial Training (DAT) methods are\n",
      "proposed to reduce the domain discrepancy through a do-\n",
      "main discriminator (Arjovsky, Chintala, and Bottou 2017;\n",
      "Ganin et al. 2016; Tzeng et al. 2017; Ganin and Lempitsky\n",
      "2015). To learn domain-invariant feature representations,\n",
      "DAT employs a gradient reversal layer to maximize the min-\n",
      "imal loss of the domain discriminator. However, DAT suffers\n",
      "from a gradient vanishing problem when the domain dis-\n",
      "criminator can tell apart the two domains easily, and Wasser-\n",
      "stein distance based methods are proposed to enable a more\n",
      "stable training (Shen et al. 2018; Arjovsky, Chintala, and\n",
      "Bottou 2017; Shah et al. 2018).\n",
      "6 Future Work and Limitations\n",
      "Bias and Fairness. Similar to other existing NLP mod-\n",
      "els, our models also suffer from bias towards certain de-\n",
      "mographic attributes (Kusner et al. 2017; Garg et al. 2019;\n",
      "Dwork et al. 2012). For instance, the model may give higher\n",
      "hate predictions if the input contains gay and higher\n",
      "sexual predictions if the input contains her. This is be-\n",
      "cause we use data from the Internet, and social bias may\n",
      "present explicitly or implicitly in the training datasets. We\n",
      "tried mitigation methods such as creating a balanced syn-\n",
      "thetic dataset with templates but could not fully eliminate\n",
      "the issue. In the future, we will continue following related\n",
      "research and improve the fairness of our models.\n",
      "Data Augmentation. We plan to investigate more data\n",
      "augmentation methods to boost the training dataset. Al-\n",
      "though our current training dataset naturally includes mis-\n",
      "spelled words and incorrect grammar as some of it is user-\n",
      "generated content, it is valuable to experiment with data\n",
      "augmentation to improve lexicon robustness (Wei and Zou\n",
      "2019; Kobayashi 2018; Zhang et al. 2021) and the generaliz-\n",
      "ability of the model (Guo, Mao, and Zhang 2019; Shen et al.\n",
      "2020; Gao, Yao, and Chen 2021), especially when working with the changing distribution of real-world data.\n",
      "Better Multilingual Support. Only about 5% of the sam-\n",
      "ples are non-English in our training set. As the vast majority\n",
      "of our production trafﬁc is in English, we have not yet rig-\n",
      "orously evaluated or optimized performance on non-English\n",
      "text. Multilingual toxic content classiﬁcation (Aluru et al.\n",
      "2020; Wang and Banko 2021; Lees et al. 2022) would re-\n",
      "quire more non-English training data and may need addi-\n",
      "tional changes on tokenization or model architecture.\n",
      "Red-teaming at scale. Red-teaming is an effective way to\n",
      "ﬁnd unknown failure cases for the model. Currently we do\n",
      "internal red-teaming with each new model version, which is\n",
      "not a scalable approach. In the future, we plan to set up a\n",
      "pipeline for model red-teaming similar to the one we have\n",
      "for labeling production trafﬁc. We plan to use a specialized\n",
      "interface inspired by Kiela et al. (2021); Ziegler et al. (2022)\n",
      "to improve the efﬁciency of the red-teamers.\n",
      "More Active Learning Experiments. Our current active\n",
      "learning strategy to select high-value data for labeling is\n",
      "quite simple. For example, we did not explore diversity sam-\n",
      "pling due to computational restriction. Onward we plan to\n",
      "run more rigorous experiments comparing the performance\n",
      "of different active learning strategies, as well as more so-\n",
      "phisticated strategies, incorporating both uncertainty and di-\n",
      "versity sampling.\n",
      "7 Broader Impacts\n",
      "Content moderation classiﬁers have many uses. When paired\n",
      "with fair and robust enforcement practices, they have the\n",
      "potential to reduce certain instances of misuse6by ensur-\n",
      "ing that policies are operationalized on both inputs and out-\n",
      "puts of language models. Classiﬁers also enable ﬁltration of\n",
      "datasets at scale, which may be used to train language mod-\n",
      "els with desired properties (Welbl et al. 2021) and allow for\n",
      "better evaluation of language models (Gehman et al. 2020).\n",
      "Longer-term, content moderation classiﬁers can be used as a\n",
      "way to ensure high-stakes reliability in very-capable AI sys-\n",
      "tems (Ziegler et al. 2022)—a critical necessity for enabling\n",
      "the deployment of those systems in certain domains.\n",
      "While this underscores the importance of the undesired\n",
      "content classiﬁers, all classiﬁers rest on certain assumptions\n",
      "and decisions that may present vulnerabilities or make them\n",
      "inappropriate for certain use cases or types of text. Addition-\n",
      "ally, these tools can suffer from problematic biases, such as\n",
      "disproportionate false positives when discussing groups that\n",
      "are frequently the target of hate. (Garg et al. 2019)\n",
      "The following sections discuss the normative and subjec-\n",
      "tive questions on which these classiﬁers rest and explore the\n",
      "challenges they present.\n",
      "7.1 Challenges of Taxonomy Design\n",
      "We take care to design our taxonomy to reﬂect generaliz-\n",
      "able viewpoints. However, much of our data is drawn from\n",
      "a US-centric context and the taxonomy was designed to best\n",
      "6misuse may be deﬁned as uses of the model that the moderat-\n",
      "ing body does not want to allow, e.g. generation of hateful contentﬁt this data. Additionally, while we have designed our tax-\n",
      "onomy to be as comprehensive as possible, it would still\n",
      "be useful for future researchers to add and update the cat-\n",
      "egories based on their own use cases and deployment con-\n",
      "texts. Given the sensitive nature of various tasks, we also\n",
      "encourage the use of this taxonomy in concert with other\n",
      "mitigation strategies, as there is no silver bullet for content\n",
      "moderation.\n",
      "We hope that this work will encourage further discussion\n",
      "and debate around the principles and values that underpin\n",
      "content moderation.\n",
      "7.2 Annotator Viewpoints and Disagreement\n",
      "It is commonly agreed that the annotation of toxic language\n",
      "is subjective and that annotators’ interpretations may be in-\n",
      "ﬂuenced by their personal and cultural backgrounds, includ-\n",
      "ing lived experiences, values and demographic factors. For\n",
      "example, Waseem (2016) found that feminist and anti-racist\n",
      "activists systematically disagree with crowd workers on their\n",
      "hate speech annotations. In their study, agreement between\n",
      "the authors, amateurs and expert annotators is low (14 %),\n",
      "most often because in many instances where the authors had\n",
      "identiﬁed hate speech, annotators do not.\n",
      "By necessity, incorporating diverse viewpoints invites dis-\n",
      "agreement on annotation labels. Much of the computer sci-\n",
      "ence literature focuses on eliminating inter-rater disagree-\n",
      "ments, most often via deliberation or majority vote. How-\n",
      "ever, in the case of data from or about marginalized popu-\n",
      "lations, disagreement may be a meaningful signal: An ad-\n",
      "verse effect of majority vote in such cases is limiting rep-\n",
      "resentation of minority perspectives in data Prabhakaran,\n",
      "Mostafazadeh Davani, and Diaz (2021), potentially reinforc-\n",
      "ing societal disparities and harms. Moreover, analyzing dis-\n",
      "agreements may lead to a better understanding of the domain\n",
      "of application Patton et al. (2018).\n",
      "In their study, rather than aggregating, Davani, D ´ıaz,\n",
      "and Prabhakaran (2021) preserve annotator disagreements,\n",
      "which they note could reﬂect useful and nuanced informa-\n",
      "tion about the uncertainty of a sample’s membership to a\n",
      "class. Indeed, they demonstrate that their approach yields\n",
      "the same or better performance than similar approaches with\n",
      "aggregated labels, while retaining the ability to estimate un-\n",
      "certainty in predictions that correlate with real-life annotator\n",
      "disagreements.\n",
      "Moreover, resolving disagreement via majority vote may\n",
      "be at odds with preserving minority opinions in subjective\n",
      "tasks. Ovesdotter Alm (2011) argues that achieving a single\n",
      "real ”ground truth” label is impossible and is not essential\n",
      "in subjective tasks, and calls for ﬁnding ways to model sub-\n",
      "jective interpretations of annotators, rather than seeking to\n",
      "reduce the variability in annotations.\n",
      "7.3 Annotator Selection and Welfare\n",
      "We are committed to ensuring that our labeling tasks are\n",
      "managed in a considerate and ethical manner, and we strive\n",
      "to follow current best practices for sourcing data labeling\n",
      "services (PAI 2021). Via our data vendors, all of our annota-\n",
      "tors are selected for their skill and willingness to participate\n",
      "in these difﬁcult tasks. Before they opt in, all annotators are vetted by counselors and made aware of the risks and poten-\n",
      "tial harms of working with sensitive data. Our data vendors\n",
      "provide them with access to mental health and wellness re-\n",
      "sources and annotators have the right to opt out at any point.\n",
      "7.4 Data Privacy and Security\n",
      "Trustworthy handling of production data necessitates trans-\n",
      "parency with users and effective security measures. We ob-\n",
      "tain consent from all customers whose data is used to train\n",
      "our moderation models. Customers who wish to opt their\n",
      "data out of training may do so. No production data is in-\n",
      "cluded in the dataset we are releasing. Our data labeling and\n",
      "active learning pipelines feature security controls that are de-\n",
      "signed and tested to protect the conﬁdentiality and integrity\n",
      "of production data. The model we deploy can not be used to\n",
      "generate text, only to compute safety scores, so we consider\n",
      "the risk of training data leakage to be extremely low.\n",
      "7.5 Summary of Broader Impacts Discussion\n",
      "Content moderation classiﬁers are one key tool that em-\n",
      "powers developers of language models at every stage of the\n",
      "model development and deployment process- from working\n",
      "with large-scale datasets, to testing out models, to deploying\n",
      "the models to many users. However, as we have observed\n",
      "above, there are a range of normative and subjective deci-\n",
      "sions made throughout the development process of build-\n",
      "ing these classiﬁers from designing taxonomies to labeling\n",
      "data. Given the nature of these tools, these decisions are\n",
      "sometimes distilled down bluntly and do not enable captur-\n",
      "ing the nuances that the moderation decision may warrant.\n",
      "This loss of nuance may disproportionately impact mem-\n",
      "bers of socially marginalized populations by muting their\n",
      "opinions via unweighted majority annotations. This impact\n",
      "is doubly grievous if moderation decisions about members\n",
      "of marginalized populations are made about them by a sys-\n",
      "tem that excludes their input. This highlights some inherent\n",
      "limitations of classiﬁers, using automated tools for content\n",
      "moderation, and point to the importance of their robust test-\n",
      "ing to ensure suitability for each speciﬁc use that they may\n",
      "be deployed in.\n",
      "8 Conclusion\n",
      "Building high-quality undesired content detection systems\n",
      "in the real world is a challenge that requires the incorpora-\n",
      "tion of multiple methods. A good content taxonomy is the\n",
      "foundation for problem scoping and data collection. A re-\n",
      "liable data pipeline is needed to guarantee high data qual-\n",
      "ity and to handle distribution shift. We show that in cases\n",
      "where certain target content occurs rarely, an active learning\n",
      "sampling strategy leads to much better model performance.\n",
      "Additionally, we argue that good operational aspects of the\n",
      "labeling pipeline are essential for ensuring high data quality.\n",
      "And we show that model performance can further be im-\n",
      "proved through the use of curated synthetic data and semi-\n",
      "supervised learning.\n",
      "As large generative language models become more and\n",
      "more prevalent, it becomes increasingly important to de-\n",
      "velop ways of controlling and guiding their outputs. Thegoal of this work has been to demonstrate one way of imple-\n",
      "menting such control by way of building content detection\n",
      "models. We are looking forward to further reﬁnement of our\n",
      "approach in the future, as well as progress in other methods\n",
      "of controlling and aligning generative model outputs.\n",
      "9 Acknowledgments\n",
      "This work would not have been possible without the con-\n",
      "tributions of data workers. We greatly appreciate their work\n",
      "handling sensitive content and helping us build better auto-\n",
      "mated systems to make content moderation work less de-\n",
      "manding of human labor.\n",
      "We also thank Miles Brundage, Raf Jakubanis, Gretchen\n",
      "Krueger, Derek Chen, Summer Yue, Karl Cobbe, Pranav\n",
      "Shyam, Jason Kwon and Matt Knight for feedback on this\n",
      "work.\n",
      "References\n",
      "Aluru, S. S.; Mathew, B.; Saha, P.; and Mukherjee, A. 2020.\n",
      "Deep learning models for multilingual hate speech detec-\n",
      "tion. arXiv preprint arXiv:2004.06465 .\n",
      "Alzantot, M.; Sharma, Y .; Elgohary, A.; Ho, B.-J.; Srivas-\n",
      "tava, M.; and Chang, K.-W. 2018. Generating Natural Lan-\n",
      "guage Adversarial Examples. In Proceedings of the 2018\n",
      "Conference on Empirical Methods in Natural Language\n",
      "Processing , 2890–2896. Brussels, Belgium: Association for\n",
      "Computational Linguistics.\n",
      "Anaby-Tavor, A.; Carmeli, B.; Goldbraich, E.; Kantor, A.;\n",
      "Kour, G.; Shlomov, S.; Tepper, N.; and Zwerdling, N. 2020.\n",
      "Do not have enough data? Deep learning to the rescue! In\n",
      "Proceedings of the AAAI Conference on Artiﬁcial Intelli-\n",
      "gence , volume 34, 7383–7390.\n",
      "Arjovsky, M.; Chintala, S.; and Bottou, L. 2017. Wasser-\n",
      "stein Generative Adversarial Networks. In Precup, D.; and\n",
      "Teh, Y . W., eds., Proceedings of the 34th International Con-\n",
      "ference on Machine Learning , volume 70 of Proceedings of\n",
      "Machine Learning Research , 214–223. PMLR.\n",
      "Barbieri, F.; Camacho-Collados, J.; Espinosa Anke, L.; and\n",
      "Neves, L. 2020. TweetEval: Uniﬁed Benchmark and Com-\n",
      "parative Evaluation for Tweet Classiﬁcation. In Findings\n",
      "of the Association for Computational Linguistics: EMNLP\n",
      "2020 , 1644–1650. Association for Computational Linguis-\n",
      "tics.\n",
      "Barrientos, G. M.; Alaiz-Rodr ´ıguez, R.; Gonz ´alez-Castro,\n",
      "V .; and Parnell, A. C. 2020. Machine learning techniques\n",
      "for the detection of inappropriate erotic content in text. In-\n",
      "ternational Journal of Computational Intelligence Systems ,\n",
      "13(1): 591–603.\n",
      "Ben-David, S.; Blitzer, J.; Crammer, K.; Kulesza, A.;\n",
      "Pereira, F. C.; and Vaughan, J. W. 2009. A theory of learning\n",
      "from different domains. Machine Learning , 79: 151–175.\n",
      "Ben-David, S.; Blitzer, J.; Crammer, K.; and Pereira, F. C.\n",
      "2006. Analysis of Representations for Domain Adaptation.\n",
      "InNIPS .\n",
      "Blitzer, J.; McDonald, R. T.; and Pereira, F. C. 2006. Do-\n",
      "main Adaptation with Structural Correspondence Learning.\n",
      "InEMNLP . Borkan, D.; Dixon, L.; Sorensen, J.; Thain, N.; and Vasser-\n",
      "man, L. 2019. Nuanced Metrics for Measuring Unintended\n",
      "Bias with Real Data for Text Classiﬁcation. In Compan-\n",
      "ion Proceedings of The 2019 World Wide Web Conference ,\n",
      "WWW ’19, 491–500. New York, NY , USA: Association for\n",
      "Computing Machinery. ISBN 9781450366755.\n",
      "Brown, T.; Mann, B.; Ryder, N.; Subbiah, M.; Kaplan, J. D.;\n",
      "Dhariwal, P.; Neelakantan, A.; Shyam, P.; Sastry, G.; Askell,\n",
      "A.; et al. 2020. Language models are few-shot learners. Ad-\n",
      "vances in neural information processing systems , 33: 1877–\n",
      "1901.\n",
      "Cohen, A. D.; Roberts, A.; Molina, A.; Butryna, A.; Jin, A.;\n",
      "Kulshreshtha, A.; Hutchinson, B.; Zevenbergen, B.; Aguera-\n",
      "Arcas, B. H.; ching Chang, C.; Cui, C.; Du, C.; Adiwar-\n",
      "dana, D. D. F.; Chen, D.; Lepikhin, D. D.; Chi, E. H.;\n",
      "Hoffman-John, E.; Cheng, H.-T.; Lee, H.; Krivokon, I.; Qin,\n",
      "J.; Hall, J.; Fenton, J.; Soraker, J.; Meier-Hellstern, K.; Ol-\n",
      "son, K.; Aroyo, L. M.; Bosma, M. P.; Pickett, M. J.; Mene-\n",
      "gali, M. A.; Croak, M.; D ´ıaz, M.; Lamm, M.; Krikun, M.;\n",
      "Morris, M. R.; Shazeer, N.; Le, Q. V .; Bernstein, R.; Ra-\n",
      "jakumar, R.; Kurzweil, R.; Thoppilan, R.; Zheng, S.; Bos,\n",
      "T.; Duke, T.; Doshi, T.; Prabhakaran, V .; Rusch, W.; Li, Y .;\n",
      "Huang, Y .; Zhou, Y .; Xu, Y .; and Chen, Z. 2022. LaMDA:\n",
      "Language Models for Dialog Applications. In arXiv .\n",
      "Culotta, A.; and McCallum, A. 2005. Reducing labeling ef-\n",
      "fort for structured prediction tasks. In AAAI , volume 5, 746–\n",
      "751.\n",
      "Dagan, I.; and Engelson, S. P. 1995. Committee-based sam-\n",
      "pling for training probabilistic classiﬁers. In Machine Learn-\n",
      "ing Proceedings 1995 , 150–157. Elsevier.\n",
      "Davani, A. M.; D ´ıaz, M.; and Prabhakaran, V . 2021. Dealing\n",
      "with Disagreements: Looking Beyond the Majority V ote in\n",
      "Subjective Annotations. CoRR , abs/2110.05719.\n",
      "Davidson, T.; Bhattacharya, D.; and Weber, I. 2019. Racial\n",
      "Bias in Hate Speech and Abusive Language Detection\n",
      "Datasets. In Proceedings of the Third Workshop on Abu-\n",
      "sive Language Online , 25–35. Florence, Italy: Association\n",
      "for Computational Linguistics.\n",
      "Davidson, T.; Warmsley, D.; Macy, M.; and Weber, I. 2017.\n",
      "Automated hate speech detection and the problem of offen-\n",
      "sive language. In Proceedings of the international AAAI\n",
      "conference on web and social media , volume 11, 512–515.\n",
      "de Gibert, O.; Perez, N.; Garc ´ıa-Pablos, A.; and Cuadros, M.\n",
      "2018. Hate Speech Dataset from a White Supremacy Forum.\n",
      "InProceedings of the 2nd Workshop on Abusive Language\n",
      "Online (ALW2) , 11–20. Brussels, Belgium: Association for\n",
      "Computational Linguistics.\n",
      "Devlin, J.; Chang, M.; Lee, K.; and Toutanova, K. 2019.\n",
      "BERT: Pre-training of Deep Bidirectional Transformers for\n",
      "Language Understanding. In Burstein, J.; Doran, C.; and\n",
      "Solorio, T., eds., Proceedings of the 2019 Conference of the\n",
      "North American Chapter of the Association for Computa-\n",
      "tional Linguistics: Human Language Technologies, NAACL-\n",
      "HLT 2019, Minneapolis, MN, USA, June 2-7, 2019, Vol-\n",
      "ume 1 (Long and Short Papers) , 4171–4186. Association for\n",
      "Computational Linguistics.Dinan, E.; Humeau, S.; Chintagunta, B.; and Weston, J.\n",
      "2019. Build it break it ﬁx it for dialogue safety: Ro-\n",
      "bustness from adversarial human attack. arXiv preprint\n",
      "arXiv:1908.06083 .\n",
      "Dwork, C.; Hardt, M.; Pitassi, T.; Reingold, O.; and Zemel,\n",
      "R. 2012. Fairness through Awareness. In Proceedings of\n",
      "the 3rd Innovations in Theoretical Computer Science Con-\n",
      "ference , ITCS ’12, 214–226. New York, NY , USA: Associa-\n",
      "tion for Computing Machinery. ISBN 9781450311151.\n",
      "Feng, S.; Wallace, E.; Grissom II, A.; Iyyer, M.; Rodriguez,\n",
      "P.; and Boyd-Graber, J. 2018. Pathologies of Neural Mod-\n",
      "els Make Interpretations Difﬁcult. In Proceedings of the\n",
      "2018 Conference on Empirical Methods in Natural Lan-\n",
      "guage Processing , 3719–3728. Brussels, Belgium: Associ-\n",
      "ation for Computational Linguistics.\n",
      "Gal, Y .; Islam, R.; and Ghahramani, Z. 2017. Deep bayesian\n",
      "active learning with image data. In International Conference\n",
      "on Machine Learning , 1183–1192. PMLR.\n",
      "Ganin, Y .; and Lempitsky, V . S. 2015. Unsupervised Domain\n",
      "Adaptation by Backpropagation. ArXiv , abs/1409.7495.\n",
      "Ganin, Y .; Ustinova, E.; Ajakan, H.; Germain, P.; Larochelle,\n",
      "H.; Laviolette, F.; Marchand, M.; and Lempitsky, V . 2016.\n",
      "Domain-Adversarial Training of Neural Networks. J. Mach.\n",
      "Learn. Res. , 17(1): 2096–2030.\n",
      "Gao, T.; Yao, X.; and Chen, D. 2021. SimCSE: Simple Con-\n",
      "trastive Learning of Sentence Embeddings. In Empirical\n",
      "Methods in Natural Language Processing (EMNLP) .\n",
      "Garg, S.; Perot, V .; Limtiaco, N.; Taly, A.; Chi, E. H.; and\n",
      "Beutel, A. 2019. Counterfactual Fairness in Text Classi-\n",
      "ﬁcation through Robustness. In Proceedings of the 2019\n",
      "AAAI/ACM Conference on AI, Ethics, and Society , AIES\n",
      "’19, 219–226. New York, NY , USA: Association for Com-\n",
      "puting Machinery. ISBN 9781450363242.\n",
      "Gehman, S.; Gururangan, S.; Sap, M.; Choi, Y .; and\n",
      "Smith, N. A. 2020. Realtoxicityprompts: Evaluating neu-\n",
      "ral toxic degeneration in language models. arXiv preprint\n",
      "arXiv:2009.11462 .\n",
      "Goodfellow, I. J.; Pouget-Abadie, J.; Mirza, M.; Xu, B.;\n",
      "Warde-Farley, D.; Ozair, S.; Courville, A. C.; and Bengio,\n",
      "Y . 2014. Generative Adversarial Nets. In NIPS .\n",
      "Goodfellow, I. J.; Shlens, J.; and Szegedy, C. 2015. Ex-\n",
      "plaining and Harnessing Adversarial Examples. CoRR ,\n",
      "abs/1412.6572.\n",
      "Guo, H.; Mao, Y .; and Zhang, R. 2019. Augmenting data\n",
      "with mixup for sentence classiﬁcation: An empirical study.\n",
      "arXiv preprint arXiv:1905.08941 .\n",
      "Hartvigsen, T.; Gabriel, S.; Palangi, H.; Sap, M.; Ray, D.;\n",
      "and Kamar, E. 2022. Toxigen: A large-scale machine-\n",
      "generated dataset for adversarial and implicit hate speech\n",
      "detection. arXiv preprint arXiv:2203.09509 .\n",
      "Hoi, S. C.; Jin, R.; Zhu, J.; and Lyu, M. R. 2006. Batch mode\n",
      "active learning and its application to medical image classiﬁ-\n",
      "cation. In Proceedings of the 23rd international conference\n",
      "on Machine learning , 417–424.\n",
      "Jigsaw. ???? Perspective API. https://www.perspectiveapi.\n",
      "com/. Accessed: 2022-06-15. Jigsaw. 2018. Toxic Comment Classiﬁcation Chal-\n",
      "lenge. https://www.kaggle.com/competitions/jigsaw-toxic-\n",
      "comment-classiﬁcation-challenge/overview. Accessed:\n",
      "2022-06-15.\n",
      "Kiela, D.; Bartolo, M.; Nie, Y .; Kaushik, D.; Geiger, A.; Wu,\n",
      "Z.; Vidgen, B.; Prasad, G.; Singh, A.; Ringshia, P.; Ma, Z.;\n",
      "Thrush, T.; Riedel, S.; Waseem, Z.; Stenetorp, P.; Jia, R.;\n",
      "Bansal, M.; Potts, C.; and Williams, A. 2021. Dynabench:\n",
      "Rethinking Benchmarking in NLP. In Proceedings of the\n",
      "2021 Conference of the North American Chapter of the As-\n",
      "sociation for Computational Linguistics: Human Language\n",
      "Technologies , 4110–4124. Online: Association for Compu-\n",
      "tational Linguistics.\n",
      "Kobayashi, S. 2018. Contextual Augmentation: Data Aug-\n",
      "mentation by Words with Paradigmatic Relations. In Pro-\n",
      "ceedings of the 2018 Conference of the North American\n",
      "Chapter of the Association for Computational Linguistics:\n",
      "Human Language Technologies, Volume 2 (Short Papers) ,\n",
      "452–457. New Orleans, Louisiana: Association for Compu-\n",
      "tational Linguistics.\n",
      "Kumar, V .; Choudhary, A.; and Cho, E. 2020. Data augmen-\n",
      "tation using pre-trained transformer models. arXiv preprint\n",
      "arXiv:2003.02245 .\n",
      "Kusner, M. J.; Loftus, J.; Russell, C.; and Silva, R. 2017.\n",
      "Counterfactual Fairness. In Guyon, I.; Luxburg, U. V .; Ben-\n",
      "gio, S.; Wallach, H.; Fergus, R.; Vishwanathan, S.; and Gar-\n",
      "nett, R., eds., Advances in Neural Information Processing\n",
      "Systems 30 , 4066–4076. Curran Associates, Inc.\n",
      "Kwok, I.; and Wang, Y . 2013. Locate the Hate: De-\n",
      "tecting Tweets against Blacks. In Proceedings of the\n",
      "Twenty-Seventh AAAI Conference on Artiﬁcial Intelligence ,\n",
      "AAAI’13, 1621–1622. AAAI Press.\n",
      "Lees, A.; Tran, V . Q.; Tay, Y .; Sorensen, J.; Gupta, J.; Met-\n",
      "zler, D.; and Vasserman, L. 2022. A new generation of\n",
      "perspective api: Efﬁcient multilingual character-level trans-\n",
      "formers. arXiv preprint arXiv:2202.11176 .\n",
      "Lewis, D. D.; and Catlett, J. 1994. Heterogeneous uncer-\n",
      "tainty sampling for supervised learning. In Machine learn-\n",
      "ing proceedings 1994 , 148–156. Elsevier.\n",
      "Lewis, D. D.; and Gale, W. A. 1994. A sequential algorithm\n",
      "for training text classiﬁers. In SIGIR’94 , 3–12. Springer.\n",
      "Luo, T.; Kramer, K.; Goldgof, D. B.; Hall, L. O.; Samson,\n",
      "S.; Remsen, A.; Hopkins, T.; and Cohn, D. 2005. Active\n",
      "learning to recognize multiple types of plankton. Journal of\n",
      "Machine Learning Research , 6(4).\n",
      "Mansour, Y .; Mohri, M.; and Rostamizadeh, A. 2008. Do-\n",
      "main Adaptation with Multiple Sources. In NIPS .\n",
      "McCallum, A.; and Nigam, K. 1998. Employing EM\n",
      "and Pool-Based Active Learning for Text Classiﬁcation.\n",
      "InProceedings of the Fifteenth International Conference\n",
      "on Machine Learning , ICML ’98, 350–358. San Fran-\n",
      "cisco, CA, USA: Morgan Kaufmann Publishers Inc. ISBN\n",
      "1558605568.\n",
      "Mishkin, P.; Ahmad, L.; Brundage, M.; Krueger, G.; and\n",
      "Sastry, G. 2022. DALL·E 2 Preview - Risks and Limitations.Mollas, I.; Chrysopoulou, Z.; Karlos, S.; and Tsoumakas,\n",
      "G. 2020. ETHOS: an online hate speech detection dataset.\n",
      "arXiv preprint arXiv:2006.08328 .\n",
      "Nguyen, H. T.; and Smeulders, A. 2004. Active learning\n",
      "using pre-clustering. In Proceedings of the twenty-ﬁrst in-\n",
      "ternational conference on Machine learning .\n",
      "Nobata, C.; Tetreault, J.; Thomas, A.; Mehdad, Y .; and\n",
      "Chang, Y . 2016. Abusive Language Detection in Online\n",
      "User Content. In Proceedings of the 25th International Con-\n",
      "ference on World Wide Web , WWW ’16, 145–153. Republic\n",
      "and Canton of Geneva, CHE: International World Wide Web\n",
      "Conferences Steering Committee. ISBN 9781450341431.\n",
      "Ovesdotter Alm, C. 2011. Subjective Natural Language\n",
      "Problems: Motivations, Applications, Characterizations, and\n",
      "Implications. In Proceedings of the 49th Annual Meeting of\n",
      "the Association for Computational Linguistics: Human Lan-\n",
      "guage Technologies , 107–112. Portland, Oregon, USA: As-\n",
      "sociation for Computational Linguistics.\n",
      "PAI. 2021. https://partnershiponai.org/paper/responsible-\n",
      "sourcing-considerations/.\n",
      "Patton, D.; Blandfort, P.; Frey, W.; Gaskell, M.; and Kara-\n",
      "man, S. 2018. Annotating Twitter Data from Vulnera-\n",
      "ble Populations: Evaluating Disagreement Between Domain\n",
      "Experts and Graduate Student Annotators.\n",
      "Pavlopoulos, J.; Sorensen, J.; Dixon, L.; Thain, N.; and An-\n",
      "droutsopoulos, I. 2020. Toxicity detection: Does context re-\n",
      "ally matter? arXiv preprint arXiv:2006.00998 .\n",
      "Perez, E.; Huang, S.; Song, F.; Cai, T.; Ring, R.; Aslanides,\n",
      "J.; Glaese, A.; McAleese, N.; and Irving, G. 2022. Red team-\n",
      "ing language models with language models. arXiv preprint\n",
      "arXiv:2202.03286 .\n",
      "Prabhakaran, V .; Mostafazadeh Davani, A.; and Diaz, M.\n",
      "2021. On Releasing Annotator-Level Labels and Informa-\n",
      "tion in Datasets. In Proceedings of The Joint 15th Linguis-\n",
      "tic Annotation Workshop (LAW) and 3rd Designing Meaning\n",
      "Representations (DMR) Workshop . Punta Cana, Dominican\n",
      "Republic: Association for Computational Linguistics.\n",
      "Ramponi, A.; and Plank, B. 2020. Neural Unsuper-\n",
      "vised Domain Adaptation in NLP—A Survey. ArXiv ,\n",
      "abs/2006.00632.\n",
      "Reddit. 2022. Building Better Moderator Tools. Accessed:\n",
      "2022-08-04.\n",
      "Ribeiro, M. T.; Wu, T.; Guestrin, C.; and Singh, S. 2020.\n",
      "Beyond Accuracy: Behavioral Testing of NLP Models with\n",
      "CheckList. In Proceedings of the 58th Annual Meeting of\n",
      "the Association for Computational Linguistics , 4902–4912.\n",
      "Online: Association for Computational Linguistics.\n",
      "Rosenthal, S.; Atanasova, P.; Karadzhov, G.; Zampieri,\n",
      "M.; and Nakov, P. 2020. A Large-Scale Semi-Supervised\n",
      "Dataset for Offensive Language Identiﬁcation. arXiv\n",
      "preprint arXiv:2004.14454 .\n",
      "R¨ottger, P.; Vidgen, B.; Nguyen, D.; Waseem, Z.; Margetts,\n",
      "H.; and Pierrehumbert, J. 2021. HateCheck: Functional\n",
      "Tests for Hate Speech Detection Models. In Proceedings\n",
      "of the 59th Annual Meeting of the Association for Compu-\n",
      "tational Linguistics and the 11th International Joint Con-\n",
      "ference on Natural Language Processing (Volume 1: Long Papers) , 41–58. Online: Association for Computational Lin-\n",
      "guistics.\n",
      "Sap, M.; Card, D.; Gabriel, S.; Choi, Y .; and Smith, N. A.\n",
      "2019. The Risk of Racial Bias in Hate Speech Detection. In\n",
      "Proceedings of the 57th Annual Meeting of the Association\n",
      "for Computational Linguistics , 1668–1678. Florence, Italy:\n",
      "Association for Computational Linguistics.\n",
      "Scheffer, T.; Decomain, C.; and Wrobel, S. 2001. Active\n",
      "hidden markov models for information extraction. In Inter-\n",
      "national Symposium on Intelligent Data Analysis , 309–318.\n",
      "Springer.\n",
      "Schick, T.; and Sch ¨utze, H. 2021. Generating datasets\n",
      "with pretrained language models. arXiv preprint\n",
      "arXiv:2104.07540 .\n",
      "Schmidt, S.; Rao, Q.; Tatsch, J.; and Knoll, A. 2020. Ad-\n",
      "vanced active learning strategies for object detection. In\n",
      "2020 IEEE Intelligent Vehicles Symposium (IV) , 871–876.\n",
      "IEEE.\n",
      "Schohn, G.; and Cohn, D. 2000. Less is more: Active learn-\n",
      "ing with support vector machines. In ICML .\n",
      "Settles, B.; and Craven, M. 2008. An analysis of active\n",
      "learning strategies for sequence labeling tasks. In proceed-\n",
      "ings of the 2008 conference on empirical methods in natural\n",
      "language processing , 1070–1079.\n",
      "Seung, H. S.; Opper, M.; and Sompolinsky, H. 1992. Query\n",
      "by committee. In Proceedings of the ﬁfth annual workshop\n",
      "on Computational learning theory , 287–294.\n",
      "Shah, D.; Lei, T.; Moschitti, A.; Romeo, S.; and Nakov, P.\n",
      "2018. Adversarial Domain Adaptation for Duplicate Ques-\n",
      "tion Detection. In Proceedings of the 2018 Conference on\n",
      "Empirical Methods in Natural Language Processing , 1056–\n",
      "1063. Brussels, Belgium: Association for Computational\n",
      "Linguistics.\n",
      "Shen, D.; Zheng, M.; Shen, Y .; Qu, Y .; and Chen, W. 2020.\n",
      "A Simple but Tough-to-Beat Data Augmentation Approach\n",
      "for Natural Language Understanding and Generation. arXiv\n",
      "preprint arXiv:2009.13818 .\n",
      "Shen, J.; Qu, Y .; Zhang, W.; and Yu, Y . 2018. Wasser-\n",
      "stein Distance Guided Representation Learning for Domain\n",
      "Adaptation. In AAAI .\n",
      "Shen, X.; and Zhai, C. 2005. Active feedback in ad hoc\n",
      "information retrieval. In Proceedings of the 28th annual in-\n",
      "ternational ACM SIGIR conference on Research and devel-\n",
      "opment in information retrieval , 59–66.\n",
      "Siddhant, A.; and Lipton, Z. C. 2018. Deep Bayesian Ac-\n",
      "tive Learning for Natural Language Processing: Results of a\n",
      "Large-Scale Empirical Study. In Proceedings of the 2018\n",
      "Conference on Empirical Methods in Natural Language\n",
      "Processing , 2904–2909. Brussels, Belgium: Association for\n",
      "Computational Linguistics.\n",
      "Szegedy, C.; Zaremba, W.; Sutskever, I.; Bruna, J.; Erhan,\n",
      "D.; Goodfellow, I. J.; and Fergus, R. 2013. Intriguing prop-\n",
      "erties of neural networks. CoRR , abs/1312.6199.\n",
      "Tzeng, E.; Hoffman, J.; Saenko, K.; and Darrell, T. 2017.\n",
      "Adversarial Discriminative Domain Adaptation. 2017 IEEE\n",
      "Conference on Computer Vision and Pattern Recognition\n",
      "(CVPR) , 2962–2971.Vidgen, B.; and Derczynski, L. 2020. Directions in abu-\n",
      "sive language training data, a systematic review: Garbage\n",
      "in, garbage out. Plos one , 15(12): e0243300.\n",
      "Vidgen, B.; Harris, A.; Nguyen, D.; Tromble, R.; Hale, S.;\n",
      "and Margetts, H. 2019. Challenges and frontiers in abusive\n",
      "content detection. In Proceedings of the Third Workshop on\n",
      "Abusive Language Online , 80–93. Florence, Italy: Associa-\n",
      "tion for Computational Linguistics.\n",
      "Vidgen, B.; Thrush, T.; Waseem, Z.; and Kiela, D.\n",
      "2020. Learning from the worst: Dynamically generated\n",
      "datasets to improve online hate detection. arXiv preprint\n",
      "arXiv:2012.15761 .\n",
      "Wang, C.; and Banko, M. 2021. Practical Transformer-based\n",
      "Multilingual Text Classiﬁcation. In Proceedings of the 2021\n",
      "Conference of the North American Chapter of the Associa-\n",
      "tion for Computational Linguistics: Human Language Tech-\n",
      "nologies: Industry Papers , 121–129. Online: Association for\n",
      "Computational Linguistics.\n",
      "Wang, S.; Liu, Y .; Xu, Y .; Zhu, C.; and Zeng, M. 2021a.\n",
      "Want To Reduce Labeling Cost? GPT-3 Can Help. In\n",
      "Findings of the Association for Computational Linguistics:\n",
      "EMNLP 2021 , 4195–4205. Punta Cana, Dominican Repub-\n",
      "lic: Association for Computational Linguistics.\n",
      "Wang, Z.; Yu, A. W.; Firat, O.; and Cao, Y . 2021b.\n",
      "Towards zero-label language learning. arXiv preprint\n",
      "arXiv:2109.09193 .\n",
      "Waseem, Z. 2016. Are You a Racist or Am I Seeing Things?\n",
      "Annotator Inﬂuence on Hate Speech Detection on Twitter.\n",
      "InProceedings of the First Workshop on NLP and Computa-\n",
      "tional Social Science , 138–142. Austin, Texas: Association\n",
      "for Computational Linguistics.\n",
      "Wei, J.; and Zou, K. 2019. EDA: Easy Data Augmentation\n",
      "Techniques for Boosting Performance on Text Classiﬁcation\n",
      "Tasks. In Proceedings of the 2019 Conference on Empirical\n",
      "Methods in Natural Language Processing and the 9th Inter-\n",
      "national Joint Conference on Natural Language Processing\n",
      "(EMNLP-IJCNLP) , 6383–6389. Hong Kong, China: Asso-\n",
      "ciation for Computational Linguistics.\n",
      "Weidinger, L.; Mellor, J.; Rauh, M.; Grifﬁn, C.; Uesato, J.;\n",
      "Huang, P.-S.; Cheng, M.; Glaese, M.; Balle, B.; Kasirzadeh,\n",
      "A.; et al. 2021. Ethical and social risks of harm from lan-\n",
      "guage models. arXiv preprint arXiv:2112.04359 .\n",
      "Weiss, K. R.; Khoshgoftaar, T. M.; and Wang, D. 2016. A\n",
      "survey of transfer learning. Journal of Big Data , 3: 1–40.\n",
      "Welbl, J.; Glaese, A.; Uesato, J.; Dathathri, S.; Mellor, J.;\n",
      "Hendricks, L. A.; Anderson, K.; Kohli, P.; Coppin, B.; and\n",
      "Huang, P.-S. 2021. Challenges in detoxifying language mod-\n",
      "els.arXiv preprint arXiv:2109.07445 .\n",
      "Xu, Z.; Akella, R.; and Zhang, Y . 2007. Incorporating di-\n",
      "versity and density in active learning for relevance feedback.\n",
      "InEuropean Conference on Information Retrieval , 246–257.\n",
      "Springer.\n",
      "Yin, W.; and Zubiaga, A. 2021. Towards generalisable hate\n",
      "speech detection: a review on obstacles and solutions. PeerJ\n",
      "Computer Science , 7: e598. Yoo, K. M.; Park, D.; Kang, J.; Lee, S.-W.; and Park, W.\n",
      "2021. GPT3Mix: Leveraging large-scale language models\n",
      "for text augmentation. arXiv preprint arXiv:2104.08826 .\n",
      "YouTube. 2019. The Four Rs of Responsibility, Part 1: Re-\n",
      "moving Harmful Content. Accessed: 2022-08-04.\n",
      "Zampieri, M.; Malmasi, S.; Nakov, P.; Rosenthal, S.; Farra,\n",
      "N.; and Kumar, R. 2019. Predicting the Type and Target of\n",
      "Offensive Posts in Social Media. In Proceedings of the 2019\n",
      "Conference of the North American Chapter of the Associa-\n",
      "tion for Computational Linguistics: Human Language Tech-\n",
      "nologies, Volume 1 (Long and Short Papers) , 1415–1420.\n",
      "Association for Computational Linguistics.\n",
      "Zeng, X.; Garg, S.; Chatterjee, R.; Nallasamy, U.; and\n",
      "Paulik, M. 2019. Empirical evaluation of active learning\n",
      "techniques for neural MT. In Proceedings of the 2nd Work-\n",
      "shop on Deep Learning Approaches for Low-Resource NLP\n",
      "(DeepLo 2019) , 84–93.\n",
      "Zhang, C.; Zhao, J.; Zhang, H.; Chang, K.-W.; and Hsieh,\n",
      "C.-J. 2021. Double Perturbation: On the Robustness of Ro-\n",
      "bustness and Counterfactual Bias Evaluation. In Proceed-\n",
      "ings of the 2021 Conference of the North American Chap-\n",
      "ter of the Association for Computational Linguistics: Hu-\n",
      "man Language Technologies , 3899–3916. Online: Associa-\n",
      "tion for Computational Linguistics.\n",
      "Zhao, J.; Wang, T.; Yatskar, M.; Ordonez, V .; and Chang, K.-\n",
      "W. 2017. Men Also Like Shopping: Reducing Gender Bias\n",
      "Ampliﬁcation using Corpus-level Constraints. In Proceed-\n",
      "ings of the 2017 Conference on Empirical Methods in Nat-\n",
      "ural Language Processing , 2979–2989. Copenhagen, Den-\n",
      "mark: Association for Computational Linguistics.\n",
      "Ziegler, D. M.; Nix, S.; Chan, L.; Bauman, T.; Schmidt-\n",
      "Nielsen, P.; Lin, T.; Scherlis, A.; Nabeshima, N.; Weinstein-\n",
      "Raun, B.; de Haas, D.; et al. 2022. Adversarial Training for\n",
      "High-Stakes Reliability. arXiv preprint arXiv:2205.01663 .\n",
      "A Experiment Details\n",
      "Table 6 presents how we map model taxonomies into la-\n",
      "bels of different evaluation datasets. Some of the mappings\n",
      "are only approximation. For example, Perspective deﬁnes\n",
      "”threat” as ”Describes an intention to inﬂict pain, injury,\n",
      "or violence against an individual or group.”, not includ-\n",
      "ing graphic violence, so not a perfect match for our ”vio-\n",
      "lence” category. Either or our taxonomy has a good match\n",
      "for ”toxic”, ”severe toxic”, or ”offensive.\n",
      "Our Evaluation Set. We are aware that about 4% of our\n",
      "evaluation samples are in non-English. Perspective API call\n",
      "takes the language as an input parameter, but multilingual is\n",
      "not supported for several attributes. We instead use ”en” for\n",
      "all the calls.\n",
      "Jigsaw. Jigsaw dataset is pretty large and we include about\n",
      "half of it into our training set to resolve the cold-start prob-\n",
      "lem. Among the rest half, we sampled 5000 examples for\n",
      "evaluation.\n",
      "TweetEval. We take the TweetEval (Barbieri et al. 2020)\n",
      "test datasets7on ”hate” and ”offensive”. There are in total\n",
      "7https://github.com/cardiffnlp/tweeteval/tree/main/datasets2970 samples in the hate task test set and 860 in the offensive\n",
      "one.\n",
      "Stormfront. We use the test dataset of de Gibert et al.\n",
      "(2018)8, containing 478 samples.\n",
      "Reddit. We downsampled 5000 examples from the ”RS -\n",
      "201501” snapshot of Reddit pushshift datasets9and assigned\n",
      "noisy binary label to each example on whether it contains\n",
      "sexual content according to the subreddits as listed in Barri-\n",
      "entos et al. (2020).\n",
      "8https://github.com/Vicomtech/hate-speech-dataset\n",
      "9https://ﬁles.pushshift.io/reddit/submissions/ Taxonomy Perspective Ours\n",
      "Ours Sexual max(sexually explicit, profanity, ﬂirtation) sexual\n",
      "Hate identity attack hate\n",
      "Violence threat violence\n",
      "Harassment max(toxicity, severe toxicity, insult, threat) harassment\n",
      "Sexual/minors - sexual/minors\n",
      "Jigsaw Toxic toxicity harassment\n",
      "Obscene max(sexually explicit, profanity) sexual\n",
      "Threat threat violence\n",
      "Insult insult max(harassment, hate)\n",
      "Identity hate identity attack hate\n",
      "TweetEval Hate identity attack hate\n",
      "Offensive max(toxicity, severe toxicity, threat, insult,\n",
      "identity attack)harassment\n",
      "Stormfront Hate identity attack hate\n",
      "Reddit Sexual max(sexually explicit, profanity, ﬂirtation) sexual\n",
      "Table 6: How taxonomies of different APIs get mapped into labels of various evaluation datasets.\n"
     ]
    }
   ],
   "source": [
    "print(full_text)"
   ]
  },
  {
   "cell_type": "code",
   "execution_count": 11,
   "metadata": {},
   "outputs": [],
   "source": [
    "def split_into_chunks(s, text_chunk_size):\n",
    "    words = s.split()\n",
    "    chunks = []\n",
    "    chunk = \"\"\n",
    "    for i, word in enumerate(words):\n",
    "        if i % text_chunk_size == 0 and i > 0:\n",
    "            chunks.append(chunk.strip())\n",
    "            chunk = \"\"\n",
    "        chunk += word + \" \"\n",
    "    if chunk:\n",
    "        chunks.append(chunk.strip())\n",
    "    return chunks\n"
   ]
  },
  {
   "cell_type": "code",
   "execution_count": 12,
   "metadata": {},
   "outputs": [],
   "source": [
    "text_chunks = split_into_chunks(full_text, text_chunk_size=300)"
   ]
  },
  {
   "cell_type": "code",
   "execution_count": 13,
   "metadata": {},
   "outputs": [
    {
     "data": {
      "text/plain": [
       "40"
      ]
     },
     "execution_count": 13,
     "metadata": {},
     "output_type": "execute_result"
    }
   ],
   "source": [
    "len(text_chunks)"
   ]
  },
  {
   "cell_type": "code",
   "execution_count": 14,
   "metadata": {},
   "outputs": [
    {
     "name": "stdout",
     "output_type": "stream",
     "text": [
      "0 300\n",
      "1 300\n",
      "2 300\n",
      "3 300\n",
      "4 300\n",
      "5 300\n",
      "6 300\n",
      "7 300\n",
      "8 300\n",
      "9 300\n",
      "10 300\n",
      "11 300\n",
      "12 300\n",
      "13 300\n",
      "14 300\n",
      "15 300\n",
      "16 300\n",
      "17 300\n",
      "18 300\n",
      "19 300\n",
      "20 300\n",
      "21 300\n",
      "22 300\n",
      "23 300\n",
      "24 300\n",
      "25 300\n",
      "26 300\n",
      "27 300\n",
      "28 300\n",
      "29 300\n",
      "30 300\n",
      "31 300\n",
      "32 300\n",
      "33 300\n",
      "34 300\n",
      "35 300\n",
      "36 300\n",
      "37 300\n",
      "38 300\n",
      "39 157\n"
     ]
    }
   ],
   "source": [
    "def word_counter(text):\n",
    "    return len(text.split())\n",
    "\n",
    "for i, text_chunk in enumerate(text_chunks):\n",
    "    print(i, word_counter(text_chunk))"
   ]
  },
  {
   "attachments": {},
   "cell_type": "markdown",
   "metadata": {},
   "source": [
    "# NER Visualization"
   ]
  },
  {
   "cell_type": "code",
   "execution_count": 7,
   "metadata": {},
   "outputs": [
    {
     "name": "stdout",
     "output_type": "stream",
     "text": [
      "Apple was founded by Steve Jobs and Steve Wozniak in April 1976. The company is headquartered in Cupertino, California.\n",
      "[('Apple', 'ORG'), ('Steve Jobs', 'PERSON'), ('Steve Wozniak', 'PERSON'), ('April 1976', 'DATE'), ('Cupertino', 'GPE'), ('California', 'GPE')]\n",
      "Apple was founded by Steve Jobs and Steve Wozniak in April 1976.\n",
      "The company is headquartered in Cupertino, California.\n"
     ]
    },
    {
     "data": {
      "image/png": "[encoded data removed]",
      "text/plain": [
       "<Figure size 640x480 with 1 Axes>"
      ]
     },
     "metadata": {},
     "output_type": "display_data"
    }
   ],
   "source": [
    "import spacy\n",
    "import networkx as nx\n",
    "import matplotlib.pyplot as plt\n",
    "\n",
    "# Load spaCy's pre-trained English language model\n",
    "nlp = spacy.load('en_core_web_sm')\n",
    "\n",
    "# Define a text string to analyze\n",
    "text = \"Apple was founded by Steve Jobs and Steve Wozniak in April 1976. The company is headquartered in Cupertino, California.\"\n",
    "\n",
    "# Use spaCy to extract named entities from the text\n",
    "doc = nlp(text)\n",
    "print(doc)\n",
    "entities = [(ent.text, ent.label_) for ent in doc.ents]\n",
    "print(entities)\n",
    "# Create a directed graph to represent the named entities and their relationships\n",
    "G = nx.DiGraph()\n",
    "\n",
    "# Add each named entity to the graph as a node\n",
    "for entity in entities:\n",
    "    G.add_node(entity[0], label=entity[1])\n",
    "\n",
    "# Add edges between named entities that appear in the same sentence\n",
    "for sent in doc.sents:\n",
    "    print(sent)\n",
    "    sent_entities = [ent.text for ent in sent.ents]\n",
    "    for i, entity in enumerate(sent_entities):\n",
    "        for j in range(i+1, len(sent_entities)):\n",
    "            G.add_edge(entity, sent_entities[j])\n",
    "\n",
    "# Use NetworkX and Matplotlib to visualize the graph\n",
    "labels = nx.get_node_attributes(G, 'label')\n",
    "nx.draw_networkx(G, labels=labels, with_labels=True, node_color='lightblue', edge_color='gray', font_size=10, font_family='Arial', width=0.5, node_size=500)\n",
    "plt.axis('off')\n",
    "plt.show()\n"
   ]
  },
  {
   "cell_type": "code",
   "execution_count": 11,
   "metadata": {},
   "outputs": [
    {
     "data": {
      "image/png": "[encoded data removed]",
      "text/plain": [
       "<Figure size 1200x800 with 1 Axes>"
      ]
     },
     "metadata": {},
     "output_type": "display_data"
    }
   ],
   "source": [
    "import spacy\n",
    "import networkx as nx\n",
    "import matplotlib.pyplot as plt\n",
    "\n",
    "# Load spaCy's pre-trained English language model\n",
    "nlp = spacy.load('en_core_web_sm')\n",
    "\n",
    "# Define a text string to analyze\n",
    "text = \"Apple was founded by Steve Jobs and Steve Wozniak in April 1976. The company is headquartered in Cupertino, California.\"\n",
    "\n",
    "# Use spaCy to extract named entities from the text\n",
    "doc = nlp(text)\n",
    "entities = [(ent.text, ent.label_) for ent in doc.ents]\n",
    "\n",
    "# Create a dictionary to map entity labels to colors\n",
    "entity_colors = {'PERSON': 'salmon', 'DATE': 'lightgreen', 'GPE': 'skyblue', 'ORG': 'lightpink', 'CARDINAL': 'lavender'}\n",
    "\n",
    "# Create a networkx graph\n",
    "G = nx.Graph()\n",
    "\n",
    "# Add nodes for each named entity\n",
    "for entity in entities:\n",
    "    # Set node color based on entity label\n",
    "    node_color = entity_colors.get(entity[1], 'gray')\n",
    "    # Add node to networkx graph\n",
    "    G.add_node(entity[0], label=entity[0], color=node_color)\n",
    "\n",
    "# Add edges between named entities\n",
    "for sent in doc.sents:\n",
    "    sent_entities = [ent.text for ent in sent.ents]\n",
    "    for i, entity in enumerate(sent_entities):\n",
    "        for j in range(i+1, len(sent_entities)):\n",
    "            if entity != sent_entities[j]:\n",
    "                # Add edge to networkx graph\n",
    "                G.add_edge(entity, sent_entities[j])\n",
    "\n",
    "# Get node positions using networkx spring layout algorithm\n",
    "pos = nx.spring_layout(G, seed=42)\n",
    "\n",
    "# Create node and edge color lists for matplotlib visualization\n",
    "node_colors = [G.nodes[n]['color'] for n in G.nodes]\n",
    "edge_colors = ['gray' for e in G.edges]\n",
    "\n",
    "# Set plot size\n",
    "plt.figure(figsize=(12, 8))\n",
    "\n",
    "# Draw nodes and edges using matplotlib\n",
    "nx.draw_networkx_nodes(G, pos, node_color=node_colors, node_size=1000, alpha=0.8)\n",
    "nx.draw_networkx_edges(G, pos, edge_color=edge_colors, alpha=0.5)\n",
    "\n",
    "# Add labels to nodes using matplotlib\n",
    "node_labels = nx.get_node_attributes(G, 'label')\n",
    "nx.draw_networkx_labels(G, pos, labels=node_labels, font_size=14, font_family='Arial')\n",
    "\n",
    "# Set plot options\n",
    "plt.axis('off')\n",
    "plt.title('Named Entity Visualization')\n",
    "plt.show()\n"
   ]
  },
  {
   "cell_type": "code",
   "execution_count": 21,
   "metadata": {},
   "outputs": [
    {
     "name": "stdout",
     "output_type": "stream",
     "text": [
      "[[ 32.9262817  -22.15512653]\n",
      " [  7.88012953  25.96052928]\n",
      " [  2.99794351  18.00007363]\n",
      " [-32.61238976 -11.59555404]\n",
      " [  0.51060408  -2.18539839]\n",
      " [-11.70256906  -8.02452394]]\n",
      "(6, 2)\n"
     ]
    },
    {
     "data": {
      "image/png": "[encoded data removed]",
      "text/plain": [
       "<Figure size 1200x800 with 1 Axes>"
      ]
     },
     "metadata": {},
     "output_type": "display_data"
    }
   ],
   "source": [
    "import spacy\n",
    "import networkx as nx\n",
    "import matplotlib.pyplot as plt\n",
    "import numpy as np\n",
    "from sklearn.decomposition import PCA\n",
    "\n",
    "# Load spaCy's pre-trained English language model with large pre-trained embeddings\n",
    "nlp = spacy.load('en_core_web_lg')\n",
    "\n",
    "# Define a text string to analyze\n",
    "text = \"Apple was founded by Steve Jobs and Steve Wozniak in April 1976. The company is headquartered in Cupertino, California.\"\n",
    "\n",
    "# Use spaCy to extract named entities from the text and get their embeddings\n",
    "doc = nlp(text)\n",
    "entities = [(ent.text, ent.label_, ent.vector) for ent in doc.ents]\n",
    "\n",
    "# Create a dictionary to map entity labels to colors\n",
    "entity_colors = {'PERSON': 'salmon', 'DATE': 'lightgreen', 'GPE': 'skyblue', 'ORG': 'lightpink', 'CARDINAL': 'lavender'}\n",
    "\n",
    "# Create a networkx graph\n",
    "G = nx.Graph()\n",
    "\n",
    "# Add nodes for each named entity\n",
    "for entity in entities:\n",
    "    # Set node color based on entity label\n",
    "    node_color = entity_colors.get(entity[1], 'gray')\n",
    "    # Add node to networkx graph with LLM embedding as node attribute\n",
    "    G.add_node(entity[0], label=entity[0], color=node_color, emb=entity[2])\n",
    "\n",
    "# Add edges between named entities\n",
    "for sent in doc.sents:\n",
    "    sent_entities = [ent.text for ent in sent.ents]\n",
    "    for i, entity in enumerate(sent_entities):\n",
    "        for j in range(i+1, len(sent_entities)):\n",
    "            if entity != sent_entities[j]:\n",
    "                # Add edge to networkx graph\n",
    "                G.add_edge(entity, sent_entities[j])\n",
    "\n",
    "# Get node embeddings using LLM embeddings\n",
    "embeddings = [G.nodes[n]['emb'] for n in G.nodes]\n",
    "\n",
    "# Use PCA to reduce the dimensionality of the embeddings to 2D coordinates\n",
    "pca = PCA(n_components=2)\n",
    "embeddings_2d = pca.fit_transform(embeddings)\n",
    "print(embeddings_2d)\n",
    "print(embeddings_2d.shape)\n",
    "\n",
    "# Update the pos dictionary with the 2D coordinates\n",
    "pos = {n: embeddings_2d[i] for i, n in enumerate(G.nodes)}\n",
    "\n",
    "# Create node and edge color lists for matplotlib visualization\n",
    "node_colors = [G.nodes[n]['color'] for n in G.nodes]\n",
    "edge_colors = ['gray' for e in G.edges]\n",
    "\n",
    "# Set plot size\n",
    "plt.figure(figsize=(12, 8))\n",
    "\n",
    "# Draw nodes and edges using matplotlib\n",
    "nx.draw_networkx_nodes(G, pos, node_color=node_colors, node_size=1000, alpha=0.8)\n",
    "nx.draw_networkx_edges(G, pos, edge_color=edge_colors, alpha=0.5)\n",
    "\n",
    "# Add labels to nodes using matplotlib\n",
    "node_labels = nx.get_node_attributes(G, 'label')\n",
    "nx.draw_networkx_labels(G, pos, labels=node_labels, font_size=14, font_family='Arial')\n",
    "\n",
    "# Set plot options\n",
    "plt.axis('off')\n",
    "plt.title('Named Entity Visualization with LLM embeddings')\n",
    "plt.show()\n"
   ]
  },
  {
   "cell_type": "code",
   "execution_count": 10,
   "metadata": {},
   "outputs": [
    {
     "data": {
      "application/vnd.plotly.v1+json": {
       "config": {
        "plotlyServerURL": "https://plot.ly"
       },
       "data": [
        {
         "hoverinfo": "text",
         "hovertext": "Label: ORG",
         "marker": {
          "color": "lightpink",
          "size": 10
         },
         "mode": "markers",
         "text": "Apple",
         "type": "scatter",
         "x": [
          0
         ],
         "y": [
          0
         ]
        },
        {
         "hoverinfo": "text",
         "hovertext": "Label: PERSON",
         "marker": {
          "color": "salmon",
          "size": 10
         },
         "mode": "markers",
         "text": "Steve Jobs",
         "type": "scatter",
         "x": [
          0
         ],
         "y": [
          0
         ]
        },
        {
         "hoverinfo": "text",
         "hovertext": "Label: PERSON",
         "marker": {
          "color": "salmon",
          "size": 10
         },
         "mode": "markers",
         "text": "Steve Wozniak",
         "type": "scatter",
         "x": [
          0
         ],
         "y": [
          0
         ]
        },
        {
         "hoverinfo": "text",
         "hovertext": "Label: DATE",
         "marker": {
          "color": "lightgreen",
          "size": 10
         },
         "mode": "markers",
         "text": "April 1976",
         "type": "scatter",
         "x": [
          0
         ],
         "y": [
          0
         ]
        },
        {
         "hoverinfo": "text",
         "hovertext": "Label: GPE",
         "marker": {
          "color": "skyblue",
          "size": 10
         },
         "mode": "markers",
         "text": "Cupertino",
         "type": "scatter",
         "x": [
          0
         ],
         "y": [
          0
         ]
        },
        {
         "hoverinfo": "text",
         "hovertext": "Label: GPE",
         "marker": {
          "color": "skyblue",
          "size": 10
         },
         "mode": "markers",
         "text": "California",
         "type": "scatter",
         "x": [
          0
         ],
         "y": [
          0
         ]
        },
        {
         "hoverinfo": "none",
         "line": {
          "color": "gray",
          "width": 1
         },
         "mode": "lines",
         "type": "scatter",
         "x": [
          0,
          0
         ],
         "y": [
          0,
          0
         ]
        },
        {
         "hoverinfo": "none",
         "line": {
          "color": "gray",
          "width": 1
         },
         "mode": "lines",
         "type": "scatter",
         "x": [
          0,
          0
         ],
         "y": [
          0,
          0
         ]
        },
        {
         "hoverinfo": "none",
         "line": {
          "color": "gray",
          "width": 1
         },
         "mode": "lines",
         "type": "scatter",
         "x": [
          0,
          0
         ],
         "y": [
          0,
          0
         ]
        },
        {
         "hoverinfo": "none",
         "line": {
          "color": "gray",
          "width": 1
         },
         "mode": "lines",
         "type": "scatter",
         "x": [
          0,
          0
         ],
         "y": [
          0,
          0
         ]
        },
        {
         "hoverinfo": "none",
         "line": {
          "color": "gray",
          "width": 1
         },
         "mode": "lines",
         "type": "scatter",
         "x": [
          0,
          0
         ],
         "y": [
          0,
          0
         ]
        },
        {
         "hoverinfo": "none",
         "line": {
          "color": "gray",
          "width": 1
         },
         "mode": "lines",
         "type": "scatter",
         "x": [
          0,
          0
         ],
         "y": [
          0,
          0
         ]
        },
        {
         "hoverinfo": "none",
         "line": {
          "color": "gray",
          "width": 1
         },
         "mode": "lines",
         "type": "scatter",
         "x": [
          0,
          0
         ],
         "y": [
          0,
          0
         ]
        }
       ],
       "layout": {
        "annotations": [
         {
          "showarrow": false,
          "text": "Use mouse to pan & zoom, click node to expand",
          "x": 0.05,
          "xref": "paper",
          "y": 0.95,
          "yref": "paper"
         }
        ],
        "dragmode": "pan",
        "height": 600,
        "hoverdistance": 100,
        "hoverlabel": {
         "bgcolor": "white",
         "font": {
          "family": "Arial",
          "size": 12
         }
        },
        "hovermode": "closest",
        "margin": {
         "b": 20,
         "l": 5,
         "r": 5,
         "t": 40
        },
        "modebar": {
         "bgcolor": "white",
         "orientation": "v"
        },
        "showlegend": false,
        "spikedistance": 100,
        "template": {
         "data": {
          "bar": [
           {
            "error_x": {
             "color": "#2a3f5f"
            },
            "error_y": {
             "color": "#2a3f5f"
            },
            "marker": {
             "line": {
              "color": "#E5ECF6",
              "width": 0.5
             },
             "pattern": {
              "fillmode": "overlay",
              "size": 10,
              "solidity": 0.2
             }
            },
            "type": "bar"
           }
          ],
          "barpolar": [
           {
            "marker": {
             "line": {
              "color": "#E5ECF6",
              "width": 0.5
             },
             "pattern": {
              "fillmode": "overlay",
              "size": 10,
              "solidity": 0.2
             }
            },
            "type": "barpolar"
           }
          ],
          "carpet": [
           {
            "aaxis": {
             "endlinecolor": "#2a3f5f",
             "gridcolor": "white",
             "linecolor": "white",
             "minorgridcolor": "white",
             "startlinecolor": "#2a3f5f"
            },
            "baxis": {
             "endlinecolor": "#2a3f5f",
             "gridcolor": "white",
             "linecolor": "white",
             "minorgridcolor": "white",
             "startlinecolor": "#2a3f5f"
            },
            "type": "carpet"
           }
          ],
          "choropleth": [
           {
            "colorbar": {
             "outlinewidth": 0,
             "ticks": ""
            },
            "type": "choropleth"
           }
          ],
          "contour": [
           {
            "colorbar": {
             "outlinewidth": 0,
             "ticks": ""
            },
            "colorscale": [
             [
              0,
              "#0d0887"
             ],
             [
              0.1111111111111111,
              "#46039f"
             ],
             [
              0.2222222222222222,
              "#7201a8"
             ],
             [
              0.3333333333333333,
              "#9c179e"
             ],
             [
              0.4444444444444444,
              "#bd3786"
             ],
             [
              0.5555555555555556,
              "#d8576b"
             ],
             [
              0.6666666666666666,
              "#ed7953"
             ],
             [
              0.7777777777777778,
              "#fb9f3a"
             ],
             [
              0.8888888888888888,
              "#fdca26"
             ],
             [
              1,
              "#f0f921"
             ]
            ],
            "type": "contour"
           }
          ],
          "contourcarpet": [
           {
            "colorbar": {
             "outlinewidth": 0,
             "ticks": ""
            },
            "type": "contourcarpet"
           }
          ],
          "heatmap": [
           {
            "colorbar": {
             "outlinewidth": 0,
             "ticks": ""
            },
            "colorscale": [
             [
              0,
              "#0d0887"
             ],
             [
              0.1111111111111111,
              "#46039f"
             ],
             [
              0.2222222222222222,
              "#7201a8"
             ],
             [
              0.3333333333333333,
              "#9c179e"
             ],
             [
              0.4444444444444444,
              "#bd3786"
             ],
             [
              0.5555555555555556,
              "#d8576b"
             ],
             [
              0.6666666666666666,
              "#ed7953"
             ],
             [
              0.7777777777777778,
              "#fb9f3a"
             ],
             [
              0.8888888888888888,
              "#fdca26"
             ],
             [
              1,
              "#f0f921"
             ]
            ],
            "type": "heatmap"
           }
          ],
          "heatmapgl": [
           {
            "colorbar": {
             "outlinewidth": 0,
             "ticks": ""
            },
            "colorscale": [
             [
              0,
              "#0d0887"
             ],
             [
              0.1111111111111111,
              "#46039f"
             ],
             [
              0.2222222222222222,
              "#7201a8"
             ],
             [
              0.3333333333333333,
              "#9c179e"
             ],
             [
              0.4444444444444444,
              "#bd3786"
             ],
             [
              0.5555555555555556,
              "#d8576b"
             ],
             [
              0.6666666666666666,
              "#ed7953"
             ],
             [
              0.7777777777777778,
              "#fb9f3a"
             ],
             [
              0.8888888888888888,
              "#fdca26"
             ],
             [
              1,
              "#f0f921"
             ]
            ],
            "type": "heatmapgl"
           }
          ],
          "histogram": [
           {
            "marker": {
             "pattern": {
              "fillmode": "overlay",
              "size": 10,
              "solidity": 0.2
             }
            },
            "type": "histogram"
           }
          ],
          "histogram2d": [
           {
            "colorbar": {
             "outlinewidth": 0,
             "ticks": ""
            },
            "colorscale": [
             [
              0,
              "#0d0887"
             ],
             [
              0.1111111111111111,
              "#46039f"
             ],
             [
              0.2222222222222222,
              "#7201a8"
             ],
             [
              0.3333333333333333,
              "#9c179e"
             ],
             [
              0.4444444444444444,
              "#bd3786"
             ],
             [
              0.5555555555555556,
              "#d8576b"
             ],
             [
              0.6666666666666666,
              "#ed7953"
             ],
             [
              0.7777777777777778,
              "#fb9f3a"
             ],
             [
              0.8888888888888888,
              "#fdca26"
             ],
             [
              1,
              "#f0f921"
             ]
            ],
            "type": "histogram2d"
           }
          ],
          "histogram2dcontour": [
           {
            "colorbar": {
             "outlinewidth": 0,
             "ticks": ""
            },
            "colorscale": [
             [
              0,
              "#0d0887"
             ],
             [
              0.1111111111111111,
              "#46039f"
             ],
             [
              0.2222222222222222,
              "#7201a8"
             ],
             [
              0.3333333333333333,
              "#9c179e"
             ],
             [
              0.4444444444444444,
              "#bd3786"
             ],
             [
              0.5555555555555556,
              "#d8576b"
             ],
             [
              0.6666666666666666,
              "#ed7953"
             ],
             [
              0.7777777777777778,
              "#fb9f3a"
             ],
             [
              0.8888888888888888,
              "#fdca26"
             ],
             [
              1,
              "#f0f921"
             ]
            ],
            "type": "histogram2dcontour"
           }
          ],
          "mesh3d": [
           {
            "colorbar": {
             "outlinewidth": 0,
             "ticks": ""
            },
            "type": "mesh3d"
           }
          ],
          "parcoords": [
           {
            "line": {
             "colorbar": {
              "outlinewidth": 0,
              "ticks": ""
             }
            },
            "type": "parcoords"
           }
          ],
          "pie": [
           {
            "automargin": true,
            "type": "pie"
           }
          ],
          "scatter": [
           {
            "fillpattern": {
             "fillmode": "overlay",
             "size": 10,
             "solidity": 0.2
            },
            "type": "scatter"
           }
          ],
          "scatter3d": [
           {
            "line": {
             "colorbar": {
              "outlinewidth": 0,
              "ticks": ""
             }
            },
            "marker": {
             "colorbar": {
              "outlinewidth": 0,
              "ticks": ""
             }
            },
            "type": "scatter3d"
           }
          ],
          "scattercarpet": [
           {
            "marker": {
             "colorbar": {
              "outlinewidth": 0,
              "ticks": ""
             }
            },
            "type": "scattercarpet"
           }
          ],
          "scattergeo": [
           {
            "marker": {
             "colorbar": {
              "outlinewidth": 0,
              "ticks": ""
             }
            },
            "type": "scattergeo"
           }
          ],
          "scattergl": [
           {
            "marker": {
             "colorbar": {
              "outlinewidth": 0,
              "ticks": ""
             }
            },
            "type": "scattergl"
           }
          ],
          "scattermapbox": [
           {
            "marker": {
             "colorbar": {
              "outlinewidth": 0,
              "ticks": ""
             }
            },
            "type": "scattermapbox"
           }
          ],
          "scatterpolar": [
           {
            "marker": {
             "colorbar": {
              "outlinewidth": 0,
              "ticks": ""
             }
            },
            "type": "scatterpolar"
           }
          ],
          "scatterpolargl": [
           {
            "marker": {
             "colorbar": {
              "outlinewidth": 0,
              "ticks": ""
             }
            },
            "type": "scatterpolargl"
           }
          ],
          "scatterternary": [
           {
            "marker": {
             "colorbar": {
              "outlinewidth": 0,
              "ticks": ""
             }
            },
            "type": "scatterternary"
           }
          ],
          "surface": [
           {
            "colorbar": {
             "outlinewidth": 0,
             "ticks": ""
            },
            "colorscale": [
             [
              0,
              "#0d0887"
             ],
             [
              0.1111111111111111,
              "#46039f"
             ],
             [
              0.2222222222222222,
              "#7201a8"
             ],
             [
              0.3333333333333333,
              "#9c179e"
             ],
             [
              0.4444444444444444,
              "#bd3786"
             ],
             [
              0.5555555555555556,
              "#d8576b"
             ],
             [
              0.6666666666666666,
              "#ed7953"
             ],
             [
              0.7777777777777778,
              "#fb9f3a"
             ],
             [
              0.8888888888888888,
              "#fdca26"
             ],
             [
              1,
              "#f0f921"
             ]
            ],
            "type": "surface"
           }
          ],
          "table": [
           {
            "cells": {
             "fill": {
              "color": "#EBF0F8"
             },
             "line": {
              "color": "white"
             }
            },
            "header": {
             "fill": {
              "color": "#C8D4E3"
             },
             "line": {
              "color": "white"
             }
            },
            "type": "table"
           }
          ]
         },
         "layout": {
          "annotationdefaults": {
           "arrowcolor": "#2a3f5f",
           "arrowhead": 0,
           "arrowwidth": 1
          },
          "autotypenumbers": "strict",
          "coloraxis": {
           "colorbar": {
            "outlinewidth": 0,
            "ticks": ""
           }
          },
          "colorscale": {
           "diverging": [
            [
             0,
             "#8e0152"
            ],
            [
             0.1,
             "#c51b7d"
            ],
            [
             0.2,
             "#de77ae"
            ],
            [
             0.3,
             "#f1b6da"
            ],
            [
             0.4,
             "#fde0ef"
            ],
            [
             0.5,
             "#f7f7f7"
            ],
            [
             0.6,
             "#e6f5d0"
            ],
            [
             0.7,
             "#b8e186"
            ],
            [
             0.8,
             "#7fbc41"
            ],
            [
             0.9,
             "#4d9221"
            ],
            [
             1,
             "#276419"
            ]
           ],
           "sequential": [
            [
             0,
             "#0d0887"
            ],
            [
             0.1111111111111111,
             "#46039f"
            ],
            [
             0.2222222222222222,
             "#7201a8"
            ],
            [
             0.3333333333333333,
             "#9c179e"
            ],
            [
             0.4444444444444444,
             "#bd3786"
            ],
            [
             0.5555555555555556,
             "#d8576b"
            ],
            [
             0.6666666666666666,
             "#ed7953"
            ],
            [
             0.7777777777777778,
             "#fb9f3a"
            ],
            [
             0.8888888888888888,
             "#fdca26"
            ],
            [
             1,
             "#f0f921"
            ]
           ],
           "sequentialminus": [
            [
             0,
             "#0d0887"
            ],
            [
             0.1111111111111111,
             "#46039f"
            ],
            [
             0.2222222222222222,
             "#7201a8"
            ],
            [
             0.3333333333333333,
             "#9c179e"
            ],
            [
             0.4444444444444444,
             "#bd3786"
            ],
            [
             0.5555555555555556,
             "#d8576b"
            ],
            [
             0.6666666666666666,
             "#ed7953"
            ],
            [
             0.7777777777777778,
             "#fb9f3a"
            ],
            [
             0.8888888888888888,
             "#fdca26"
            ],
            [
             1,
             "#f0f921"
            ]
           ]
          },
          "colorway": [
           "#636efa",
           "#EF553B",
           "#00cc96",
           "#ab63fa",
           "#FFA15A",
           "#19d3f3",
           "#FF6692",
           "#B6E880",
           "#FF97FF",
           "#FECB52"
          ],
          "font": {
           "color": "#2a3f5f"
          },
          "geo": {
           "bgcolor": "white",
           "lakecolor": "white",
           "landcolor": "#E5ECF6",
           "showlakes": true,
           "showland": true,
           "subunitcolor": "white"
          },
          "hoverlabel": {
           "align": "left"
          },
          "hovermode": "closest",
          "mapbox": {
           "style": "light"
          },
          "paper_bgcolor": "white",
          "plot_bgcolor": "#E5ECF6",
          "polar": {
           "angularaxis": {
            "gridcolor": "white",
            "linecolor": "white",
            "ticks": ""
           },
           "bgcolor": "#E5ECF6",
           "radialaxis": {
            "gridcolor": "white",
            "linecolor": "white",
            "ticks": ""
           }
          },
          "scene": {
           "xaxis": {
            "backgroundcolor": "#E5ECF6",
            "gridcolor": "white",
            "gridwidth": 2,
            "linecolor": "white",
            "showbackground": true,
            "ticks": "",
            "zerolinecolor": "white"
           },
           "yaxis": {
            "backgroundcolor": "#E5ECF6",
            "gridcolor": "white",
            "gridwidth": 2,
            "linecolor": "white",
            "showbackground": true,
            "ticks": "",
            "zerolinecolor": "white"
           },
           "zaxis": {
            "backgroundcolor": "#E5ECF6",
            "gridcolor": "white",
            "gridwidth": 2,
            "linecolor": "white",
            "showbackground": true,
            "ticks": "",
            "zerolinecolor": "white"
           }
          },
          "shapedefaults": {
           "line": {
            "color": "#2a3f5f"
           }
          },
          "ternary": {
           "aaxis": {
            "gridcolor": "white",
            "linecolor": "white",
            "ticks": ""
           },
           "baxis": {
            "gridcolor": "white",
            "linecolor": "white",
            "ticks": ""
           },
           "bgcolor": "#E5ECF6",
           "caxis": {
            "gridcolor": "white",
            "linecolor": "white",
            "ticks": ""
           }
          },
          "title": {
           "x": 0.05
          },
          "xaxis": {
           "automargin": true,
           "gridcolor": "white",
           "linecolor": "white",
           "ticks": "",
           "title": {
            "standoff": 15
           },
           "zerolinecolor": "white",
           "zerolinewidth": 2
          },
          "yaxis": {
           "automargin": true,
           "gridcolor": "white",
           "linecolor": "white",
           "ticks": "",
           "title": {
            "standoff": 15
           },
           "zerolinecolor": "white",
           "zerolinewidth": 2
          }
         }
        },
        "title": {
         "text": "Named Entity Visualization",
         "x": 0.5
        },
        "width": 800,
        "xaxis": {
         "constrain": "domain",
         "showgrid": false,
         "showticklabels": false,
         "zeroline": false
        },
        "yaxis": {
         "scaleanchor": "x",
         "scaleratio": 1,
         "showgrid": false,
         "showticklabels": false,
         "zeroline": false
        }
       }
      }
     },
     "metadata": {},
     "output_type": "display_data"
    }
   ],
   "source": [
    "import spacy\n",
    "import plotly.graph_objects as go\n",
    "\n",
    "# Load spaCy's pre-trained English language model\n",
    "nlp = spacy.load('en_core_web_sm')\n",
    "\n",
    "# Define a text string to analyze\n",
    "text = \"Apple was founded by Steve Jobs and Steve Wozniak in April 1976. The company is headquartered in Cupertino, California.\"\n",
    "\n",
    "# Use spaCy to extract named entities from the text\n",
    "doc = nlp(text)\n",
    "entities = [(ent.text, ent.label_) for ent in doc.ents]\n",
    "\n",
    "# Create a dictionary to map entity labels to colors\n",
    "entity_colors = {'PERSON': 'salmon', 'DATE': 'lightgreen', 'GPE': 'skyblue', 'ORG': 'lightpink', 'CARDINAL': 'lavender'}\n",
    "\n",
    "# Create a dictionary to store node positions for plotting\n",
    "positions = {}\n",
    "\n",
    "# Create a plotly figure\n",
    "fig = go.Figure()\n",
    "\n",
    "# Add nodes for each named entity\n",
    "for entity in entities:\n",
    "    # Set node color based on entity label\n",
    "    node_color = entity_colors.get(entity[1], 'gray')\n",
    "    # Add node to plotly figure\n",
    "    fig.add_trace(\n",
    "        go.Scatter(\n",
    "            x=[0],\n",
    "            y=[0],\n",
    "            mode='markers',\n",
    "            marker=dict(\n",
    "                size=10,\n",
    "                color=node_color\n",
    "            ),\n",
    "            text=entity[0],\n",
    "            hoverinfo='text',\n",
    "            hovertext=f'Label: {entity[1]}'\n",
    "        )\n",
    "    )\n",
    "    # Store node position for later use\n",
    "    positions[entity[0]] = [0, 0]\n",
    "\n",
    "# Add edges between named entities\n",
    "for sent in doc.sents:\n",
    "    sent_entities = [ent.text for ent in sent.ents]\n",
    "    for i, entity in enumerate(sent_entities):\n",
    "        for j in range(i+1, len(sent_entities)):\n",
    "            if entity != sent_entities[j]:\n",
    "                fig.add_trace(\n",
    "                    go.Scatter(\n",
    "                        x=[positions[entity][0], positions[sent_entities[j]][0]],\n",
    "                        y=[positions[entity][1], positions[sent_entities[j]][1]],\n",
    "                        mode='lines',\n",
    "                        line=dict(\n",
    "                            width=1,\n",
    "                            color='gray'\n",
    "                        ),\n",
    "                        hoverinfo='none'\n",
    "                    )\n",
    "                )\n",
    "\n",
    "# Set layout options for the plotly figure\n",
    "fig.update_layout(\n",
    "    title='Named Entity Visualization',\n",
    "    title_x=0.5,\n",
    "    width=800,\n",
    "    height=600,\n",
    "    showlegend=False,\n",
    "    hovermode='closest',\n",
    "    margin=dict(b=20,l=5,r=5,t=40),\n",
    "    xaxis=dict(showgrid=False, zeroline=False, showticklabels=False),\n",
    "    yaxis=dict(showgrid=False, zeroline=False, showticklabels=False)\n",
    ")\n",
    "\n",
    "# Use plotly's force-directed layout algorithm to position nodes\n",
    "fig.update_layout(\n",
    "    xaxis=dict(constrain='domain'),\n",
    "    yaxis=dict(scaleanchor='x', scaleratio=1),\n",
    "    dragmode='pan',\n",
    "    hoverdistance=100,\n",
    "    spikedistance=100,\n",
    "    hoverlabel=dict(bgcolor='white', font_size=12, font_family='Arial'),\n",
    "    # hoveredge=dict(width=1.5),\n",
    "    hovermode='closest',\n",
    "    modebar=dict(bgcolor='white', orientation='v'),\n",
    "    annotations=[dict(text=\"Use mouse to pan & zoom, click node to expand\", showarrow=False, xref=\"paper\", yref=\"paper\", x=0.05, y=0.95)],\n",
    ")\n",
    "\n",
    "# Show the plotly figure\n",
    "fig.show()\n"
   ]
  },
  {
   "cell_type": "code",
   "execution_count": 22,
   "metadata": {},
   "outputs": [],
   "source": [
    "prompt = \"\"\"Using the context, do entity recognition of these texts using PER (person), ORG (organization), LOC (place name or location), TIME (actually date or year), and MISC (formal agreements and projects).\n",
    "\n",
    "Here are the definitions with a few examples:\n",
    "PER (person): Refers to individuals, including their names and titles.\n",
    "Example:\n",
    "- Barack Obama, former President of the United States\n",
    "- J.K. Rowling, author of the Harry Potter series\n",
    "- Elon Musk, CEO of SpaceX and Tesla\n",
    "\n",
    "\n",
    "ORG (organization): Refers to institutions, companies, government bodies, and other groups.\n",
    "Example:\n",
    "- Microsoft Corporation, a multinational technology company\n",
    "- United Nations, an intergovernmental organization\n",
    "- International Red Cross, a humanitarian organization\n",
    "\n",
    "\n",
    "LOC (place name or location): Refers to geographic locations such as countries, cities, and other landmarks.\n",
    "Example:\n",
    "- London, capital of England\n",
    "- Eiffel Tower, a landmark in Paris, France\n",
    "- Great Barrier Reef, a coral reef system in Australia\n",
    "\n",
    "\n",
    "TIME (date or year): Refers to dates, years, and other time-related expressions.\n",
    "Example:\n",
    "- January 1st, 2023, the start of a new year\n",
    "- 1995, the year Toy Story was released\n",
    "\n",
    "\n",
    "MISC (formal agreements and projects): Refers to miscellaneous named entities that don't fit into the other categories, including formal agreements, projects, and other concepts.\n",
    "Example:\n",
    "- Kyoto Protocol, an international agreement to address climate change\n",
    "- Apollo program, a series of manned spaceflight missions undertaken by NASA\n",
    "Obamacare, a healthcare reform law in the United States.\n",
    "\"\"\""
   ]
  },
  {
   "cell_type": "code",
   "execution_count": 24,
   "metadata": {},
   "outputs": [
    {
     "data": {
      "text/plain": [
       "\"Using the context, do entity recognition of these texts using PER (person), ORG (organization), LOC (place name or location), TIME (actually date or year), and MISC (formal agreements and projects).\\n\\nHere are the definitions with a few examples:\\nPER (person): Refers to individuals, including their names and titles.\\nExample:\\n- Barack Obama, former President of the United States\\n- J.K. Rowling, author of the Harry Potter series\\n- Elon Musk, CEO of SpaceX and Tesla\\n\\n\\nORG (organization): Refers to institutions, companies, government bodies, and other groups.\\nExample:\\n- Microsoft Corporation, a multinational technology company\\n- United Nations, an intergovernmental organization\\n- International Red Cross, a humanitarian organization\\n\\n\\nLOC (place name or location): Refers to geographic locations such as countries, cities, and other landmarks.\\nExample:\\n- London, capital of England\\n- Eiffel Tower, a landmark in Paris, France\\n- Great Barrier Reef, a coral reef system in Australia\\n\\n\\nTIME (date or year): Refers to dates, years, and other time-related expressions.\\nExample:\\n- January 1st, 2023, the start of a new year\\n- 1995, the year Toy Story was released\\n\\n\\nMISC (formal agreements and projects): Refers to miscellaneous named entities that don't fit into the other categories, including formal agreements, projects, and other concepts.\\nExample:\\n- Kyoto Protocol, an international agreement to address climate change\\n- Apollo program, a series of manned spaceflight missions undertaken by NASA\\nObamacare, a healthcare reform law in the United States.\\n\""
      ]
     },
     "execution_count": 24,
     "metadata": {},
     "output_type": "execute_result"
    }
   ],
   "source": [
    "prompt"
   ]
  },
  {
   "cell_type": "code",
   "execution_count": 23,
   "metadata": {},
   "outputs": [
    {
     "name": "stdout",
     "output_type": "stream",
     "text": [
      "Using the context, do entity recognition of these texts using PER (person), ORG (organization), LOC (place name or location), TIME (actually date or year), and MISC (formal agreements and projects).\n",
      "\n",
      "Here are the definitions with a few examples:\n",
      "PER (person): Refers to individuals, including their names and titles.\n",
      "Example:\n",
      "- Barack Obama, former President of the United States\n",
      "- J.K. Rowling, author of the Harry Potter series\n",
      "- Elon Musk, CEO of SpaceX and Tesla\n",
      "\n",
      "\n",
      "ORG (organization): Refers to institutions, companies, government bodies, and other groups.\n",
      "Example:\n",
      "- Microsoft Corporation, a multinational technology company\n",
      "- United Nations, an intergovernmental organization\n",
      "- International Red Cross, a humanitarian organization\n",
      "\n",
      "\n",
      "LOC (place name or location): Refers to geographic locations such as countries, cities, and other landmarks.\n",
      "Example:\n",
      "- London, capital of England\n",
      "- Eiffel Tower, a landmark in Paris, France\n",
      "- Great Barrier Reef, a coral reef system in Australia\n",
      "\n",
      "\n",
      "TIME (date or year): Refers to dates, years, and other time-related expressions.\n",
      "Example:\n",
      "- January 1st, 2023, the start of a new year\n",
      "- 1995, the year Toy Story was released\n",
      "\n",
      "\n",
      "MISC (formal agreements and projects): Refers to miscellaneous named entities that don't fit into the other categories, including formal agreements, projects, and other concepts.\n",
      "Example:\n",
      "- Kyoto Protocol, an international agreement to address climate change\n",
      "- Apollo program, a series of manned spaceflight missions undertaken by NASA\n",
      "Obamacare, a healthcare reform law in the United States.\n",
      "\n"
     ]
    }
   ],
   "source": [
    "print(prompt)"
   ]
  },
  {
   "cell_type": "code",
   "execution_count": null,
   "metadata": {},
   "outputs": [],
   "source": []
  }
 ],
 "metadata": {
  "kernelspec": {
   "display_name": "mattgpt",
   "language": "python",
   "name": "python3"
  },
  "language_info": {
   "codemirror_mode": {
    "name": "ipython",
    "version": 3
   },
   "file_extension": ".py",
   "mimetype": "text/x-python",
   "name": "python",
   "nbconvert_exporter": "python",
   "pygments_lexer": "ipython3",
   "version": "3.11.3"
  },
  "orig_nbformat": 4
 },
 "nbformat": 4,
 "nbformat_minor": 2
}
